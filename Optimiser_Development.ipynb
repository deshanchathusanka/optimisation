{
  "nbformat": 4,
  "nbformat_minor": 0,
  "metadata": {
    "colab": {
      "provenance": [],
      "collapsed_sections": [],
      "authorship_tag": "ABX9TyMyTTq8wVkmPpa1W7BB+7RM",
      "include_colab_link": true
    },
    "kernelspec": {
      "name": "python3",
      "display_name": "Python 3"
    },
    "language_info": {
      "name": "python"
    }
  },
  "cells": [
    {
      "cell_type": "markdown",
      "metadata": {
        "id": "view-in-github",
        "colab_type": "text"
      },
      "source": [
        "<a href=\"https://colab.research.google.com/github/deshanchathusanka/optimisation/blob/main/Optimiser_Development.ipynb\" target=\"_parent\"><img src=\"https://colab.research.google.com/assets/colab-badge.svg\" alt=\"Open In Colab\"/></a>"
      ]
    },
    {
      "cell_type": "code",
      "source": [
        "import numpy as np\n",
        "import doctest"
      ],
      "metadata": {
        "id": "dreNm6-yuGUu"
      },
      "execution_count": 29,
      "outputs": []
    },
    {
      "cell_type": "code",
      "source": [
        "def count(f):\n",
        "  def wrapped(*args, **kwargs):\n",
        "      wrapped.execution += 1\n",
        "      return f(*args, **kwargs)\n",
        "  wrapped.execution = 0\n",
        "  return wrapped"
      ],
      "metadata": {
        "id": "w5IVWA1-4Xqt"
      },
      "execution_count": 39,
      "outputs": []
    },
    {
      "cell_type": "code",
      "execution_count": 41,
      "metadata": {
        "colab": {
          "base_uri": "https://localhost:8080/"
        },
        "id": "7D5LatQ0e4ca",
        "outputId": "3a7d61a2-7353-4664-befc-494ca2c7524a"
      },
      "outputs": [
        {
          "output_type": "stream",
          "name": "stdout",
          "text": [
            "2\n"
          ]
        }
      ],
      "source": [
        "@count\n",
        "def f(x_np):\n",
        "  '''\n",
        "  x_np = numpy array = [x_1, x_2, x_3, x_4]\n",
        "  >>> round(f(x_np), 2)\n",
        "  11.45\n",
        "  '''\n",
        "  [x_1, x_2, x_3, x_4] = x_np\n",
        "  f_x = 1.10471*x_1*x_1*x_2 + 0.04811*x_3*x_4*(14.0 + x_2)\n",
        "  return f_x\n",
        "\n",
        "########### unit testing #############\n",
        "doctest.testmod(verbose = False)\n",
        "\n",
        "x_np = np.array([1, 2, 3, 4])\n",
        "f(x_np)\n",
        "f(x_np)\n",
        "print(f.execution)"
      ]
    }
  ]
}