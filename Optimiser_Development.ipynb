{
  "nbformat": 4,
  "nbformat_minor": 0,
  "metadata": {
    "colab": {
      "provenance": [],
      "collapsed_sections": [],
      "authorship_tag": "ABX9TyOU8H33Q0yi1O104QgLs939",
      "include_colab_link": true
    },
    "kernelspec": {
      "name": "python3",
      "display_name": "Python 3"
    },
    "language_info": {
      "name": "python"
    }
  },
  "cells": [
    {
      "cell_type": "markdown",
      "metadata": {
        "id": "view-in-github",
        "colab_type": "text"
      },
      "source": [
        "<a href=\"https://colab.research.google.com/github/deshanchathusanka/optimisation/blob/main/Optimiser_Development.ipynb\" target=\"_parent\"><img src=\"https://colab.research.google.com/assets/colab-badge.svg\" alt=\"Open In Colab\"/></a>"
      ]
    },
    {
      "cell_type": "markdown",
      "source": [
        "# 1. $\\color{Blue}{\\text{Installations}}$"
      ],
      "metadata": {
        "id": "jYt5UcD5QqSC"
      }
    },
    {
      "cell_type": "code",
      "source": [
        "import numpy as np\n",
        "import doctest\n",
        "import math"
      ],
      "metadata": {
        "id": "dreNm6-yuGUu"
      },
      "execution_count": 1,
      "outputs": []
    },
    {
      "cell_type": "markdown",
      "source": [
        "# 2. $\\color{Blue}{\\text{Task 1}}$"
      ],
      "metadata": {
        "id": "5r7-PsNdSXxl"
      }
    },
    {
      "cell_type": "markdown",
      "source": [
        "## 2.1 $\\color{Blue}{\\text{Function Counter Decorator}}$"
      ],
      "metadata": {
        "id": "S-nlUF-WSsSj"
      }
    },
    {
      "cell_type": "code",
      "source": [
        "def count(fn):\n",
        "  '''\n",
        "  This is a decorator function to count number of function executions\n",
        "  fn : function\n",
        "  '''\n",
        "  def decorated_fn(*args, **kwargs):\n",
        "    decorated_fn.execution += 1\n",
        "    return fn(*args, **kwargs)\n",
        "  decorated_fn.execution = 0\n",
        "  return decorated_fn"
      ],
      "metadata": {
        "id": "w5IVWA1-4Xqt"
      },
      "execution_count": 2,
      "outputs": []
    },
    {
      "cell_type": "markdown",
      "source": [
        "## 2.2 $\\color{Blue}{\\text{Implementations of Equations}}$"
      ],
      "metadata": {
        "id": "SV_Vap2tTIQN"
      }
    },
    {
      "cell_type": "markdown",
      "source": [
        "$\n",
        "\\color{Red}{\n",
        "\\tau' = \\frac{6000}{\\sqrt{2}x1x2}\n",
        "}\n",
        "$"
      ],
      "metadata": {
        "id": "JF1bTufBTbsS"
      }
    },
    {
      "cell_type": "code",
      "source": [
        "@count # t1 = count(t1)\n",
        "def t1(x_np):\n",
        "  '''\n",
        "  x_np = numpy array = [x1, x2, x3, x4]\n",
        "  >>> round(t1([1, 2, 3, 4]), 2)\n",
        "  2121.32\n",
        "  '''\n",
        "  [x1, x2, x3, x4] = x_np\n",
        "  t1 = 6000/(math.sqrt(2)*x1*x2)\n",
        "  return t1\n",
        "\n",
        "########### unit testing #############\n",
        "print('\\n########## Testing original functionality ##########\\n')\n",
        "doctest.testmod(verbose = True)\n",
        "\n",
        "print('\\n########## Testing execution count ############\\n')\n",
        "x_np = np.array([1, 2, 3, 4])\n",
        "t1(x_np)\n",
        "t1(x_np)\n",
        "print(f'Number of executions = {t1.execution}')"
      ],
      "metadata": {
        "colab": {
          "base_uri": "https://localhost:8080/"
        },
        "id": "EdU-Q_g7KWPQ",
        "outputId": "4e3b07fb-75ce-4b3d-dc68-e3e0278fbb71"
      },
      "execution_count": 18,
      "outputs": [
        {
          "output_type": "stream",
          "name": "stdout",
          "text": [
            "\n",
            "########## Testing original functionality ##########\n",
            "\n",
            "5 items had no tests:\n",
            "    __main__\n",
            "    __main__.count\n",
            "    __main__.f\n",
            "    __main__.t1\n",
            "    __main__.t2\n",
            "0 tests in 5 items.\n",
            "0 passed and 0 failed.\n",
            "Test passed.\n",
            "\n",
            "########## Testing execution count ############\n",
            "\n",
            "Number of executions = 2\n"
          ]
        }
      ]
    },
    {
      "cell_type": "code",
      "source": [
        "@count # t2 = count(t2)\n",
        "def t2(x_np):\n",
        "  '''\n",
        "  x_np = numpy array = [x1, x2, x3, x4]\n",
        "  >>> round(t2([1, 2, 3, 4]), 2)\n",
        "  2121.32\n",
        "  '''\n",
        "  [x1, x2, x3, x4] = x_np\n",
        "  numerator = 6000*(14+0.5*x2)*math.sqrt(0.25*(x2**2 + (x1+x3)**2))\n",
        "  denominator = 2*(0.707*x1*x2*((x2**2/12) + 0.25*((x1+x3)**2))) \n",
        "\n",
        "  if denominator == 0 :\n",
        "    raise RuntimeWarning(\"Error\")\n",
        "\n",
        "  t2 = numerator/denominator\n",
        "  return t2\n",
        "\n",
        "########### unit testing #############\n",
        "print('\\n########## Testing original functionality ##########\\n')\n",
        "doctest.testmod(verbose = True)\n",
        "\n",
        "print('\\n########## Testing execution count ############\\n')\n",
        "x_np = np.array([1, 2, 3, 4])\n",
        "t2(x_np)\n",
        "t2(x_np)\n",
        "t2(x_np)\n",
        "print(f'Number of executions = {t2.execution}')"
      ],
      "metadata": {
        "colab": {
          "base_uri": "https://localhost:8080/"
        },
        "id": "K3HjZWg9VwZp",
        "outputId": "ea846836-567e-4ca8-d6b1-db8d7aa61f68"
      },
      "execution_count": 15,
      "outputs": [
        {
          "output_type": "stream",
          "name": "stdout",
          "text": [
            "\n",
            "########## Testing original functionality ##########\n",
            "\n",
            "4 items had no tests:\n",
            "    __main__\n",
            "    __main__.count\n",
            "    __main__.t1\n",
            "    __main__.t2\n",
            "0 tests in 4 items.\n",
            "0 passed and 0 failed.\n",
            "Test passed.\n",
            "\n",
            "########## Testing execution count ############\n",
            "\n",
            "Number of executions = 3\n"
          ]
        }
      ]
    },
    {
      "cell_type": "markdown",
      "source": [
        "$\n",
        "\\color{Red}{\n",
        "f(x) = 1.10471 x1^2 x2 + 0.04811x3x4(14.0 + x2)\n",
        "}\n",
        "$"
      ],
      "metadata": {
        "id": "ufCdQkBeUyYQ"
      }
    },
    {
      "cell_type": "code",
      "execution_count": 16,
      "metadata": {
        "colab": {
          "base_uri": "https://localhost:8080/"
        },
        "id": "7D5LatQ0e4ca",
        "outputId": "36f97c88-fd60-4d19-868f-d846a630f195"
      },
      "outputs": [
        {
          "output_type": "stream",
          "name": "stdout",
          "text": [
            "\n",
            "########## Testing original functionality ##########\n",
            "\n",
            "5 items had no tests:\n",
            "    __main__\n",
            "    __main__.count\n",
            "    __main__.f\n",
            "    __main__.t1\n",
            "    __main__.t2\n",
            "0 tests in 5 items.\n",
            "0 passed and 0 failed.\n",
            "Test passed.\n",
            "\n",
            "########## Testing execution count ############\n",
            "\n",
            "Number of executions = 2\n"
          ]
        }
      ],
      "source": [
        "@count # f = count(f)\n",
        "def f(x_np):\n",
        "  '''\n",
        "  x_np = numpy array = [x1, x2, x3, x4]\n",
        "  >>> round(f([1, 2, 3, 4]), 2)\n",
        "  11.45\n",
        "  '''\n",
        "  [x1, x2, x3, x4] = x_np\n",
        "  f_x = 1.10471*x1*x1*x2 + 0.04811*x3*x4*(14.0 + x2)\n",
        "  return f_x\n",
        "\n",
        "########### unit testing #############\n",
        "print('\\n########## Testing original functionality ##########\\n')\n",
        "doctest.testmod(verbose = True)\n",
        "\n",
        "print('\\n########## Testing execution count ############\\n')\n",
        "x_np = np.array([1, 2, 3, 4])\n",
        "f(x_np)\n",
        "f(x_np)\n",
        "print(f'Number of executions = {f.execution}')"
      ]
    }
  ]
}