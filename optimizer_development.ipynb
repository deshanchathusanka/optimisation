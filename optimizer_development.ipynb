{
  "cells": [
    {
      "cell_type": "markdown",
      "metadata": {
        "id": "view-in-github",
        "colab_type": "text"
      },
      "source": [
        "<a href=\"https://colab.research.google.com/github/deshanchathusanka/optimisation/blob/main/optimizer_development.ipynb\" target=\"_parent\"><img src=\"https://colab.research.google.com/assets/colab-badge.svg\" alt=\"Open In Colab\"/></a>"
      ]
    },
    {
      "cell_type": "markdown",
      "metadata": {
        "id": "jYt5UcD5QqSC"
      },
      "source": [
        "# 1. $\\color{Blue}{\\text{Installations}}$"
      ]
    },
    {
      "cell_type": "code",
      "execution_count": null,
      "metadata": {
        "id": "dreNm6-yuGUu"
      },
      "outputs": [],
      "source": [
        "import numpy as np\n",
        "import doctest\n",
        "import math\n",
        "import time\n",
        "import matplotlib.pyplot as plt\n",
        "\n",
        "from scipy.stats import truncnorm\n",
        "from scipy.stats import kstest\n",
        "from scipy import stats"
      ]
    },
    {
      "cell_type": "markdown",
      "metadata": {
        "id": "5r7-PsNdSXxl"
      },
      "source": [
        "# 2. $\\color{Blue}{\\text{Function Definitions}}$"
      ]
    },
    {
      "cell_type": "markdown",
      "metadata": {
        "id": "S-nlUF-WSsSj"
      },
      "source": [
        "## 2.1 $\\color{Blue}{\\text{Function Counter Decorator}}$"
      ]
    },
    {
      "cell_type": "code",
      "execution_count": null,
      "metadata": {
        "id": "w5IVWA1-4Xqt"
      },
      "outputs": [],
      "source": [
        "def count(fn):\n",
        "  '''\n",
        "  This is a decorator function to count number of function executions\n",
        "  fn : function\n",
        "  '''\n",
        "  def decorated_fn(*args, **kwargs):\n",
        "    decorated_fn.execution += 1\n",
        "    return fn(*args, **kwargs)\n",
        "  decorated_fn.execution = 0\n",
        "  return decorated_fn"
      ]
    },
    {
      "cell_type": "markdown",
      "metadata": {
        "id": "SV_Vap2tTIQN"
      },
      "source": [
        "## 2.2 $\\color{Blue}{\\text{Implementations of Equations}}$"
      ]
    },
    {
      "cell_type": "markdown",
      "metadata": {
        "id": "ufCdQkBeUyYQ"
      },
      "source": [
        "### 2.2.1 $\\color{Red}{f(x) = 1.10471 x1^2 x2 + 0.04811x3x4(14.0 + x2)}$"
      ]
    },
    {
      "cell_type": "code",
      "execution_count": null,
      "metadata": {
        "colab": {
          "base_uri": "https://localhost:8080/"
        },
        "id": "7D5LatQ0e4ca",
        "outputId": "efed91c6-da57-4959-f27a-d176ce6c83dd"
      },
      "outputs": [
        {
          "output_type": "stream",
          "name": "stdout",
          "text": [
            "\n",
            "########## Testing execution count ############\n",
            "\n",
            "Number of executions = 2\n"
          ]
        }
      ],
      "source": [
        "@count # f = count(f)\n",
        "def f(x_np):\n",
        "  '''\n",
        "  x_np = numpy array = [x1, x2, x3, x4]\n",
        "  '''\n",
        "  [x1, x2, x3, x4] = x_np\n",
        "  f_x = 1.10471*x1*x1*x2 + 0.04811*x3*x4*(14.0 + x2)\n",
        "  return f_x\n",
        "\n",
        "########### unit testing #############\n",
        "print('\\n########## Testing execution count ############\\n')\n",
        "x_np = np.array([1, 2, 3, 4])\n",
        "f(x_np)\n",
        "f(x_np)\n",
        "print(f'Number of executions = {f.execution}')"
      ]
    },
    {
      "cell_type": "markdown",
      "metadata": {
        "id": "JF1bTufBTbsS"
      },
      "source": [
        "### 2.2.2 ${\\color{Blue}{\\tau' = \\frac{6000}{\\sqrt{2}x1x2}}}$"
      ]
    },
    {
      "cell_type": "code",
      "execution_count": null,
      "metadata": {
        "colab": {
          "base_uri": "https://localhost:8080/"
        },
        "id": "EdU-Q_g7KWPQ",
        "outputId": "2b68fdb0-4449-4fd6-c712-f54fd791dddc"
      },
      "outputs": [
        {
          "output_type": "stream",
          "name": "stdout",
          "text": [
            "\n",
            "########## Testing execution count ############\n",
            "\n",
            "Number of executions = 2\n"
          ]
        }
      ],
      "source": [
        "@count # t1 = count(t1)\n",
        "def t1(x_np):\n",
        "  '''\n",
        "  x_np = numpy array = [x1, x2, x3, x4]\n",
        "  '''\n",
        "  [x1, x2, x3, x4] = x_np\n",
        "  _t1 = 6000/(math.sqrt(2)*x1*x2)\n",
        "  return _t1\n",
        "\n",
        "########### unit testing #############\n",
        "print('\\n########## Testing execution count ############\\n')\n",
        "x_np = np.array([1, 2, 3, 4])\n",
        "t1(x_np)\n",
        "t1(x_np)\n",
        "print(f'Number of executions = {t1.execution}')\n",
        "\n",
        "assert round(t1(x_np), 2) == 2121.32"
      ]
    },
    {
      "cell_type": "markdown",
      "metadata": {
        "id": "NFwooOyYjLUx"
      },
      "source": [
        "### 2.2.3 $\\color{Blue}{\\tau'' = \\frac{6000(14+0.5x_2)\\sqrt{0.25(x_2^2+(x_1+x_3)^2)}}{2(0.707x_1x_2(\\frac{x_2^2}{12}+0.25(x_1+x_3)^2))}}$"
      ]
    },
    {
      "cell_type": "code",
      "execution_count": null,
      "metadata": {
        "colab": {
          "base_uri": "https://localhost:8080/"
        },
        "id": "K3HjZWg9VwZp",
        "outputId": "956594a0-7179-4a6b-fa25-d96c8537f84f"
      },
      "outputs": [
        {
          "output_type": "stream",
          "name": "stdout",
          "text": [
            "\n",
            "########## Testing execution count ############\n",
            "\n",
            "Number of executions = 3\n"
          ]
        }
      ],
      "source": [
        "@count # t2 = count(t2)\n",
        "def t2(x_np):\n",
        "  '''\n",
        "  x_np = numpy array = [x1, x2, x3, x4]\n",
        "  '''\n",
        "  [x1, x2, x3, x4] = x_np\n",
        "  numerator = 6000*(14 + 0.5*x2)*math.sqrt(0.25*(x2**2 + (x1+x3)**2))\n",
        "  denominator = 2*(0.707*x1*x2*(((x2**2)/12) + 0.25*((x1+x3)**2))) \n",
        "\n",
        "  if denominator == 0 :\n",
        "    raise RuntimeWarning(\"Error\")\n",
        "\n",
        "  _t2 = numerator/denominator\n",
        "  return _t2\n",
        "\n",
        "########### unit testing #############\n",
        "print('\\n########## Testing execution count ############\\n')\n",
        "x_np = np.array([1, 2, 3, 4])\n",
        "t2(x_np)\n",
        "t2(x_np)\n",
        "t2(x_np)\n",
        "print(f'Number of executions = {t2.execution}')\n",
        "\n",
        "assert round(t2(x_np)) == 16422.00"
      ]
    },
    {
      "cell_type": "markdown",
      "metadata": {
        "id": "DywWyjP5qIw2"
      },
      "source": [
        "### 2.2.4 $\\color{Blue}{\\tau = \\sqrt{(\\tau'^2+\\tau''^2) + \\frac{x_2\\tau'\\tau''}{\\sqrt{0.25(x_2^2 + (x_1 + x_3)^2)}}}}$"
      ]
    },
    {
      "cell_type": "code",
      "execution_count": null,
      "metadata": {
        "colab": {
          "base_uri": "https://localhost:8080/"
        },
        "id": "vuw-K2Cjru9S",
        "outputId": "e3a01803-2cb9-4ea6-f7c6-cfeeadaf52e4"
      },
      "outputs": [
        {
          "output_type": "stream",
          "name": "stdout",
          "text": [
            "\n",
            "########## Testing execution count ############\n",
            "\n",
            "Number of executions = 3\n"
          ]
        }
      ],
      "source": [
        "@count\n",
        "def t(x_np):\n",
        "  '''\n",
        "  x_np = numpy array = [x1, x2, x3, x4]\n",
        "  '''\n",
        "  [x1, x2, x3, x4] = x_np\n",
        "  _t1 = t1(x_np)\n",
        "  _t2 = t2(x_np)\n",
        "  _t = math.sqrt((_t1**2 + _t2**2) \n",
        "  + ((x2*_t1*_t2)/math.sqrt(0.25*(x2**2 + (x1 + x3)**2))))\n",
        "\n",
        "  return _t\n",
        "\n",
        "########### unit testing #############\n",
        "print('\\n########## Testing execution count ############\\n')\n",
        "x_np = np.array([1, 2, 3, 4])\n",
        "t(x_np)\n",
        "t(x_np)\n",
        "t(x_np)\n",
        "print(f'Number of executions = {t.execution}')\n",
        "\n",
        "_t = t(x_np)\n",
        "assert round(_t, 2) == 17474.00, 'functional issue'"
      ]
    },
    {
      "cell_type": "markdown",
      "metadata": {
        "id": "uB1w2d9-9yJ3"
      },
      "source": [
        "### 2.2.5 $\\color{Blue}{\\sigma = \\frac{504000}{x_3^2x_4}}$"
      ]
    },
    {
      "cell_type": "code",
      "execution_count": null,
      "metadata": {
        "colab": {
          "base_uri": "https://localhost:8080/"
        },
        "id": "vsvs8JyI53lo",
        "outputId": "80849913-7941-462e-96b7-771a68ae76b4"
      },
      "outputs": [
        {
          "output_type": "stream",
          "name": "stdout",
          "text": [
            "\n",
            "########## Testing execution count ############\n",
            "\n",
            "Number of executions = 3\n"
          ]
        }
      ],
      "source": [
        "@count\n",
        "def sigmaf(x_np):\n",
        "  '''\n",
        "  x_np = numpy array = [x1, x2, x3, x4]\n",
        "  '''\n",
        "  [x1, x2, x3, x4] = x_np\n",
        "  _sigma = 504000/((x3**2)*x4)\n",
        "\n",
        "  return _sigma\n",
        "\n",
        "########### unit testing #############\n",
        "print('\\n########## Testing execution count ############\\n')\n",
        "x_np = np.array([1, 2, 3, 4])\n",
        "sigmaf(x_np)\n",
        "sigmaf(x_np)\n",
        "sigmaf(x_np)\n",
        "print(f'Number of executions = {sigmaf.execution}')\n",
        "\n",
        "assert round(sigmaf(x_np)) == 14000, 'functional issue'"
      ]
    },
    {
      "cell_type": "markdown",
      "metadata": {
        "id": "hx1JaLB6-aeq"
      },
      "source": [
        "### 2.2.6 $\\color{Blue}{p = 64746.022(1 - 0.0282346x_3)x_3x_4^3}$"
      ]
    },
    {
      "cell_type": "code",
      "execution_count": null,
      "metadata": {
        "colab": {
          "base_uri": "https://localhost:8080/"
        },
        "id": "fL_1TPgb7Bpy",
        "outputId": "8d0ca702-9a08-4e8d-bba0-6aa4ba786161"
      },
      "outputs": [
        {
          "output_type": "stream",
          "name": "stdout",
          "text": [
            "\n",
            "########## Testing execution count ############\n",
            "\n",
            "Number of executions = 3\n"
          ]
        }
      ],
      "source": [
        "@count\n",
        "def p(x_np):\n",
        "  '''\n",
        "  x_np = numpy array = [x1, x2, x3, x4]\n",
        "  '''\n",
        "  [x1, x2, x3, x4] = x_np\n",
        "  _p = 64746.022*(1 - 0.0282346*x3)*x3*(x4**3)\n",
        "\n",
        "  return _p\n",
        "\n",
        "########### unit testing #############\n",
        "print('\\n########## Testing execution count ############\\n')\n",
        "x_np = np.array([1, 2, 3, 4])\n",
        "p(x_np)\n",
        "p(x_np)\n",
        "p(x_np)\n",
        "print(f'Number of executions = {p.execution}')\n",
        "\n",
        "assert round(p(x_np), 2) == 11378263.28, 'functional issue'"
      ]
    },
    {
      "cell_type": "markdown",
      "metadata": {
        "id": "NiAK1YgQBCLK"
      },
      "source": [
        "### 2.2.7 $\\color{Red}{g_1(x) = 13600 - \\tau(x)}$"
      ]
    },
    {
      "cell_type": "code",
      "execution_count": null,
      "metadata": {
        "colab": {
          "base_uri": "https://localhost:8080/"
        },
        "id": "e5fpwjQB_ldN",
        "outputId": "7c78a4dd-38bf-4168-d787-a0bd7adb0cd3"
      },
      "outputs": [
        {
          "output_type": "stream",
          "name": "stdout",
          "text": [
            "\n",
            "########## Testing execution count ############\n",
            "\n",
            "Number of executions = 3\n"
          ]
        }
      ],
      "source": [
        "@count\n",
        "def g1(x_np):\n",
        "  '''\n",
        "  x_np = numpy array = [x1, x2, x3, x4]\n",
        "  '''\n",
        "  _t = t(x_np)\n",
        "  _g1 = 13600 - _t\n",
        "\n",
        "  return _g1\n",
        "\n",
        "########### unit testing #############\n",
        "print('\\n########## Testing execution count ############\\n')\n",
        "x_np = np.array([1, 2, 3, 4])\n",
        "g1(x_np)\n",
        "g1(x_np)\n",
        "g1(x_np)\n",
        "print(f'Number of executions = {g1.execution}')\n",
        "\n",
        "assert round(g1(x_np), 2) == -3874, 'functional issue'"
      ]
    },
    {
      "cell_type": "markdown",
      "source": [
        "### 2.2.8 $\\color{Red}{g_2(x)=30000-σ(x)}$"
      ],
      "metadata": {
        "id": "vIeXIe2xmP8k"
      }
    },
    {
      "cell_type": "code",
      "execution_count": null,
      "metadata": {
        "colab": {
          "base_uri": "https://localhost:8080/"
        },
        "id": "f_0x7pZMBtm_",
        "outputId": "4f2914ad-373d-4e0e-f7d2-cfad5854b3ac"
      },
      "outputs": [
        {
          "output_type": "stream",
          "name": "stdout",
          "text": [
            "\n",
            "########## Testing execution count ############\n",
            "\n",
            "Number of executions = 3\n"
          ]
        }
      ],
      "source": [
        "@count\n",
        "def g2(x_np):\n",
        "  _sigma = sigmaf(x_np)\n",
        "  _g2 = 30000 - _sigma\n",
        "\n",
        "  return _g2\n",
        "\n",
        "\n",
        "########### unit testing #############\n",
        "print('\\n########## Testing execution count ############\\n')\n",
        "x_np = np.array([1, 2, 3, 4])\n",
        "g2(x_np)\n",
        "g2(x_np)\n",
        "g2(x_np)\n",
        "print(f'Number of executions = {g2.execution}')\n",
        "\n",
        "assert round(g2(x_np), 2) == 16000, 'functional issue'"
      ]
    },
    {
      "cell_type": "markdown",
      "source": [
        "### 2.2.9 $\\color{Red}{g_3(x) = x_4-x_1}$"
      ],
      "metadata": {
        "id": "aTSsnGfmmhdz"
      }
    },
    {
      "cell_type": "code",
      "execution_count": null,
      "metadata": {
        "colab": {
          "base_uri": "https://localhost:8080/"
        },
        "id": "XDVo_xmrGNXB",
        "outputId": "880390bf-0fa7-4e83-948e-98515fe44ef3"
      },
      "outputs": [
        {
          "output_type": "stream",
          "name": "stdout",
          "text": [
            "\n",
            "########## Testing execution count ############\n",
            "\n",
            "Number of executions = 3\n"
          ]
        }
      ],
      "source": [
        "@count\n",
        "def g3(x_np):\n",
        "  [x1, x2, x3, x4] = x_np\n",
        "  _g3 = x4 - x1\n",
        "  return _g3\n",
        "\n",
        "########### unit testing #############\n",
        "print('\\n########## Testing execution count ############\\n')\n",
        "x_np = np.array([1, 2, 3, 4])\n",
        "g3(x_np)\n",
        "g3(x_np)\n",
        "g3(x_np)\n",
        "print(f'Number of executions = {g3.execution}')\n",
        "\n",
        "assert round(g3(x_np)) == 3, 'functional issue'"
      ]
    },
    {
      "cell_type": "markdown",
      "source": [
        "### 2.2.10 $\\color{Red}{g_4(x)=p-6000}$"
      ],
      "metadata": {
        "id": "Xs4HMwaYmvSE"
      }
    },
    {
      "cell_type": "code",
      "execution_count": null,
      "metadata": {
        "colab": {
          "base_uri": "https://localhost:8080/"
        },
        "id": "PfIGxoDZG6BZ",
        "outputId": "6650c491-67ac-44a1-c12c-f81c8f914ff7"
      },
      "outputs": [
        {
          "output_type": "stream",
          "name": "stdout",
          "text": [
            "\n",
            "########## Testing execution count ############\n",
            "\n",
            "Number of executions = 3\n"
          ]
        }
      ],
      "source": [
        "@count\n",
        "def g4(x_np):\n",
        "  _p = p(x_np)\n",
        "  _g4 = _p - 6000\n",
        "\n",
        "  return _g4\n",
        "\n",
        "########### unit testing #############\n",
        "print('\\n########## Testing execution count ############\\n')\n",
        "x_np = np.array([1, 2, 3, 4])\n",
        "g4(x_np)\n",
        "g4(x_np)\n",
        "g4(x_np)\n",
        "print(f'Number of executions = {g4.execution}')\n",
        "\n",
        "assert round(g4(x_np), 2) == 11372263.28, 'functional issue'"
      ]
    },
    {
      "cell_type": "code",
      "source": [
        "x = np.array([1.05, 3.15, 4.43, 7.87])\n",
        "print('Objective Function Output : ', f(x))\n",
        "print('First Constraint Function Output : ', g1(x))\n",
        "print('Second Constraint Function Output : ', g2(x))\n",
        "print('Third Constraint Function Output : ', g3(x))\n",
        "print('Forth Constraint Function Output : ', g4(x))\n",
        "\n",
        "assert round(f(x), 3) == 32.602\n",
        "assert round(g1(x), 3) == 5308.849\n",
        "assert round(g2(x), 3) == 26736.7650\n",
        "assert round(g3(x), 3) == 6.82\n",
        "assert round(g4(x), 3) == 122317448.614"
      ],
      "metadata": {
        "colab": {
          "base_uri": "https://localhost:8080/"
        },
        "id": "cX8155JwrFxK",
        "outputId": "2033f8c9-ae10-45d1-a021-ab5c7b9d2efe"
      },
      "execution_count": null,
      "outputs": [
        {
          "output_type": "stream",
          "name": "stdout",
          "text": [
            "Objective Function Output :  32.6024179859\n",
            "First Constraint Function Output :  5308.848564674312\n",
            "Second Constraint Function Output :  26736.764990548952\n",
            "Third Constraint Function Output :  6.82\n",
            "Forth Constraint Function Output :  122317448.61430933\n"
          ]
        }
      ]
    },
    {
      "cell_type": "markdown",
      "metadata": {
        "id": "foN9nunhJXYL"
      },
      "source": [
        "# 3 $\\color{Blue}{\\text{Constraints}}$"
      ]
    },
    {
      "cell_type": "markdown",
      "metadata": {
        "id": "3V_guczoKju3"
      },
      "source": [
        "\n",
        "\n",
        "1. $\\color{Red}{g_1(x), g_2(x), g_3(x), g_4(x) \\ge 0}$\n",
        "2. $\\color{Red}{x_1,x_2 \\in [0.125, 5]}$\n",
        "3. $\\color{Red}{x_3, x_4 \\in [0.1, 10]}$\n",
        "\n"
      ]
    },
    {
      "cell_type": "code",
      "execution_count": null,
      "metadata": {
        "colab": {
          "base_uri": "https://localhost:8080/"
        },
        "id": "H-1ffE35cO_9",
        "outputId": "92d6eea6-9ffb-464f-9f87-438b98cf461e"
      },
      "outputs": [
        {
          "output_type": "stream",
          "name": "stdout",
          "text": [
            "47.98466\n"
          ]
        }
      ],
      "source": [
        "def pi_static(x_np, r, beta):\n",
        "  _pi_static = f(x_np) + r*abs((min(0, g1(x_np))**beta)) + r*abs((min(0, g2(x_np))**beta)) + r*abs((min(0, g3(x_np))**beta)) + r*abs((min(0, g4(x_np))**beta))\n",
        "  return _pi_static\n",
        "\n",
        "########### unit testing #############\n",
        "x_np = [2, 4, 5, 7]\n",
        "print(pi_static(x_np, 30, 2))"
      ]
    },
    {
      "cell_type": "markdown",
      "metadata": {
        "id": "TPDzzQPMIqTe"
      },
      "source": [
        "# 4. $\\color{Blue}{\\text{Random Search}}$"
      ]
    },
    {
      "cell_type": "code",
      "execution_count": null,
      "metadata": {
        "colab": {
          "base_uri": "https://localhost:8080/"
        },
        "id": "beJ2Yf127Axr",
        "outputId": "baf46e05-b644-4651-8279-577606b7c7c4"
      },
      "outputs": [
        {
          "output_type": "stream",
          "name": "stdout",
          "text": [
            "Optimal Value : [0.86862444 2.00275362 5.390651   1.11732181]\n",
            "Minimum Function Value : 6.306454317204764\n",
            "Execution Time : 27.38ms\n"
          ]
        }
      ],
      "source": [
        "def random_search(no_samples, lb, ub):\n",
        "  '''\n",
        "  no_samples = Number of samples\n",
        "  Description = Implementation of Random Search\n",
        "  '''\n",
        "  ############### generate samples ##############\n",
        "  x_np_candidates = np.random.uniform(low = lb, high = ub, size = (no_samples, 4))\n",
        "\n",
        "  ################ execute random search with selected candidates ###############\n",
        "  # f_values = [f(x_np) for x_np in x_np_candidates]\n",
        "  f_values = [pi_static(x_np, 20, 1) for x_np in x_np_candidates]\n",
        "  f_min_index = np.argmin(f_values)\n",
        "  x_np_min = x_np_candidates[f_min_index]\n",
        "  f_min = f_values[f_min_index]\n",
        "  return x_np_min, f_min\n",
        "\n",
        "start = time.perf_counter()\n",
        "n_samples = 1000\n",
        "lb, ub = np.array([0.125, 0.125, 0.1, 0.1]), np.array([5, 5, 10, 10])\n",
        "[x_np_min, f_min] = random_search(n_samples, lb, ub) \n",
        "end = time.perf_counter()\n",
        "\n",
        "print(f'Optimal Value : {x_np_min}')\n",
        "print(f'Minimum Function Value : {f_min}')\n",
        "print(f'Execution Time : {round((end - start)*1000, 2)}ms')\n",
        "\n",
        "assert f.execution < 10000\n",
        "assert g1.execution < 10000\n",
        "assert g2.execution < 10000\n",
        "assert g3.execution < 10000\n",
        "assert g4.execution < 10000"
      ]
    },
    {
      "cell_type": "code",
      "execution_count": null,
      "metadata": {
        "colab": {
          "base_uri": "https://localhost:8080/"
        },
        "id": "DA8P2rDgvm1z",
        "outputId": "03577031-f084-4304-86bb-5d52950993d2"
      },
      "outputs": [
        {
          "output_type": "stream",
          "name": "stdout",
          "text": [
            "Execution Time : 499.91ms\n",
            "Minimum Cost : 3.9283117177267988\n",
            "Minimum Cost Param : [0.4451426  3.49996622 7.09491736 0.52937689]\n"
          ]
        },
        {
          "output_type": "stream",
          "name": "stderr",
          "text": [
            "<ipython-input-34-c2f97bc24582>:5: VisibleDeprecationWarning: Creating an ndarray from ragged nested sequences (which is a list-or-tuple of lists-or-tuples-or ndarrays with different lengths or shapes) is deprecated. If you meant to do this, you must specify 'dtype=object' when creating the ndarray.\n",
            "  random_search_repeat_results = np.array([random_search(n_samples, lb, ub) for i in range(n_repeat)])\n"
          ]
        }
      ],
      "source": [
        "n_repeat = 21\n",
        "n_samples = 1000\n",
        "lb, ub = np.array([0.125, 0.125, 0.1, 0.1]), np.array([5, 5, 10, 10])\n",
        "start = time.perf_counter()\n",
        "random_search_repeat_results = np.array([random_search(n_samples, lb, ub) for i in range(n_repeat)])\n",
        "end = time.perf_counter()\n",
        "\n",
        "min_cost_param_index = np.argmin(random_search_repeat_results[:, -1])\n",
        "min_cost_param = random_search_repeat_results[min_cost_param_index][0]\n",
        "min_cost = random_search_repeat_results[min_cost_param_index][1]\n",
        "print(f'Execution Time : {round((end - start)*1000, 2)}ms')\n",
        "print(f'Minimum Cost : {min_cost}')\n",
        "print(f'Minimum Cost Param : {min_cost_param}')\n",
        "\n",
        "assert len(random_search_repeat_results) == 21\n",
        "# assert g1.execution < 10000, f'g1(x) has been executed more than allowed: {g1.execution}'"
      ]
    },
    {
      "cell_type": "code",
      "source": [
        "assert g1(min_cost_param)>0\n",
        "assert g2(min_cost_param)>0\n",
        "assert g3(min_cost_param)>0\n",
        "assert g4(min_cost_param)>0"
      ],
      "metadata": {
        "id": "Z0F6Z0pkDmGC"
      },
      "execution_count": null,
      "outputs": []
    },
    {
      "cell_type": "code",
      "execution_count": null,
      "metadata": {
        "id": "CmJalfl7xo3F"
      },
      "outputs": [],
      "source": [
        "plt.figure()\n",
        "plt.boxplot(random_search_repeat_results[:, -1])\n",
        "plt.show()"
      ]
    },
    {
      "cell_type": "markdown",
      "metadata": {
        "id": "T83PzBUq0blk"
      },
      "source": [
        "# 5. $\\color{Blue}{\\text{Simulated Annealing}}$"
      ]
    },
    {
      "cell_type": "code",
      "source": [
        "f.execution = 0\n",
        "g1.execution = 0\n",
        "g2.execution = 0\n",
        "g3.execution = 0\n",
        "g4.execution = 0"
      ],
      "metadata": {
        "id": "ElQpqV3jTTJn"
      },
      "execution_count": null,
      "outputs": []
    },
    {
      "cell_type": "code",
      "execution_count": null,
      "metadata": {
        "id": "bZJolL81fbCC",
        "colab": {
          "base_uri": "https://localhost:8080/",
          "height": 879
        },
        "outputId": "04a6fe20-c2dd-45dd-dafa-ba8291df8d8d"
      },
      "outputs": [
        {
          "output_type": "display_data",
          "data": {
            "text/plain": [
              "<Figure size 720x1080 with 4 Axes>"
            ],
            "image/png": "[encoded data removed]"
          },
          "metadata": {
            "needs_background": "light"
          }
        }
      ],
      "source": [
        "def generate_truncate_rvs(lb, ub, mu, sigma, n_samples = 1):\n",
        "  '''\n",
        "  lb : lower bound\n",
        "  up : upper bound\n",
        "  mu : mean\n",
        "  sigma : standard deviation\n",
        "  n_samples : number of samples\n",
        "  '''\n",
        "  a = (lb - mu)/sigma\n",
        "  b = (ub - mu)/sigma\n",
        "  d = len(a)\n",
        "\n",
        "  r_normalised = truncnorm.rvs(a, b, size = (n_samples, d))\n",
        "  r_scaled = (r_normalised * sigma) + mu\n",
        "  return r_scaled\n",
        "\n",
        "\n",
        "#################### unit testing #################\n",
        "lb, ub = np.array([0.125, 0.125, 0.1, 0.1]), np.array([5, 5, 10, 10])\n",
        "mu = np.array([1, 2, 5, 6])\n",
        "sigma = np.array([1, 1, 1, 1])\n",
        "n_samples = 20000\n",
        "truncated_rvs = generate_truncate_rvs(lb, ub, mu, sigma, n_samples)\n",
        "\n",
        "plt.figure(figsize = (10, 15))\n",
        "ax = plt.subplot(4, 1, 1)\n",
        "ax.set_title('x1 (0.125:5)')\n",
        "ax.hist(truncated_rvs[:, 0], density = True)\n",
        "\n",
        "ax = plt.subplot(4, 1, 2)\n",
        "ax.set_title('x2 (0.125:5)')\n",
        "ax.hist(truncated_rvs[:, 1], density = True)\n",
        "\n",
        "ax = plt.subplot(4, 1, 3)\n",
        "ax.set_title('x3 (0.1:10)')\n",
        "ax.hist(truncated_rvs[:, 2], density = True)\n",
        "\n",
        "ax = plt.subplot(4, 1, 4)\n",
        "ax.set_title('x4 (0.1:10)')\n",
        "ax.hist(truncated_rvs[:, 3], density = True)\n",
        "plt.show()\n"
      ]
    },
    {
      "cell_type": "code",
      "source": [
        "def fast_cf(ti, k):\n",
        "  return ti/k"
      ],
      "metadata": {
        "id": "Gm86_IqjJQWX"
      },
      "execution_count": null,
      "outputs": []
    },
    {
      "cell_type": "code",
      "source": [
        "def log_cf(ti, k):\n",
        "  return ti*(np.log(2)/np.log(k+1))"
      ],
      "metadata": {
        "id": "pMLXGI1BKpfR"
      },
      "execution_count": null,
      "outputs": []
    },
    {
      "cell_type": "code",
      "execution_count": null,
      "metadata": {
        "id": "gGRO9UoKZHpY",
        "colab": {
          "base_uri": "https://localhost:8080/"
        },
        "outputId": "3803559b-d2a3-43c9-e2e9-caff90bf4e2c"
      },
      "outputs": [
        {
          "output_type": "stream",
          "name": "stdout",
          "text": [
            "Optimal value : [0.38656945 3.56949324 9.38203823 0.30376301]\n",
            "Execution Time : 181.453457913 - 180.232765959\n"
          ]
        }
      ],
      "source": [
        "def simulated_annealing(n_samples, lb, ub, cooling_fn):\n",
        "  '''\n",
        "  no_samples : Number of samples\n",
        "  Description : Implementation of simulated annealing\n",
        "  '''\n",
        "  sigma = np.array([1, 1, 1, 1])\n",
        "\n",
        "  x_best = np.random.uniform(low = lb, high = ub)\n",
        "  # y_best = f(x_best)\n",
        "  y_best = pi_static(x_best, 30, 2)\n",
        "\n",
        "  x_c = x_best\n",
        "  y_c = y_best\n",
        "\n",
        "  t_i = 100 # initial temperature\n",
        "  for k in range(n_samples):\n",
        "    t_k = cooling_fn(t_i, k+1) # fast annealing model\n",
        "    x_prime = generate_truncate_rvs(lb, ub, x_c, sigma)\n",
        "    x_prime = np.transpose(x_prime[0])\n",
        "    y_prime = f(x_prime)\n",
        "    y_prime = pi_static(x_prime, 30, 2)\n",
        "    delta_y = y_prime - y_c\n",
        "\n",
        "    p = min(np.exp(-delta_y/t_k), 1)\n",
        "    p_accepted = np.random.uniform(0, 1, 1)\n",
        "    if(delta_y <= 0) or (p_accepted < p): # exploitation and exploration\n",
        "      x_c, y_c = x_prime, y_prime\n",
        "\n",
        "    if(y_prime < y_best):\n",
        "      x_best, y_best = x_prime, y_prime\n",
        "      \n",
        "\n",
        "  return x_best, y_best\n",
        "\n",
        "n_samples = 1000\n",
        "lb, ub = [0.125, 0.125, 0.1, 0.1], [5, 5, 10, 10]\n",
        "start = time.perf_counter()\n",
        "simulated_annealing(n_samples, lb, ub, fast_cf)\n",
        "[x_np_min, f_min] = simulated_annealing(n_samples, lb, ub, fast_cf)\n",
        "end = time.perf_counter()\n",
        "\n",
        "print(f'Optimal value : {x_np_min}')\n",
        "print(f'Execution Time : {end} - {start}')\n",
        "\n",
        "assert f.execution < 10000\n",
        "assert g1.execution < 10000\n",
        "assert g2.execution < 10000\n",
        "assert g3.execution < 10000\n",
        "assert g4.execution < 10000"
      ]
    },
    {
      "cell_type": "code",
      "execution_count": null,
      "metadata": {
        "id": "O8rwsfc-Cz_2",
        "colab": {
          "base_uri": "https://localhost:8080/"
        },
        "outputId": "7f3cdada-135d-4e56-a216-b67034b8b1ee"
      },
      "outputs": [
        {
          "output_type": "stream",
          "name": "stderr",
          "text": [
            "<ipython-input-40-1ad0f54a1575>:24: RuntimeWarning: overflow encountered in exp\n",
            "  p = min(np.exp(-delta_y/t_k), 1)\n"
          ]
        },
        {
          "output_type": "stream",
          "name": "stdout",
          "text": [
            "Execution Time : 18152.63ms\n",
            "Minimum Cost : 2.611275849759678\n",
            "Minimum Cost Param : [0.34639583 4.11107938 8.07157991 0.26674496]\n"
          ]
        },
        {
          "output_type": "stream",
          "name": "stderr",
          "text": [
            "<ipython-input-41-4a5d3e7a8a2a>:5: VisibleDeprecationWarning: Creating an ndarray from ragged nested sequences (which is a list-or-tuple of lists-or-tuples-or ndarrays with different lengths or shapes) is deprecated. If you meant to do this, you must specify 'dtype=object' when creating the ndarray.\n",
            "  simulated_annealing_results = np.array([simulated_annealing(n_samples, lb, ub, fast_cf) for i in range(n_repeat)])\n"
          ]
        }
      ],
      "source": [
        "n_repeat = 21\n",
        "n_samples = 1000\n",
        "lb, ub = np.array([0.125, 0.125, 0.1, 0.1]), np.array([5, 5, 10, 10])\n",
        "start = time.perf_counter()\n",
        "simulated_annealing_results = np.array([simulated_annealing(n_samples, lb, ub, fast_cf) for i in range(n_repeat)])\n",
        "end = time.perf_counter()\n",
        "\n",
        "min_cost_param_index = np.argmin(simulated_annealing_results[:, -1])\n",
        "min_cost_param = simulated_annealing_results[min_cost_param_index][0]\n",
        "min_cost = simulated_annealing_results[min_cost_param_index][1]\n",
        "print(f'Execution Time : {round((end - start)*1000, 2)}ms')\n",
        "print(f'Minimum Cost : {min_cost}')\n",
        "print(f'Minimum Cost Param : {min_cost_param}')"
      ]
    },
    {
      "cell_type": "code",
      "execution_count": null,
      "metadata": {
        "id": "AYk-XTkNC2x9",
        "colab": {
          "base_uri": "https://localhost:8080/",
          "height": 265
        },
        "outputId": "d138a5ca-9327-4738-b582-19f88ae3b08d"
      },
      "outputs": [
        {
          "output_type": "display_data",
          "data": {
            "text/plain": [
              "<Figure size 432x288 with 1 Axes>"
            ],
            "image/png": "[encoded data removed]"
          },
          "metadata": {
            "needs_background": "light"
          }
        }
      ],
      "source": [
        "plt.figure()\n",
        "plt.boxplot(simulated_annealing_results[:, -1])\n",
        "plt.show()"
      ]
    },
    {
      "cell_type": "markdown",
      "metadata": {
        "id": "E9NS2FtbDXzF"
      },
      "source": [
        "# 4. $\\color{Blue}{\\text{Performance Comparison}}$"
      ]
    },
    {
      "cell_type": "markdown",
      "source": [
        "## 4.1 $\\color{Blue}{\\text{Box Plot}}$"
      ],
      "metadata": {
        "id": "VK6VtMsAu7lA"
      }
    },
    {
      "cell_type": "code",
      "execution_count": null,
      "metadata": {
        "id": "YhxQ1zwjDpkQ",
        "colab": {
          "base_uri": "https://localhost:8080/",
          "height": 265
        },
        "outputId": "9113e467-9dbf-4bf8-8f05-c54688daf4ee"
      },
      "outputs": [
        {
          "output_type": "display_data",
          "data": {
            "text/plain": [
              "<Figure size 432x288 with 1 Axes>"
            ],
            "image/png": "[encoded data removed]"
          },
          "metadata": {
            "needs_background": "light"
          }
        }
      ],
      "source": [
        "plt.figure()\n",
        "plt.boxplot([random_search_repeat_results[:, -1], simulated_annealing_results[:, -1]])\n",
        "plt.xticks([1,2],['Random Search', 'Simulated Annealing'])\n",
        "plt.ylabel('Best Optimum Value')\n",
        "plt.show()"
      ]
    },
    {
      "cell_type": "markdown",
      "source": [
        "* Simulated Annearling has the minimum median cost with the narrowest interquartile distance as depicted in the boxplot. \n",
        "* Therefore, Simulated Annealing is better than Random Search for this optimisation problem considering the boxplot statistics."
      ],
      "metadata": {
        "id": "RIixdmXMxVVl"
      }
    },
    {
      "cell_type": "markdown",
      "source": [
        "## 4.2 $\\color{Blue}{\\text{Parametric Test(Kolmogorov-Smirnov)}}$"
      ],
      "metadata": {
        "id": "fIPKLNjhvH4W"
      }
    },
    {
      "cell_type": "code",
      "source": [
        "rs_dist = random_search_repeat_results[:, -1].astype(float)\n",
        "sa_dist = simulated_annealing_results[:, -1].astype(float)\n",
        "\n",
        "rs_kstest = stats.kstest(rs_dist, stats.norm.cdf)\n",
        "sa_kstest = stats.kstest(sa_dist, stats.norm.cdf)\n",
        "\n",
        "print(f'P value for [Random Search == Normal Distribution] : {rs_kstest.pvalue}')\n",
        "print(f'P value for [Simulated Annealing == Normal Distribution] : {sa_kstest.pvalue}')"
      ],
      "metadata": {
        "id": "SNuRzrxRvYfr",
        "colab": {
          "base_uri": "https://localhost:8080/"
        },
        "outputId": "4c19bc3a-5151-4ab2-a7c9-18a59144344b"
      },
      "execution_count": null,
      "outputs": [
        {
          "output_type": "stream",
          "name": "stdout",
          "text": [
            "P value for [Random Search == Normal Distribution] : 3.5926190665712e-92\n",
            "P value for [Simulated Annealing == Normal Distribution] : 1.0945939189564214e-49\n"
          ]
        }
      ]
    },
    {
      "cell_type": "markdown",
      "source": [
        "## 4.3 $\\color{Blue}{\\text{Nonparametric Statistical Test(Mann-Whitney)}}$"
      ],
      "metadata": {
        "id": "eBOsGVvdvPrF"
      }
    },
    {
      "cell_type": "markdown",
      "source": [
        "* Null Hypothesis : Simulated Annealing and Random Search have similar performance.\n",
        "* Alternative Hypothesis : Simulated Annealing outperforms Random Search(Random Search has higher value than Simulated Annearling).\n",
        "* Alpha value : 0.05"
      ],
      "metadata": {
        "id": "9hizJi3Vzxzm"
      }
    },
    {
      "cell_type": "code",
      "source": [
        "mw_test = stats.mannwhitneyu(rs_dist, sa_dist, alternative = 'greater') # null hypothesis >>> performance(random search) < performance(simulated annealing)\n",
        "print(f'P value for [performance(random search) < performance(simulated annealing)]: {mw_test.pvalue}')"
      ],
      "metadata": {
        "id": "fTExe02y2hfC",
        "colab": {
          "base_uri": "https://localhost:8080/"
        },
        "outputId": "006a07ec-f74b-4a2a-e741-f4774dc0e62a"
      },
      "execution_count": null,
      "outputs": [
        {
          "output_type": "stream",
          "name": "stdout",
          "text": [
            "P value for [performance(random search) < performance(simulated annealing)]: 1.8727292148981977e-07\n"
          ]
        }
      ]
    },
    {
      "cell_type": "markdown",
      "source": [
        "$\\color{Red}{\\text{The mann-whitney test depicts p value <<< α(0.05). Therefore, null hypothesis can be rejected. Simulated Annealing outperformed the Random Search in this optimisation problem(Random Search has a greater value than Simulated Annearling).}}$"
      ],
      "metadata": {
        "id": "hze-7NVy0dqN"
      }
    },
    {
      "cell_type": "markdown",
      "source": [
        "# 5. $\\color{Blue}{\\text{Hyperparameter Tuning}}$"
      ],
      "metadata": {
        "id": "NkjST9SwLI4u"
      }
    },
    {
      "cell_type": "code",
      "source": [
        "candidate_cooling_fn = [fast_cf, log_cf]\n",
        "performences = []\n",
        "\n",
        "for cooling_fn in candidate_cooling_fn:\n",
        "  simulated_annealing_results = np.array([simulated_annealing(n_samples, lb, ub, cooling_fn) for i in range(n_repeat)])\n",
        "  performences.append(simulated_annealing_results[:, -1])"
      ],
      "metadata": {
        "id": "d3nOm_GtLYAC",
        "colab": {
          "base_uri": "https://localhost:8080/"
        },
        "outputId": "5ee4f032-3215-4bdd-83c0-4e65bb14e33f"
      },
      "execution_count": null,
      "outputs": [
        {
          "output_type": "stream",
          "name": "stderr",
          "text": [
            "<ipython-input-40-1ad0f54a1575>:24: RuntimeWarning: overflow encountered in exp\n",
            "  p = min(np.exp(-delta_y/t_k), 1)\n",
            "<ipython-input-53-5c8625ebaa33>:5: VisibleDeprecationWarning: Creating an ndarray from ragged nested sequences (which is a list-or-tuple of lists-or-tuples-or ndarrays with different lengths or shapes) is deprecated. If you meant to do this, you must specify 'dtype=object' when creating the ndarray.\n",
            "  simulated_annealing_results = np.array([simulated_annealing(n_samples, lb, ub, cooling_fn) for i in range(n_repeat)])\n"
          ]
        }
      ]
    },
    {
      "cell_type": "code",
      "source": [
        "plt.figure()\n",
        "plt.boxplot(performences)\n",
        "plt.xticks([1, 2], ['Fast Function', 'Logarithmic Function'])\n",
        "plt.ylabel('Performance')\n",
        "plt.show()"
      ],
      "metadata": {
        "id": "AQvv5O_5M_24",
        "colab": {
          "base_uri": "https://localhost:8080/",
          "height": 265
        },
        "outputId": "13eb28ee-0444-4700-c083-e3804add2ced"
      },
      "execution_count": null,
      "outputs": [
        {
          "output_type": "display_data",
          "data": {
            "text/plain": [
              "<Figure size 432x288 with 1 Axes>"
            ],
            "image/png": "[encoded data removed]"
          },
          "metadata": {
            "needs_background": "light"
          }
        }
      ]
    },
    {
      "cell_type": "code",
      "source": [
        "fast_cf_dist = performences[0].astype(float)\n",
        "log_cf_dist = performences[1].astype(float)\n",
        "\n",
        "fast_cf_kstest = kstest(fast_cf_dist, stats.norm.cdf)\n",
        "log_cf_kstest = kstest(log_cf_dist, stats.norm.cdf)\n",
        "\n",
        "print(f'P value of [Fast Cooling Function Distribution ~ Normal Disribution] : {fast_cf_kstest.pvalue}')\n",
        "print(f'P value of [Logarithmic Cooling Function Distribution ~ Normal Disribution] : {log_cf_kstest.pvalue}')"
      ],
      "metadata": {
        "id": "s4ICp5IhNuEK",
        "colab": {
          "base_uri": "https://localhost:8080/"
        },
        "outputId": "26d24a96-4ebf-43ad-e567-686fe61dc49c"
      },
      "execution_count": null,
      "outputs": [
        {
          "output_type": "stream",
          "name": "stdout",
          "text": [
            "P value of [Fast Cooling Function Distribution ~ Normal Disribution] : 3.301816770717753e-55\n",
            "P value of [Logarithmic Cooling Function Distribution ~ Normal Disribution] : 5.359091289814628e-73\n"
          ]
        }
      ]
    },
    {
      "cell_type": "markdown",
      "source": [
        "* Null Hypothesis : Fast cooling function and Logarithmic cooling function have similar performance.\n",
        "* Alternative Hypothesis : Fast cooling function outperforms Logarithmic function.\n",
        "* Alpha value : 0.05"
      ],
      "metadata": {
        "id": "7e1eZg7u1lmo"
      }
    },
    {
      "cell_type": "code",
      "source": [
        "cf_mw_test = stats.mannwhitneyu(fast_cf_dist, log_cf_dist, alternative = 'less')\n",
        "print(f'P value of [performance(fast cooling function) > performance(logarithmic function)] : {cf_mw_test.pvalue}')"
      ],
      "metadata": {
        "id": "uHetfi4rOyNM",
        "colab": {
          "base_uri": "https://localhost:8080/"
        },
        "outputId": "55e02995-7aaf-4db8-eac1-c068f02987e4"
      },
      "execution_count": null,
      "outputs": [
        {
          "output_type": "stream",
          "name": "stdout",
          "text": [
            "P value of [performance(fast cooling function) > performance(logarithmic function)] : 0.0004914049442277145\n"
          ]
        }
      ]
    },
    {
      "cell_type": "markdown",
      "source": [
        "$\\color{Red}{\\text{The mann-whitney test depicts p value <<< α(0.05). Therefore, null hypothesis can be rejected. Fast cooling function outperforms Logarithmic cooling function in this optimisation problem(Fast colling function has a less value than Logarithmic cooling function).}}$"
      ],
      "metadata": {
        "id": "Edn09RHu17NS"
      }
    }
  ],
  "metadata": {
    "colab": {
      "collapsed_sections": [
        "S-nlUF-WSsSj",
        "ufCdQkBeUyYQ",
        "JF1bTufBTbsS",
        "NFwooOyYjLUx",
        "uB1w2d9-9yJ3",
        "hx1JaLB6-aeq"
      ],
      "provenance": [],
      "authorship_tag": "ABX9TyNizA8NbChHfARXpXHyo3MK",
      "include_colab_link": true
    },
    "kernelspec": {
      "display_name": "Python 3",
      "name": "python3"
    },
    "language_info": {
      "name": "python"
    }
  },
  "nbformat": 4,
  "nbformat_minor": 0
}