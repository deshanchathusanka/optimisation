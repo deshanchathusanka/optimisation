{
  "cells": [
    {
      "cell_type": "markdown",
      "metadata": {
        "id": "view-in-github",
        "colab_type": "text"
      },
      "source": [
        "<a href=\"https://colab.research.google.com/github/deshanchathusanka/optimisation/blob/main/optimizer_development.ipynb\" target=\"_parent\"><img src=\"https://colab.research.google.com/assets/colab-badge.svg\" alt=\"Open In Colab\"/></a>"
      ]
    },
    {
      "cell_type": "markdown",
      "metadata": {
        "id": "jYt5UcD5QqSC"
      },
      "source": [
        "# 1. $\\color{Blue}{\\text{Installations}}$"
      ]
    },
    {
      "cell_type": "code",
      "execution_count": 98,
      "metadata": {
        "id": "dreNm6-yuGUu"
      },
      "outputs": [],
      "source": [
        "import numpy as np\n",
        "import doctest\n",
        "import math\n",
        "import time\n",
        "import matplotlib.pyplot as plt\n",
        "\n",
        "from scipy.stats import truncnorm\n",
        "from scipy.stats import kstest\n",
        "from scipy import stats"
      ]
    },
    {
      "cell_type": "markdown",
      "metadata": {
        "id": "5r7-PsNdSXxl"
      },
      "source": [
        "# 2. $\\color{Blue}{\\text{Function Definitions}}$"
      ]
    },
    {
      "cell_type": "markdown",
      "metadata": {
        "id": "S-nlUF-WSsSj"
      },
      "source": [
        "## 2.1 $\\color{Blue}{\\text{Function Counter Decorator}}$"
      ]
    },
    {
      "cell_type": "code",
      "execution_count": 2,
      "metadata": {
        "id": "w5IVWA1-4Xqt"
      },
      "outputs": [],
      "source": [
        "def count(fn):\n",
        "  '''\n",
        "  This is a decorator function to count number of function executions\n",
        "  fn : function\n",
        "  '''\n",
        "  def decorated_fn(*args, **kwargs):\n",
        "    decorated_fn.execution += 1\n",
        "    return fn(*args, **kwargs)\n",
        "  decorated_fn.execution = 0\n",
        "  return decorated_fn"
      ]
    },
    {
      "cell_type": "markdown",
      "metadata": {
        "id": "SV_Vap2tTIQN"
      },
      "source": [
        "## 2.2 $\\color{Blue}{\\text{Implementations of Equations}}$"
      ]
    },
    {
      "cell_type": "markdown",
      "metadata": {
        "id": "ufCdQkBeUyYQ"
      },
      "source": [
        "### 2.2.1 $\\color{Red}{f(x) = 1.10471 x1^2 x2 + 0.04811x3x4(14.0 + x2)}$"
      ]
    },
    {
      "cell_type": "code",
      "execution_count": 3,
      "metadata": {
        "colab": {
          "base_uri": "https://localhost:8080/"
        },
        "id": "7D5LatQ0e4ca",
        "outputId": "baa74d24-061a-4756-a53b-6668b9cf0b34"
      },
      "outputs": [
        {
          "output_type": "stream",
          "name": "stdout",
          "text": [
            "\n",
            "########## Testing execution count ############\n",
            "\n",
            "Number of executions = 2\n"
          ]
        }
      ],
      "source": [
        "@count # f = count(f)\n",
        "def f(x_np):\n",
        "  '''\n",
        "  x_np = numpy array = [x1, x2, x3, x4]\n",
        "  '''\n",
        "  [x1, x2, x3, x4] = x_np\n",
        "  f_x = 1.10471*x1*x1*x2 + 0.04811*x3*x4*(14.0 + x2)\n",
        "  return f_x\n",
        "\n",
        "########### unit testing #############\n",
        "print('\\n########## Testing execution count ############\\n')\n",
        "x_np = np.array([1, 2, 3, 4])\n",
        "f(x_np)\n",
        "f(x_np)\n",
        "print(f'Number of executions = {f.execution}')"
      ]
    },
    {
      "cell_type": "markdown",
      "metadata": {
        "id": "JF1bTufBTbsS"
      },
      "source": [
        "### 2.2.2 ${\\color{Blue}{\\tau' = \\frac{6000}{\\sqrt{2}x1x2}}}$"
      ]
    },
    {
      "cell_type": "code",
      "execution_count": 4,
      "metadata": {
        "colab": {
          "base_uri": "https://localhost:8080/"
        },
        "id": "EdU-Q_g7KWPQ",
        "outputId": "fd5b3180-5a6a-4364-8123-feab5fd74e26"
      },
      "outputs": [
        {
          "output_type": "stream",
          "name": "stdout",
          "text": [
            "\n",
            "########## Testing execution count ############\n",
            "\n",
            "Number of executions = 2\n"
          ]
        }
      ],
      "source": [
        "@count # t1 = count(t1)\n",
        "def t1(x_np):\n",
        "  '''\n",
        "  x_np = numpy array = [x1, x2, x3, x4]\n",
        "  '''\n",
        "  [x1, x2, x3, x4] = x_np\n",
        "  _t1 = 6000/(math.sqrt(2)*x1*x2)\n",
        "  return _t1\n",
        "\n",
        "########### unit testing #############\n",
        "print('\\n########## Testing execution count ############\\n')\n",
        "x_np = np.array([1, 2, 3, 4])\n",
        "t1(x_np)\n",
        "t1(x_np)\n",
        "print(f'Number of executions = {t1.execution}')\n",
        "\n",
        "assert round(t1(x_np), 2) == 2121.32"
      ]
    },
    {
      "cell_type": "markdown",
      "metadata": {
        "id": "NFwooOyYjLUx"
      },
      "source": [
        "### 2.2.3 $\\color{Blue}{\\tau'' = \\frac{6000(14+0.5x_2)\\sqrt{0.25(x_2^2+(x_1+x_3)^2)}}{2(0.707x_1x_2(\\frac{x_2^2}{12}+0.25(x_1+x_3)^2))}}$"
      ]
    },
    {
      "cell_type": "code",
      "execution_count": 5,
      "metadata": {
        "colab": {
          "base_uri": "https://localhost:8080/"
        },
        "id": "K3HjZWg9VwZp",
        "outputId": "30c59ac5-6c65-4aff-b70f-c932b66a4c96"
      },
      "outputs": [
        {
          "output_type": "stream",
          "name": "stdout",
          "text": [
            "\n",
            "########## Testing execution count ############\n",
            "\n",
            "Number of executions = 3\n"
          ]
        }
      ],
      "source": [
        "@count # t2 = count(t2)\n",
        "def t2(x_np):\n",
        "  '''\n",
        "  x_np = numpy array = [x1, x2, x3, x4]\n",
        "  '''\n",
        "  [x1, x2, x3, x4] = x_np\n",
        "  numerator = 6000*(14 + 0.5*x2)*math.sqrt(0.25*(x2**2 + (x1+x3)**2))\n",
        "  denominator = 2*(0.707*x1*x2*(((x2**2)/12) + 0.25*((x1+x3)**2))) \n",
        "\n",
        "  if denominator == 0 :\n",
        "    raise RuntimeWarning(\"Error\")\n",
        "\n",
        "  _t2 = numerator/denominator\n",
        "  return _t2\n",
        "\n",
        "########### unit testing #############\n",
        "print('\\n########## Testing execution count ############\\n')\n",
        "x_np = np.array([1, 2, 3, 4])\n",
        "t2(x_np)\n",
        "t2(x_np)\n",
        "t2(x_np)\n",
        "print(f'Number of executions = {t2.execution}')\n",
        "\n",
        "assert round(t2(x_np)) == 16422.00"
      ]
    },
    {
      "cell_type": "markdown",
      "metadata": {
        "id": "DywWyjP5qIw2"
      },
      "source": [
        "### 2.2.4 $\\color{Blue}{\\tau = \\sqrt{(\\tau'^2+\\tau''^2) + \\frac{x_2\\tau'\\tau''}{\\sqrt{0.25(x_2^2 + (x_1 + x_3)^2)}}}}$"
      ]
    },
    {
      "cell_type": "code",
      "execution_count": 6,
      "metadata": {
        "colab": {
          "base_uri": "https://localhost:8080/"
        },
        "id": "vuw-K2Cjru9S",
        "outputId": "621c5dd7-fa64-4534-8853-83968be4aaef"
      },
      "outputs": [
        {
          "output_type": "stream",
          "name": "stdout",
          "text": [
            "\n",
            "########## Testing execution count ############\n",
            "\n",
            "Number of executions = 3\n"
          ]
        }
      ],
      "source": [
        "@count\n",
        "def t(x_np):\n",
        "  '''\n",
        "  x_np = numpy array = [x1, x2, x3, x4]\n",
        "  '''\n",
        "  [x1, x2, x3, x4] = x_np\n",
        "  _t1 = t1(x_np)\n",
        "  _t2 = t2(x_np)\n",
        "  _t = math.sqrt((_t1**2 + _t2**2) \n",
        "  + ((x2*_t1*_t2)/math.sqrt(0.25*(x2**2 + (x1 + x3)**2))))\n",
        "\n",
        "  return _t\n",
        "\n",
        "########### unit testing #############\n",
        "print('\\n########## Testing execution count ############\\n')\n",
        "x_np = np.array([1, 2, 3, 4])\n",
        "t(x_np)\n",
        "t(x_np)\n",
        "t(x_np)\n",
        "print(f'Number of executions = {t.execution}')\n",
        "\n",
        "_t = t(x_np)\n",
        "assert round(_t, 2) == 17474.00, 'functional issue'"
      ]
    },
    {
      "cell_type": "markdown",
      "metadata": {
        "id": "uB1w2d9-9yJ3"
      },
      "source": [
        "### 2.2.5 $\\color{Blue}{\\sigma = \\frac{504000}{x_3^2x_4}}$"
      ]
    },
    {
      "cell_type": "code",
      "execution_count": 7,
      "metadata": {
        "colab": {
          "base_uri": "https://localhost:8080/"
        },
        "id": "vsvs8JyI53lo",
        "outputId": "3f43649c-fd4b-4885-fd73-0058e9a8051f"
      },
      "outputs": [
        {
          "output_type": "stream",
          "name": "stdout",
          "text": [
            "\n",
            "########## Testing execution count ############\n",
            "\n",
            "Number of executions = 3\n"
          ]
        }
      ],
      "source": [
        "@count\n",
        "def sigmaf(x_np):\n",
        "  '''\n",
        "  x_np = numpy array = [x1, x2, x3, x4]\n",
        "  '''\n",
        "  [x1, x2, x3, x4] = x_np\n",
        "  _sigma = 504000/((x3**2)*x4)\n",
        "\n",
        "  return _sigma\n",
        "\n",
        "########### unit testing #############\n",
        "print('\\n########## Testing execution count ############\\n')\n",
        "x_np = np.array([1, 2, 3, 4])\n",
        "sigmaf(x_np)\n",
        "sigmaf(x_np)\n",
        "sigmaf(x_np)\n",
        "print(f'Number of executions = {sigmaf.execution}')\n",
        "\n",
        "assert round(sigmaf(x_np)) == 14000, 'functional issue'"
      ]
    },
    {
      "cell_type": "markdown",
      "metadata": {
        "id": "hx1JaLB6-aeq"
      },
      "source": [
        "### 2.2.6 $\\color{Blue}{p = 64746.022(1 - 0.0282346x_3)x_3x_4^3}$"
      ]
    },
    {
      "cell_type": "code",
      "execution_count": 8,
      "metadata": {
        "colab": {
          "base_uri": "https://localhost:8080/"
        },
        "id": "fL_1TPgb7Bpy",
        "outputId": "cd4e738d-aa13-42c0-b2c4-90347d38ed59"
      },
      "outputs": [
        {
          "output_type": "stream",
          "name": "stdout",
          "text": [
            "\n",
            "########## Testing execution count ############\n",
            "\n",
            "Number of executions = 3\n"
          ]
        }
      ],
      "source": [
        "@count\n",
        "def p(x_np):\n",
        "  '''\n",
        "  x_np = numpy array = [x1, x2, x3, x4]\n",
        "  '''\n",
        "  [x1, x2, x3, x4] = x_np\n",
        "  _p = 64746.022*(1 - 0.0282346*x3)*x3*(x4**3)\n",
        "\n",
        "  return _p\n",
        "\n",
        "########### unit testing #############\n",
        "print('\\n########## Testing execution count ############\\n')\n",
        "x_np = np.array([1, 2, 3, 4])\n",
        "p(x_np)\n",
        "p(x_np)\n",
        "p(x_np)\n",
        "print(f'Number of executions = {p.execution}')\n",
        "\n",
        "assert round(p(x_np), 2) == 11378263.28, 'functional issue'"
      ]
    },
    {
      "cell_type": "markdown",
      "metadata": {
        "id": "NiAK1YgQBCLK"
      },
      "source": [
        "### 2.2.7 $\\color{Red}{g_1(x) = 13600 - \\tau(x)}$"
      ]
    },
    {
      "cell_type": "code",
      "execution_count": 9,
      "metadata": {
        "colab": {
          "base_uri": "https://localhost:8080/"
        },
        "id": "e5fpwjQB_ldN",
        "outputId": "e4395e71-85f3-4f0a-b484-f88c14ddf1bd"
      },
      "outputs": [
        {
          "output_type": "stream",
          "name": "stdout",
          "text": [
            "\n",
            "########## Testing execution count ############\n",
            "\n",
            "Number of executions = 3\n"
          ]
        }
      ],
      "source": [
        "@count\n",
        "def g1(x_np):\n",
        "  '''\n",
        "  x_np = numpy array = [x1, x2, x3, x4]\n",
        "  '''\n",
        "  _t = t(x_np)\n",
        "  _g1 = 13600 - _t\n",
        "\n",
        "  return _g1\n",
        "\n",
        "########### unit testing #############\n",
        "print('\\n########## Testing execution count ############\\n')\n",
        "x_np = np.array([1, 2, 3, 4])\n",
        "g1(x_np)\n",
        "g1(x_np)\n",
        "g1(x_np)\n",
        "print(f'Number of executions = {g1.execution}')\n",
        "\n",
        "assert round(g1(x_np), 2) == -3874, 'functional issue'"
      ]
    },
    {
      "cell_type": "code",
      "execution_count": 10,
      "metadata": {
        "colab": {
          "base_uri": "https://localhost:8080/"
        },
        "id": "f_0x7pZMBtm_",
        "outputId": "6a293684-6fac-4862-a421-3991a80afb0a"
      },
      "outputs": [
        {
          "output_type": "stream",
          "name": "stdout",
          "text": [
            "\n",
            "########## Testing execution count ############\n",
            "\n",
            "Number of executions = 3\n"
          ]
        }
      ],
      "source": [
        "@count\n",
        "def g2(x_np):\n",
        "  _sigma = sigmaf(x_np)\n",
        "  _g2 = 30000 - _sigma\n",
        "\n",
        "  return _g2\n",
        "\n",
        "\n",
        "########### unit testing #############\n",
        "print('\\n########## Testing execution count ############\\n')\n",
        "x_np = np.array([1, 2, 3, 4])\n",
        "g2(x_np)\n",
        "g2(x_np)\n",
        "g2(x_np)\n",
        "print(f'Number of executions = {g2.execution}')\n",
        "\n",
        "assert round(g2(x_np), 2) == 16000, 'functional issue'"
      ]
    },
    {
      "cell_type": "code",
      "execution_count": 11,
      "metadata": {
        "colab": {
          "base_uri": "https://localhost:8080/"
        },
        "id": "XDVo_xmrGNXB",
        "outputId": "83a28e9b-2ea3-4549-9f6a-e2d5bcf7f803"
      },
      "outputs": [
        {
          "output_type": "stream",
          "name": "stdout",
          "text": [
            "\n",
            "########## Testing execution count ############\n",
            "\n",
            "Number of executions = 3\n"
          ]
        }
      ],
      "source": [
        "@count\n",
        "def g3(x_np):\n",
        "  [x1, x2, x3, x4] = x_np\n",
        "  _g3 = x4 - x1\n",
        "  return _g3\n",
        "\n",
        "########### unit testing #############\n",
        "print('\\n########## Testing execution count ############\\n')\n",
        "x_np = np.array([1, 2, 3, 4])\n",
        "g3(x_np)\n",
        "g3(x_np)\n",
        "g3(x_np)\n",
        "print(f'Number of executions = {g3.execution}')\n",
        "\n",
        "assert round(g3(x_np)) == 3, 'functional issue'"
      ]
    },
    {
      "cell_type": "code",
      "execution_count": 12,
      "metadata": {
        "colab": {
          "base_uri": "https://localhost:8080/"
        },
        "id": "PfIGxoDZG6BZ",
        "outputId": "6e7b627a-6375-460d-aeea-bcb983f84bb6"
      },
      "outputs": [
        {
          "output_type": "stream",
          "name": "stdout",
          "text": [
            "\n",
            "########## Testing execution count ############\n",
            "\n",
            "Number of executions = 3\n"
          ]
        }
      ],
      "source": [
        "@count\n",
        "def g4(x_np):\n",
        "  _p = p(x_np)\n",
        "  _g4 = _p - 6000\n",
        "\n",
        "  return _g4\n",
        "\n",
        "########### unit testing #############\n",
        "print('\\n########## Testing execution count ############\\n')\n",
        "x_np = np.array([1, 2, 3, 4])\n",
        "g4(x_np)\n",
        "g4(x_np)\n",
        "g4(x_np)\n",
        "print(f'Number of executions = {g4.execution}')\n",
        "\n",
        "assert round(g4(x_np), 2) == 11372263.28, 'functional issue'"
      ]
    },
    {
      "cell_type": "markdown",
      "metadata": {
        "id": "foN9nunhJXYL"
      },
      "source": [
        "# 3 $\\color{Blue}{\\text{Constraints}}$"
      ]
    },
    {
      "cell_type": "markdown",
      "metadata": {
        "id": "3V_guczoKju3"
      },
      "source": [
        "\n",
        "\n",
        "1. $\\color{Red}{g_1(x), g_2(x), g_3(x), g_4(x) \\ge 0}$\n",
        "2. $\\color{Red}{x_1,x_2 \\in [0.125, 5]}$\n",
        "3. $\\color{Red}{x_3, x_4 \\in [0.1, 10]}$\n",
        "\n"
      ]
    },
    {
      "cell_type": "code",
      "execution_count": 13,
      "metadata": {
        "colab": {
          "base_uri": "https://localhost:8080/"
        },
        "id": "H-1ffE35cO_9",
        "outputId": "5018b33b-ffff-41c5-ec50-027f4805f202"
      },
      "outputs": [
        {
          "output_type": "stream",
          "name": "stdout",
          "text": [
            "47.98466\n"
          ]
        }
      ],
      "source": [
        "def pi_static(x_np, r, beta):\n",
        "  _pi_static = f(x_np) + r*abs((min(0, g1(x_np))**beta)) + r*abs((min(0, g2(x_np))**beta)) + r*abs((min(0, g3(x_np))**beta)) + r*abs((min(0, g4(x_np))**beta))\n",
        "  return _pi_static\n",
        "\n",
        "########### unit testing #############\n",
        "x_np = [2, 4, 5, 7]\n",
        "print(pi_static(x_np, 30, 2))"
      ]
    },
    {
      "cell_type": "markdown",
      "metadata": {
        "id": "TPDzzQPMIqTe"
      },
      "source": [
        "# 4. $\\color{Blue}{\\text{Random Search}}$"
      ]
    },
    {
      "cell_type": "code",
      "execution_count": 14,
      "metadata": {
        "colab": {
          "base_uri": "https://localhost:8080/"
        },
        "id": "beJ2Yf127Axr",
        "outputId": "ba9baa3e-ebd6-4d4d-f7f3-817e730889ae"
      },
      "outputs": [
        {
          "output_type": "stream",
          "name": "stdout",
          "text": [
            "Optimal Value : [0.59426654 2.67536113 7.70918251 0.81381104]\n",
            "Minimum Function Value : 6.076922803772867\n",
            "Execution Time : 49.67ms\n"
          ]
        }
      ],
      "source": [
        "def random_search(no_samples, lb, ub):\n",
        "  '''\n",
        "  no_samples = Number of samples\n",
        "  Description = Implementation of Random Search\n",
        "  '''\n",
        "  ############### generate samples ##############\n",
        "  x_np_candidates = np.random.uniform(low = lb, high = ub, size = (no_samples, 4))\n",
        "\n",
        "  ################ execute random search with selected candidates ###############\n",
        "  # f_values = [f(x_np) for x_np in x_np_candidates]\n",
        "  f_values = [pi_static(x_np, 20, 1) for x_np in x_np_candidates]\n",
        "  f_min_index = np.argmin(f_values)\n",
        "  x_np_min = x_np_candidates[f_min_index]\n",
        "  f_min = f_values[f_min_index]\n",
        "  return x_np_min, f_min\n",
        "\n",
        "start = time.perf_counter()\n",
        "n_samples = 1000\n",
        "lb, ub = np.array([0.125, 0.125, 0.1, 0.1]), np.array([5, 5, 10, 10])\n",
        "[x_np_min, f_min] = random_search(n_samples, lb, ub) \n",
        "end = time.perf_counter()\n",
        "\n",
        "print(f'Optimal Value : {x_np_min}')\n",
        "print(f'Minimum Function Value : {f_min}')\n",
        "print(f'Execution Time : {round((end - start)*1000, 2)}ms')\n",
        "# print(f'Number of executions (g1(x))= {g1.execution}')"
      ]
    },
    {
      "cell_type": "code",
      "execution_count": 15,
      "metadata": {
        "colab": {
          "base_uri": "https://localhost:8080/"
        },
        "id": "DA8P2rDgvm1z",
        "outputId": "361610c7-b08f-47c0-97bf-98d4050e1e84"
      },
      "outputs": [
        {
          "output_type": "stream",
          "name": "stdout",
          "text": [
            "Execution Time : 1162.42ms\n",
            "Minimum Cost : 4.740264458217277\n",
            "Minimum Cost Param : [0.38500684 4.18082106 6.97371996 0.66488571]\n"
          ]
        },
        {
          "output_type": "stream",
          "name": "stderr",
          "text": [
            "/usr/local/lib/python3.7/dist-packages/ipykernel_launcher.py:5: VisibleDeprecationWarning: Creating an ndarray from ragged nested sequences (which is a list-or-tuple of lists-or-tuples-or ndarrays with different lengths or shapes) is deprecated. If you meant to do this, you must specify 'dtype=object' when creating the ndarray.\n",
            "  \"\"\"\n"
          ]
        }
      ],
      "source": [
        "n_repeat = 21\n",
        "n_samples = 1000\n",
        "lb, ub = np.array([0.125, 0.125, 0.1, 0.1]), np.array([5, 5, 10, 10])\n",
        "start = time.perf_counter()\n",
        "random_search_repeat_results = np.array([random_search(n_samples, lb, ub) for i in range(n_repeat)])\n",
        "end = time.perf_counter()\n",
        "\n",
        "min_cost_param_index = np.argmin(random_search_repeat_results[:, -1])\n",
        "min_cost_param = random_search_repeat_results[min_cost_param_index][0]\n",
        "min_cost = random_search_repeat_results[min_cost_param_index][1]\n",
        "print(f'Execution Time : {round((end - start)*1000, 2)}ms')\n",
        "print(f'Minimum Cost : {min_cost}')\n",
        "print(f'Minimum Cost Param : {min_cost_param}')\n",
        "\n",
        "assert len(random_search_repeat_results) == 21\n",
        "# assert g1.execution < 10000, f'g1(x) has been executed more than allowed: {g1.execution}'"
      ]
    },
    {
      "cell_type": "code",
      "source": [
        "assert g1(min_cost_param)>0\n",
        "assert g2(min_cost_param)>0\n",
        "assert g3(min_cost_param)>0\n",
        "assert g4(min_cost_param)>0"
      ],
      "metadata": {
        "id": "Z0F6Z0pkDmGC"
      },
      "execution_count": 16,
      "outputs": []
    },
    {
      "cell_type": "code",
      "execution_count": 17,
      "metadata": {
        "colab": {
          "base_uri": "https://localhost:8080/",
          "height": 265
        },
        "id": "CmJalfl7xo3F",
        "outputId": "e9d94f89-0aa8-4d11-e0b9-8bf607824b93"
      },
      "outputs": [
        {
          "output_type": "display_data",
          "data": {
            "text/plain": [
              "<Figure size 432x288 with 1 Axes>"
            ],
            "image/png": "[encoded data removed]"
          },
          "metadata": {
            "needs_background": "light"
          }
        }
      ],
      "source": [
        "plt.figure()\n",
        "plt.boxplot(random_search_repeat_results[:, -1])\n",
        "plt.show()"
      ]
    },
    {
      "cell_type": "markdown",
      "metadata": {
        "id": "T83PzBUq0blk"
      },
      "source": [
        "# 5. $\\color{Blue}{\\text{Simulated Annealing}}$"
      ]
    },
    {
      "cell_type": "code",
      "execution_count": 18,
      "metadata": {
        "colab": {
          "base_uri": "https://localhost:8080/",
          "height": 879
        },
        "id": "bZJolL81fbCC",
        "outputId": "aa1eb6be-45f7-43d8-e7c2-27c232e94681"
      },
      "outputs": [
        {
          "output_type": "display_data",
          "data": {
            "text/plain": [
              "<Figure size 720x1080 with 4 Axes>"
            ],
            "image/png": "[encoded data removed]"
          },
          "metadata": {
            "needs_background": "light"
          }
        }
      ],
      "source": [
        "def generate_truncate_rvs(lb, ub, mu, sigma, n_samples = 1):\n",
        "  '''\n",
        "  lb : lower bound\n",
        "  up : upper bound\n",
        "  mu : mean\n",
        "  sigma : standard deviation\n",
        "  n_samples : number of samples\n",
        "  '''\n",
        "  a = (lb - mu)/sigma\n",
        "  b = (ub - mu)/sigma\n",
        "  d = len(a)\n",
        "\n",
        "  r_normalised = truncnorm.rvs(a, b, size = (n_samples, d))\n",
        "  r_scaled = (r_normalised * sigma) + mu\n",
        "  return r_scaled\n",
        "\n",
        "\n",
        "#################### unit testing #################\n",
        "lb, ub = np.array([0.125, 0.125, 0.1, 0.1]), np.array([5, 5, 10, 10])\n",
        "mu = np.array([1, 2, 5, 6])\n",
        "sigma = np.array([1, 1, 1, 1])\n",
        "n_samples = 20000\n",
        "truncated_rvs = generate_truncate_rvs(lb, ub, mu, sigma, n_samples)\n",
        "\n",
        "plt.figure(figsize = (10, 15))\n",
        "ax = plt.subplot(4, 1, 1)\n",
        "ax.set_title('x1 (0.125:5)')\n",
        "ax.hist(truncated_rvs[:, 0], density = True)\n",
        "\n",
        "ax = plt.subplot(4, 1, 2)\n",
        "ax.set_title('x2 (0.125:5)')\n",
        "ax.hist(truncated_rvs[:, 1], density = True)\n",
        "\n",
        "ax = plt.subplot(4, 1, 3)\n",
        "ax.set_title('x3 (0.1:10)')\n",
        "ax.hist(truncated_rvs[:, 2], density = True)\n",
        "\n",
        "ax = plt.subplot(4, 1, 4)\n",
        "ax.set_title('x4 (0.1:10)')\n",
        "ax.hist(truncated_rvs[:, 3], density = True)\n",
        "plt.show()\n"
      ]
    },
    {
      "cell_type": "code",
      "source": [
        "def fast_cf(ti, k):\n",
        "  return ti/k"
      ],
      "metadata": {
        "id": "Gm86_IqjJQWX"
      },
      "execution_count": 77,
      "outputs": []
    },
    {
      "cell_type": "code",
      "source": [
        "def log_cf(ti, k):\n",
        "  return ti*(np.log(2)/np.log(k+1))"
      ],
      "metadata": {
        "id": "pMLXGI1BKpfR"
      },
      "execution_count": 86,
      "outputs": []
    },
    {
      "cell_type": "code",
      "execution_count": 80,
      "metadata": {
        "colab": {
          "base_uri": "https://localhost:8080/"
        },
        "id": "gGRO9UoKZHpY",
        "outputId": "55180424-dcf6-4694-cd7b-e9e845f97dae"
      },
      "outputs": [
        {
          "output_type": "stream",
          "name": "stderr",
          "text": [
            "/usr/local/lib/python3.7/dist-packages/ipykernel_launcher.py:24: RuntimeWarning: overflow encountered in exp\n"
          ]
        },
        {
          "output_type": "stream",
          "name": "stdout",
          "text": [
            "Optimal value : [0.53059788 3.82380267 5.73293479 0.61419809]\n",
            "Execution Time : 7354.252156338 - 7351.701201736\n"
          ]
        }
      ],
      "source": [
        "def simulated_annealing(n_samples, lb, ub, cooling_fn):\n",
        "  '''\n",
        "  no_samples : Number of samples\n",
        "  Description : Implementation of simulated annealing\n",
        "  '''\n",
        "  sigma = np.array([1, 1, 1, 1])\n",
        "\n",
        "  x_best = np.random.uniform(low = lb, high = ub)\n",
        "  # y_best = f(x_best)\n",
        "  y_best = pi_static(x_best, 30, 2)\n",
        "\n",
        "  x_c = x_best\n",
        "  y_c = y_best\n",
        "\n",
        "  t_i = 100 # initial temperature\n",
        "  for k in range(n_samples):\n",
        "    t_k = cooling_fn(t_i, k+1) # fast annealing model\n",
        "    x_prime = generate_truncate_rvs(lb, ub, x_c, sigma)\n",
        "    x_prime = np.transpose(x_prime[0])\n",
        "    y_prime = f(x_prime)\n",
        "    y_prime = pi_static(x_prime, 30, 2)\n",
        "    delta_y = y_prime - y_c\n",
        "\n",
        "    p = min(np.exp(-delta_y/t_k), 1)\n",
        "    p_accepted = np.random.uniform(0, 1, 1)\n",
        "    if(delta_y <= 0) or (p_accepted < p): # exploitation and exploration\n",
        "      x_c, y_c = x_prime, y_prime\n",
        "\n",
        "    if(y_prime < y_best):\n",
        "      x_best, y_best = x_prime, y_prime\n",
        "      \n",
        "\n",
        "  return x_best, y_best\n",
        "\n",
        "n_samples = 1000\n",
        "lb, ub = [0.125, 0.125, 0.1, 0.1], [5, 5, 10, 10]\n",
        "start = time.perf_counter()\n",
        "simulated_annealing(n_samples, lb, ub, fast_cf)\n",
        "[x_np_min, f_min] = simulated_annealing(n_samples, lb, ub, fast_cf)\n",
        "end = time.perf_counter()\n",
        "\n",
        "print(f'Optimal value : {x_np_min}')\n",
        "print(f'Execution Time : {end} - {start}')\n"
      ]
    },
    {
      "cell_type": "code",
      "execution_count": 83,
      "metadata": {
        "colab": {
          "base_uri": "https://localhost:8080/"
        },
        "id": "O8rwsfc-Cz_2",
        "outputId": "735e632b-970f-4d02-a3cd-7c3eda21f116"
      },
      "outputs": [
        {
          "output_type": "stream",
          "name": "stderr",
          "text": [
            "/usr/local/lib/python3.7/dist-packages/ipykernel_launcher.py:24: RuntimeWarning: overflow encountered in exp\n"
          ]
        },
        {
          "output_type": "stream",
          "name": "stdout",
          "text": [
            "Execution Time : 11993.12ms\n",
            "Minimum Cost : 2.669731970817861\n",
            "Minimum Cost Param : [0.33242965 4.71061396 8.42961156 0.24758769]\n"
          ]
        },
        {
          "output_type": "stream",
          "name": "stderr",
          "text": [
            "/usr/local/lib/python3.7/dist-packages/ipykernel_launcher.py:5: VisibleDeprecationWarning: Creating an ndarray from ragged nested sequences (which is a list-or-tuple of lists-or-tuples-or ndarrays with different lengths or shapes) is deprecated. If you meant to do this, you must specify 'dtype=object' when creating the ndarray.\n",
            "  \"\"\"\n"
          ]
        }
      ],
      "source": [
        "n_repeat = 21\n",
        "n_samples = 1000\n",
        "lb, ub = np.array([0.125, 0.125, 0.1, 0.1]), np.array([5, 5, 10, 10])\n",
        "start = time.perf_counter()\n",
        "simulated_annealing_results = np.array([simulated_annealing(n_samples, lb, ub, fast_cf) for i in range(n_repeat)])\n",
        "end = time.perf_counter()\n",
        "\n",
        "min_cost_param_index = np.argmin(simulated_annealing_results[:, -1])\n",
        "min_cost_param = simulated_annealing_results[min_cost_param_index][0]\n",
        "min_cost = simulated_annealing_results[min_cost_param_index][1]\n",
        "print(f'Execution Time : {round((end - start)*1000, 2)}ms')\n",
        "print(f'Minimum Cost : {min_cost}')\n",
        "print(f'Minimum Cost Param : {min_cost_param}')"
      ]
    },
    {
      "cell_type": "code",
      "execution_count": 84,
      "metadata": {
        "colab": {
          "base_uri": "https://localhost:8080/",
          "height": 265
        },
        "id": "AYk-XTkNC2x9",
        "outputId": "95b5b7b8-14eb-4466-a37e-2b48515fc525"
      },
      "outputs": [
        {
          "output_type": "display_data",
          "data": {
            "text/plain": [
              "<Figure size 432x288 with 1 Axes>"
            ],
            "image/png": "[encoded data removed]"
          },
          "metadata": {
            "needs_background": "light"
          }
        }
      ],
      "source": [
        "plt.figure()\n",
        "plt.boxplot(simulated_annealing_results[:, -1])\n",
        "plt.show()"
      ]
    },
    {
      "cell_type": "markdown",
      "metadata": {
        "id": "E9NS2FtbDXzF"
      },
      "source": [
        "# 4. $\\color{Blue}{\\text{Performance Comparison}}$"
      ]
    },
    {
      "cell_type": "code",
      "execution_count": 85,
      "metadata": {
        "colab": {
          "base_uri": "https://localhost:8080/",
          "height": 265
        },
        "id": "YhxQ1zwjDpkQ",
        "outputId": "e490cd63-e3b3-457c-9d7d-1d0fd8e03062"
      },
      "outputs": [
        {
          "output_type": "display_data",
          "data": {
            "text/plain": [
              "<Figure size 432x288 with 1 Axes>"
            ],
            "image/png": "[encoded data removed]"
          },
          "metadata": {
            "needs_background": "light"
          }
        }
      ],
      "source": [
        "plt.figure()\n",
        "plt.boxplot([random_search_repeat_results[:, -1], simulated_annealing_results[:, -1]])\n",
        "plt.xticks([1,2],['Random Search', 'Simulated Annealing'])\n",
        "plt.ylabel('Best Optimum Value')\n",
        "plt.show()"
      ]
    },
    {
      "cell_type": "code",
      "source": [
        "rs_dist = random_search_repeat_results[:, -1].astype(float)\n",
        "sa_dist = simulated_annealing_results[:, -1].astype(float)\n",
        "\n",
        "rs_kstest = stats.kstest(rs_dist, stats.norm.cdf)\n",
        "sa_kstest = stats.kstest(sa_dist, stats.norm.cdf)\n",
        "\n",
        "print(f'P value for [Random Search == Normal Distribution] : {rs_kstest.pvalue}')\n",
        "print(f'P value for [Simulated Annealing == Normal Distribution] : {sa_kstest.pvalue}')"
      ],
      "metadata": {
        "colab": {
          "base_uri": "https://localhost:8080/"
        },
        "id": "SNuRzrxRvYfr",
        "outputId": "d4938a32-5061-4db0-caaf-cbb442e2df81"
      },
      "execution_count": 75,
      "outputs": [
        {
          "output_type": "stream",
          "name": "stdout",
          "text": [
            "P value for [Random Search == Normal Distribution] : 7.83733757474996e-126\n",
            "P value for [Simulated Annealing == Normal Distribution] : 2.5135977433678514e-53\n"
          ]
        }
      ]
    },
    {
      "cell_type": "code",
      "source": [
        "mw_test = stats.mannwhitneyu(rs_dist, sa_dist, alternative = 'less') # null hypothesis >>> performance(random search) < performance(simulated annealing)\n",
        "print(f'P value for [performance(random search) < performance(simulated annealing)]: {mw_test.pvalue}')"
      ],
      "metadata": {
        "colab": {
          "base_uri": "https://localhost:8080/"
        },
        "id": "fTExe02y2hfC",
        "outputId": "741cd7b8-b070-48e7-9a57-6016bf7034b5"
      },
      "execution_count": 76,
      "outputs": [
        {
          "output_type": "stream",
          "name": "stdout",
          "text": [
            "P value for [performance(random search) < performance(simulated annealing)]: 0.9999997562242522\n"
          ]
        }
      ]
    },
    {
      "cell_type": "markdown",
      "source": [
        "# 5. $\\color{Blue}{\\text{Hyperparameter Tuning}}$"
      ],
      "metadata": {
        "id": "NkjST9SwLI4u"
      }
    },
    {
      "cell_type": "code",
      "source": [
        "candidate_cooling_fn = [fast_cf, log_cf]\n",
        "performences = []\n",
        "\n",
        "for cooling_fn in candidate_cooling_fn:\n",
        "  simulated_annealing_results = np.array([simulated_annealing(n_samples, lb, ub, cooling_fn) for i in range(n_repeat)])\n",
        "  performences.append(simulated_annealing_results[:, -1])"
      ],
      "metadata": {
        "colab": {
          "base_uri": "https://localhost:8080/"
        },
        "id": "d3nOm_GtLYAC",
        "outputId": "61f03837-2c87-450a-c915-93a1912260fc"
      },
      "execution_count": 88,
      "outputs": [
        {
          "output_type": "stream",
          "name": "stderr",
          "text": [
            "/usr/local/lib/python3.7/dist-packages/ipykernel_launcher.py:24: RuntimeWarning: overflow encountered in exp\n",
            "/usr/local/lib/python3.7/dist-packages/ipykernel_launcher.py:5: VisibleDeprecationWarning: Creating an ndarray from ragged nested sequences (which is a list-or-tuple of lists-or-tuples-or ndarrays with different lengths or shapes) is deprecated. If you meant to do this, you must specify 'dtype=object' when creating the ndarray.\n",
            "  \"\"\"\n"
          ]
        }
      ]
    },
    {
      "cell_type": "code",
      "source": [
        "plt.figure()\n",
        "plt.boxplot(performences)\n",
        "plt.xticks([1, 2], ['Fast Function', 'Logarithmic Function'])\n",
        "plt.ylabel('Performance')\n",
        "plt.show()"
      ],
      "metadata": {
        "colab": {
          "base_uri": "https://localhost:8080/",
          "height": 266
        },
        "id": "AQvv5O_5M_24",
        "outputId": "b1bf0f1c-6823-47f4-cb23-8f5390053396"
      },
      "execution_count": 90,
      "outputs": [
        {
          "output_type": "display_data",
          "data": {
            "text/plain": [
              "<Figure size 432x288 with 1 Axes>"
            ],
            "image/png": "[encoded data removed]"
          },
          "metadata": {
            "needs_background": "light"
          }
        }
      ]
    },
    {
      "cell_type": "code",
      "source": [
        "fast_cf_dist = performences[0].astype(float)\n",
        "log_cf_dist = performences[1].astype(float)\n",
        "\n",
        "fast_cf_kstest = kstest(fast_cf_dist, stats.norm.cdf)\n",
        "log_cf_kstest = kstest(log_cf_dist, stats.norm.cdf)\n",
        "\n",
        "print(f'P value of [Fast Cooling Function Distribution ~ Normal Disribution] : {fast_cf_kstest.pvalue}')\n",
        "print(f'P value of [Logarithmic Cooling Function Distribution ~ Normal Disribution] : {log_cf_kstest.pvalue}')"
      ],
      "metadata": {
        "colab": {
          "base_uri": "https://localhost:8080/"
        },
        "id": "s4ICp5IhNuEK",
        "outputId": "8e89cf92-a21e-4557-ac64-7ab0108b1ce6"
      },
      "execution_count": 92,
      "outputs": [
        {
          "output_type": "stream",
          "name": "stdout",
          "text": [
            "P value of [Fast Cooling Function Distribution ~ Normal Disribution] : 4.2323026319010905e-47\n",
            "P value of [Logarithmic Cooling Function Distribution ~ Normal Disribution] : 6.052676973786451e-66\n"
          ]
        }
      ]
    },
    {
      "cell_type": "code",
      "source": [
        "cf_mw_test = stats.mannwhitneyu(fast_cf_dist, log_cf_dist, alternative = 'greater')\n",
        "print(f'P value of [performance(fast cooling function) > performance(logarithmic function)] : {cf_mw_test.pvalue}')"
      ],
      "metadata": {
        "colab": {
          "base_uri": "https://localhost:8080/"
        },
        "id": "uHetfi4rOyNM",
        "outputId": "87167cbb-d020-4786-be62-81053b00aa10"
      },
      "execution_count": 95,
      "outputs": [
        {
          "output_type": "stream",
          "name": "stdout",
          "text": [
            "P value of [performance(fast cooling function) > performance(logarithmic function)] : 0.9999406579087448\n"
          ]
        }
      ]
    }
  ],
  "metadata": {
    "colab": {
      "collapsed_sections": [
        "5r7-PsNdSXxl",
        "S-nlUF-WSsSj",
        "SV_Vap2tTIQN",
        "ufCdQkBeUyYQ",
        "JF1bTufBTbsS",
        "NFwooOyYjLUx",
        "uB1w2d9-9yJ3",
        "hx1JaLB6-aeq",
        "foN9nunhJXYL"
      ],
      "provenance": [],
      "authorship_tag": "ABX9TyMoHPl+3+10kYsa7Um1A2U3",
      "include_colab_link": true
    },
    "kernelspec": {
      "display_name": "Python 3",
      "name": "python3"
    },
    "language_info": {
      "name": "python"
    }
  },
  "nbformat": 4,
  "nbformat_minor": 0
}