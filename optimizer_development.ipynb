{
  "nbformat": 4,
  "nbformat_minor": 0,
  "metadata": {
    "colab": {
      "provenance": [],
      "collapsed_sections": [
        "S-nlUF-WSsSj",
        "JF1bTufBTbsS",
        "NFwooOyYjLUx",
        "DywWyjP5qIw2"
      ],
      "authorship_tag": "ABX9TyOXkPJpPhSW2dmPfGG8c7pI",
      "include_colab_link": true
    },
    "kernelspec": {
      "name": "python3",
      "display_name": "Python 3"
    },
    "language_info": {
      "name": "python"
    }
  },
  "cells": [
    {
      "cell_type": "markdown",
      "metadata": {
        "id": "view-in-github",
        "colab_type": "text"
      },
      "source": [
        "<a href=\"https://colab.research.google.com/github/deshanchathusanka/optimisation/blob/main/optimizer_development.ipynb\" target=\"_parent\"><img src=\"https://colab.research.google.com/assets/colab-badge.svg\" alt=\"Open In Colab\"/></a>"
      ]
    },
    {
      "cell_type": "markdown",
      "source": [
        "# 1. $\\color{Blue}{\\text{Installations}}$"
      ],
      "metadata": {
        "id": "jYt5UcD5QqSC"
      }
    },
    {
      "cell_type": "code",
      "source": [
        "import numpy as np\n",
        "import doctest\n",
        "import math\n",
        "import time\n",
        "import matplotlib.pyplot as plt\n",
        "\n",
        "from scipy.stats import truncnorm"
      ],
      "metadata": {
        "id": "dreNm6-yuGUu"
      },
      "execution_count": 359,
      "outputs": []
    },
    {
      "cell_type": "markdown",
      "source": [
        "# 2. $\\color{Blue}{\\text{Function Definitions}}$"
      ],
      "metadata": {
        "id": "5r7-PsNdSXxl"
      }
    },
    {
      "cell_type": "markdown",
      "source": [
        "## 2.1 $\\color{Blue}{\\text{Function Counter Decorator}}$"
      ],
      "metadata": {
        "id": "S-nlUF-WSsSj"
      }
    },
    {
      "cell_type": "code",
      "source": [
        "def count(fn):\n",
        "  '''\n",
        "  This is a decorator function to count number of function executions\n",
        "  fn : function\n",
        "  '''\n",
        "  def decorated_fn(*args, **kwargs):\n",
        "    decorated_fn.execution += 1\n",
        "    return fn(*args, **kwargs)\n",
        "  decorated_fn.execution = 0\n",
        "  return decorated_fn"
      ],
      "metadata": {
        "id": "w5IVWA1-4Xqt"
      },
      "execution_count": 360,
      "outputs": []
    },
    {
      "cell_type": "markdown",
      "source": [
        "## 2.2 $\\color{Blue}{\\text{Implementations of Equations}}$"
      ],
      "metadata": {
        "id": "SV_Vap2tTIQN"
      }
    },
    {
      "cell_type": "markdown",
      "source": [
        "### 2.2.1 $\n",
        "\\color{Red}{\n",
        "f(x) = 1.10471 x1^2 x2 + 0.04811x3x4(14.0 + x2)\n",
        "}\n",
        "$"
      ],
      "metadata": {
        "id": "ufCdQkBeUyYQ"
      }
    },
    {
      "cell_type": "code",
      "execution_count": 361,
      "metadata": {
        "colab": {
          "base_uri": "https://localhost:8080/"
        },
        "id": "7D5LatQ0e4ca",
        "outputId": "6a00a228-114e-43b0-c096-f8438cd00019"
      },
      "outputs": [
        {
          "output_type": "stream",
          "name": "stdout",
          "text": [
            "\n",
            "########## Testing execution count ############\n",
            "\n",
            "Number of executions = 2\n"
          ]
        }
      ],
      "source": [
        "@count # f = count(f)\n",
        "def f(x_np):\n",
        "  '''\n",
        "  x_np = numpy array = [x1, x2, x3, x4]\n",
        "  '''\n",
        "  [x1, x2, x3, x4] = x_np\n",
        "  f_x = 1.10471*x1*x1*x2 + 0.04811*x3*x4*(14.0 + x2)\n",
        "  return f_x\n",
        "\n",
        "########### unit testing #############\n",
        "print('\\n########## Testing execution count ############\\n')\n",
        "x_np = np.array([1, 2, 3, 4])\n",
        "f(x_np)\n",
        "f(x_np)\n",
        "print(f'Number of executions = {f.execution}')"
      ]
    },
    {
      "cell_type": "markdown",
      "source": [
        "### 2.2.2 ${\\color{Blue}{\n",
        "\\tau' = \\frac{6000}{\\sqrt{2}x1x2}\n",
        "}}$"
      ],
      "metadata": {
        "id": "JF1bTufBTbsS"
      }
    },
    {
      "cell_type": "code",
      "source": [
        "@count # t1 = count(t1)\n",
        "def t1(x_np):\n",
        "  '''\n",
        "  x_np = numpy array = [x1, x2, x3, x4]\n",
        "  '''\n",
        "  [x1, x2, x3, x4] = x_np\n",
        "  _t1 = 6000/(math.sqrt(2)*x1*x2)\n",
        "  return _t1\n",
        "\n",
        "########### unit testing #############\n",
        "print('\\n########## Testing execution count ############\\n')\n",
        "x_np = np.array([1, 2, 3, 4])\n",
        "t1(x_np)\n",
        "t1(x_np)\n",
        "print(f'Number of executions = {t1.execution}')\n",
        "\n",
        "assert round(t1(x_np), 2) == 2121.32"
      ],
      "metadata": {
        "colab": {
          "base_uri": "https://localhost:8080/"
        },
        "id": "EdU-Q_g7KWPQ",
        "outputId": "7d9e0d8e-2c9a-4a2c-d760-dcf82d7cc14b"
      },
      "execution_count": 362,
      "outputs": [
        {
          "output_type": "stream",
          "name": "stdout",
          "text": [
            "\n",
            "########## Testing execution count ############\n",
            "\n",
            "Number of executions = 2\n"
          ]
        }
      ]
    },
    {
      "cell_type": "markdown",
      "source": [
        "### 2.2.3 $\n",
        "\\color{Blue}{\n",
        "\\tau'' = \\frac{6000(14+0.5x_2)\\sqrt{0.25(x_2^2+(x_1+x_3)^2)}}{2(0.707x_1x_2(\\frac{x_2^2}{12}+0.25(x_1+x_3)^2))}\n",
        "}\n",
        "$"
      ],
      "metadata": {
        "id": "NFwooOyYjLUx"
      }
    },
    {
      "cell_type": "code",
      "source": [
        "@count # t2 = count(t2)\n",
        "def t2(x_np):\n",
        "  '''\n",
        "  x_np = numpy array = [x1, x2, x3, x4]\n",
        "  '''\n",
        "  [x1, x2, x3, x4] = x_np\n",
        "  numerator = 6000*(14+0.5*x2)*math.sqrt(0.25*(x2**2 + (x1+x3)**2))\n",
        "  denominator = 2*(0.707*x1*x2*((x2**2/12) + 0.25*((x1+x3)**2))) \n",
        "\n",
        "  if denominator == 0 :\n",
        "    raise RuntimeWarning(\"Error\")\n",
        "\n",
        "  _t2 = numerator/denominator\n",
        "  return _t2\n",
        "\n",
        "########### unit testing #############\n",
        "print('\\n########## Testing execution count ############\\n')\n",
        "x_np = np.array([1, 2, 3, 4])\n",
        "t2(x_np)\n",
        "t2(x_np)\n",
        "t2(x_np)\n",
        "print(f'Number of executions = {t2.execution}')\n",
        "\n",
        "assert round(t2(x_np)) == 16422.00"
      ],
      "metadata": {
        "colab": {
          "base_uri": "https://localhost:8080/"
        },
        "id": "K3HjZWg9VwZp",
        "outputId": "80900e12-6c52-4b86-bc04-50ba489792f2"
      },
      "execution_count": 363,
      "outputs": [
        {
          "output_type": "stream",
          "name": "stdout",
          "text": [
            "\n",
            "########## Testing execution count ############\n",
            "\n",
            "Number of executions = 3\n"
          ]
        }
      ]
    },
    {
      "cell_type": "markdown",
      "source": [
        "### 2.2.4 $\n",
        "\\color{Blue}{\n",
        "\\tau = \\sqrt{(\\tau'^2+\\tau''^2) + \\frac{x_2\\tau'\\tau''}{\\sqrt{0.25(x_2^2 + (x_1 + x_3)^2)}}}\n",
        "}$"
      ],
      "metadata": {
        "id": "DywWyjP5qIw2"
      }
    },
    {
      "cell_type": "code",
      "source": [
        "@count\n",
        "def t(x_np):\n",
        "  '''\n",
        "  x_np = numpy array = [x1, x2, x3, x4]\n",
        "  '''\n",
        "  [x1, x2, x3, x4] = x_np\n",
        "  _t1 = t1(x_np)\n",
        "  _t2 = t2(x_np)\n",
        "  _t = math.sqrt((_t1**2 + _t2**2) \n",
        "  + ((x2*_t1*_t2)/(0.25*(x2**2 + (x1 + x3)**2))))\n",
        "\n",
        "  return _t\n",
        "\n",
        "########### unit testing #############\n",
        "print('\\n########## Testing execution count ############\\n')\n",
        "x_np = np.array([1, 2, 3, 4])\n",
        "t(x_np)\n",
        "t(x_np)\n",
        "t(x_np)\n",
        "print(f'Number of executions = {t.execution}')\n",
        "\n",
        "_t = t(x_np)\n",
        "assert round(_t, 2) == 16974.00, 'functional issue'"
      ],
      "metadata": {
        "colab": {
          "base_uri": "https://localhost:8080/"
        },
        "id": "vuw-K2Cjru9S",
        "outputId": "6c793d3b-b39b-4c99-f2e8-52970f1f8c04"
      },
      "execution_count": 364,
      "outputs": [
        {
          "output_type": "stream",
          "name": "stdout",
          "text": [
            "\n",
            "########## Testing execution count ############\n",
            "\n",
            "Number of executions = 3\n"
          ]
        }
      ]
    },
    {
      "cell_type": "markdown",
      "source": [
        "### 2.2.5 $\\color{Blue}{\n",
        "  \\sigma = \\frac{504000}{x_3^2x_4}\n",
        "}$"
      ],
      "metadata": {
        "id": "uB1w2d9-9yJ3"
      }
    },
    {
      "cell_type": "code",
      "source": [
        "@count\n",
        "def sigmaf(x_np):\n",
        "  '''\n",
        "  x_np = numpy array = [x1, x2, x3, x4]\n",
        "  '''\n",
        "  [x1, x2, x3, x4] = x_np\n",
        "  _sigma = 504000/((x3**2)*x4)\n",
        "\n",
        "  return _sigma\n",
        "\n",
        "########### unit testing #############\n",
        "print('\\n########## Testing execution count ############\\n')\n",
        "x_np = np.array([1, 2, 3, 4])\n",
        "sigmaf(x_np)\n",
        "sigmaf(x_np)\n",
        "sigmaf(x_np)\n",
        "print(f'Number of executions = {sigmaf.execution}')\n",
        "\n",
        "assert round(sigmaf(x_np)) == 14000, 'functional issue'"
      ],
      "metadata": {
        "colab": {
          "base_uri": "https://localhost:8080/"
        },
        "id": "vsvs8JyI53lo",
        "outputId": "b37fcdf6-fe98-4d43-f178-ab7370b37c1d"
      },
      "execution_count": 365,
      "outputs": [
        {
          "output_type": "stream",
          "name": "stdout",
          "text": [
            "\n",
            "########## Testing execution count ############\n",
            "\n",
            "Number of executions = 3\n"
          ]
        }
      ]
    },
    {
      "cell_type": "markdown",
      "source": [
        "### 2.2.6 $\\color{Blue}{\n",
        "  p = 64746.022(1 - 0.0282346x_3)x_3x_4^3\n",
        "}$"
      ],
      "metadata": {
        "id": "hx1JaLB6-aeq"
      }
    },
    {
      "cell_type": "code",
      "source": [
        "@count\n",
        "def p(x_np):\n",
        "  '''\n",
        "  x_np = numpy array = [x1, x2, x3, x4]\n",
        "  '''\n",
        "  [x1, x2, x3, x4] = x_np\n",
        "  _p = 64746.022*(1 - 0.0282346*x3)*x3*(x4**3)\n",
        "\n",
        "  return _p\n",
        "\n",
        "########### unit testing #############\n",
        "print('\\n########## Testing execution count ############\\n')\n",
        "x_np = np.array([1, 2, 3, 4])\n",
        "p(x_np)\n",
        "p(x_np)\n",
        "p(x_np)\n",
        "print(f'Number of executions = {p.execution}')\n",
        "\n",
        "assert round(p(x_np), 2) == 11378263.28, 'functional issue'"
      ],
      "metadata": {
        "colab": {
          "base_uri": "https://localhost:8080/"
        },
        "id": "fL_1TPgb7Bpy",
        "outputId": "cb6e7154-1c7d-4054-d234-2bbb1e9bded7"
      },
      "execution_count": 366,
      "outputs": [
        {
          "output_type": "stream",
          "name": "stdout",
          "text": [
            "\n",
            "########## Testing execution count ############\n",
            "\n",
            "Number of executions = 3\n"
          ]
        }
      ]
    },
    {
      "cell_type": "markdown",
      "source": [
        "### 2.2.7 $\\color{Red}{\n",
        "  g_1(x) = 13600 - \\tau(x)\n",
        "}\n",
        "$"
      ],
      "metadata": {
        "id": "NiAK1YgQBCLK"
      }
    },
    {
      "cell_type": "code",
      "source": [
        "@count\n",
        "def g1(x_np):\n",
        "  '''\n",
        "  x_np = numpy array = [x1, x2, x3, x4]\n",
        "  '''\n",
        "  _t = t(x_np)\n",
        "  _g1 = 13600 - _t\n",
        "\n",
        "  return _g1\n",
        "\n",
        "########### unit testing #############\n",
        "print('\\n########## Testing execution count ############\\n')\n",
        "x_np = np.array([1, 2, 3, 4])\n",
        "g1(x_np)\n",
        "g1(x_np)\n",
        "g1(x_np)\n",
        "print(f'Number of executions = {g1.execution}')\n",
        "\n",
        "assert round(g1(x_np), 2) == -3374, 'functional issue'"
      ],
      "metadata": {
        "colab": {
          "base_uri": "https://localhost:8080/"
        },
        "id": "e5fpwjQB_ldN",
        "outputId": "b2e3b3a1-19f8-45e6-8832-596fe9e4d825"
      },
      "execution_count": 367,
      "outputs": [
        {
          "output_type": "stream",
          "name": "stdout",
          "text": [
            "\n",
            "########## Testing execution count ############\n",
            "\n",
            "Number of executions = 3\n"
          ]
        }
      ]
    },
    {
      "cell_type": "code",
      "source": [
        "@count\n",
        "def g2(x_np):\n",
        "  _sigma = sigmaf(x_np)\n",
        "  _g2 = 30000 - _sigma\n",
        "\n",
        "  return _g2\n",
        "\n",
        "\n",
        "########### unit testing #############\n",
        "print('\\n########## Testing execution count ############\\n')\n",
        "x_np = np.array([1, 2, 3, 4])\n",
        "g2(x_np)\n",
        "g2(x_np)\n",
        "g2(x_np)\n",
        "print(f'Number of executions = {g2.execution}')\n",
        "\n",
        "assert round(g2(x_np), 2) == 16000, 'functional issue'"
      ],
      "metadata": {
        "colab": {
          "base_uri": "https://localhost:8080/"
        },
        "id": "f_0x7pZMBtm_",
        "outputId": "595f23b2-9c8d-4611-8626-51e10abeb682"
      },
      "execution_count": 368,
      "outputs": [
        {
          "output_type": "stream",
          "name": "stdout",
          "text": [
            "\n",
            "########## Testing execution count ############\n",
            "\n",
            "Number of executions = 3\n"
          ]
        }
      ]
    },
    {
      "cell_type": "code",
      "source": [
        "@count\n",
        "def g3(x_np):\n",
        "  [x1, x2, x3, x4] = x_np\n",
        "  _g3 = x4 - x1\n",
        "  return _g3\n",
        "\n",
        "########### unit testing #############\n",
        "print('\\n########## Testing execution count ############\\n')\n",
        "x_np = np.array([1, 2, 3, 4])\n",
        "g3(x_np)\n",
        "g3(x_np)\n",
        "g3(x_np)\n",
        "print(f'Number of executions = {g3.execution}')\n",
        "\n",
        "assert round(g3(x_np)) == 3, 'functional issue'"
      ],
      "metadata": {
        "colab": {
          "base_uri": "https://localhost:8080/"
        },
        "id": "XDVo_xmrGNXB",
        "outputId": "2932b8e3-a685-440a-a2d5-c53efa7f1837"
      },
      "execution_count": 369,
      "outputs": [
        {
          "output_type": "stream",
          "name": "stdout",
          "text": [
            "\n",
            "########## Testing execution count ############\n",
            "\n",
            "Number of executions = 3\n"
          ]
        }
      ]
    },
    {
      "cell_type": "code",
      "source": [
        "@count\n",
        "def g4(x_np):\n",
        "  _p = p(x_np)\n",
        "  _g4 = _p - 6000\n",
        "\n",
        "  return _g4\n",
        "\n",
        "########### unit testing #############\n",
        "print('\\n########## Testing execution count ############\\n')\n",
        "x_np = np.array([1, 2, 3, 4])\n",
        "g4(x_np)\n",
        "g4(x_np)\n",
        "g4(x_np)\n",
        "print(f'Number of executions = {g4.execution}')\n",
        "\n",
        "assert round(g4(x_np), 2) == 11372263.28, 'functional issue'"
      ],
      "metadata": {
        "colab": {
          "base_uri": "https://localhost:8080/"
        },
        "id": "PfIGxoDZG6BZ",
        "outputId": "333a44e9-4221-444b-f037-70b856cbf3e6"
      },
      "execution_count": 370,
      "outputs": [
        {
          "output_type": "stream",
          "name": "stdout",
          "text": [
            "\n",
            "########## Testing execution count ############\n",
            "\n",
            "Number of executions = 3\n"
          ]
        }
      ]
    },
    {
      "cell_type": "markdown",
      "source": [
        "# 3 $\\color{Blue}{\\text{Constraints}}\n",
        "$"
      ],
      "metadata": {
        "id": "foN9nunhJXYL"
      }
    },
    {
      "cell_type": "markdown",
      "source": [
        "\n",
        "\n",
        "1. $\\color{Red}{g_1(x), g_2(x), g_3(x), g_4(x) \\ge 0}$\n",
        "2. $\\color{Red}{x_1,x_2 \\in [0.125, 5]}$\n",
        "3. $\\color{Red}{x_3, x_4 \\in [0.1, 10]}$\n",
        "\n"
      ],
      "metadata": {
        "id": "3V_guczoKju3"
      }
    },
    {
      "cell_type": "code",
      "source": [
        "def pi_static(x_np, r, beta):\n",
        "  _pi_static = f(x_np) + r*(min(0, g1(x_np))**beta) + r*(min(0, g2(x_np))**beta) + r*(min(0, g3(x_np))**beta) + r*(min(0, g4(x_np))**beta)\n",
        "  return _pi_static\n",
        "\n",
        "########### unit testing #############\n",
        "x_np = [2, 4, 5, 7]\n",
        "print(pi_static(x_np, 30, 2))"
      ],
      "metadata": {
        "colab": {
          "base_uri": "https://localhost:8080/"
        },
        "id": "H-1ffE35cO_9",
        "outputId": "f8973131-fed0-4c5e-9496-eb6fa28404dc"
      },
      "execution_count": 371,
      "outputs": [
        {
          "output_type": "stream",
          "name": "stdout",
          "text": [
            "47.98466\n"
          ]
        }
      ]
    },
    {
      "cell_type": "markdown",
      "source": [
        "# 4. $\\color{Blue}{\n",
        "  \\text{Random Search}\n",
        "}\n",
        "$"
      ],
      "metadata": {
        "id": "TPDzzQPMIqTe"
      }
    },
    {
      "cell_type": "code",
      "source": [
        "def random_search(no_samples, lb, ub):\n",
        "  '''\n",
        "  no_samples = Number of samples\n",
        "  Description = Implementation of Random Search\n",
        "  '''\n",
        "  ############### generate samples ##############\n",
        "  x_np_candidates = np.random.uniform(low = lb, high = ub, size = (no_samples, 4))\n",
        "\n",
        "  ################ execute random search with selected candidates ###############\n",
        "  # f_values = [f(x_np) for x_np in x_np_candidates]\n",
        "  f_values = [pi_static(x_np, 30, 2) for x_np in x_np_candidates]\n",
        "  f_min_index = np.argmin(f_values)\n",
        "  x_np_min = x_np_candidates[f_min_index]\n",
        "  f_min = f_values[f_min_index]\n",
        "  return x_np_min, f_min\n",
        "\n",
        "start = time.perf_counter()\n",
        "n_samples = 1000\n",
        "lb, ub = np.array([0.125, 0.125, 0.1, 0.1]), np.array([5, 5, 10, 10])\n",
        "[x_np_min, f_min] = random_search(n_samples, lb, ub) \n",
        "end = time.perf_counter()\n",
        "\n",
        "print(f'Optimal Value : {x_np_min}')\n",
        "print(f'Execution Time : {round((end - start)*1000, 2)}ms')\n",
        "# print(f'Number of executions (g1(x))= {g1.execution}')"
      ],
      "metadata": {
        "colab": {
          "base_uri": "https://localhost:8080/"
        },
        "id": "beJ2Yf127Axr",
        "outputId": "11b67d60-c43b-4fb0-e755-954a0ee3b842"
      },
      "execution_count": 372,
      "outputs": [
        {
          "output_type": "stream",
          "name": "stdout",
          "text": [
            "Optimal Value : [0.59425992 2.4494877  6.37684618 1.05079511]\n",
            "Execution Time : 34.77ms\n"
          ]
        }
      ]
    },
    {
      "cell_type": "code",
      "source": [
        "n_repeat = 21\n",
        "n_samples = 1000\n",
        "lb, ub = np.array([0.125, 0.125, 0.1, 0.1]), np.array([5, 5, 10, 10])\n",
        "start = time.perf_counter()\n",
        "random_search_repeat_results = [random_search(n_samples, lb, ub)[-1] for i in range(n_repeat)]\n",
        "end = time.perf_counter()\n",
        "\n",
        "print(f'Execution Time : {round((end - start)*1000, 2)}ms')\n",
        "assert len(random_search_repeat_results) == 21\n",
        "# assert g1.execution < 10000, f'g1(x) has been executed more than allowed: {g1.execution}'"
      ],
      "metadata": {
        "colab": {
          "base_uri": "https://localhost:8080/"
        },
        "id": "DA8P2rDgvm1z",
        "outputId": "ee6a134d-a88b-47d0-f554-95599070f6d1"
      },
      "execution_count": 373,
      "outputs": [
        {
          "output_type": "stream",
          "name": "stdout",
          "text": [
            "Execution Time : 547.61ms\n"
          ]
        }
      ]
    },
    {
      "cell_type": "code",
      "source": [
        "plt.figure()\n",
        "plt.boxplot(random_search_repeat_results)\n",
        "plt.show()"
      ],
      "metadata": {
        "colab": {
          "base_uri": "https://localhost:8080/",
          "height": 265
        },
        "id": "CmJalfl7xo3F",
        "outputId": "5181e76f-62ec-4f6d-e427-8e227f553b17"
      },
      "execution_count": 374,
      "outputs": [
        {
          "output_type": "display_data",
          "data": {
            "text/plain": [
              "<Figure size 432x288 with 1 Axes>"
            ],
            "image/png": "[encoded data removed]"
          },
          "metadata": {
            "needs_background": "light"
          }
        }
      ]
    },
    {
      "cell_type": "markdown",
      "source": [
        "# 5. $\\color{Blue}{\n",
        "  \\text{Simulated Annealing}\n",
        "}\n",
        "$"
      ],
      "metadata": {
        "id": "T83PzBUq0blk"
      }
    },
    {
      "cell_type": "code",
      "source": [
        "def generate_truncate_rvs(lb, ub, mu, sigma, n_samples = 1):\n",
        "  '''\n",
        "  lb : lower bound\n",
        "  up : upper bound\n",
        "  mu : mean\n",
        "  sigma : standard deviation\n",
        "  n_samples : number of samples\n",
        "  '''\n",
        "  a = (lb - mu)/sigma\n",
        "  b = (ub - mu)/sigma\n",
        "  d = len(a)\n",
        "\n",
        "  r_normalised = truncnorm.rvs(a, b, size = (n_samples, d))\n",
        "  r_scaled = (r_normalised * sigma) + mu\n",
        "  return r_scaled\n",
        "\n",
        "\n",
        "#################### unit testing #################\n",
        "lb, ub = np.array([0.125, 0.125, 0.1, 0.1]), np.array([5, 5, 10, 10])\n",
        "mu = np.array([1, 2, 5, 6])\n",
        "sigma = np.array([1, 1, 1, 1])\n",
        "n_samples = 20000\n",
        "truncated_rvs = generate_truncate_rvs(lb, ub, mu, sigma, n_samples)\n",
        "\n",
        "plt.figure(figsize = (10, 15))\n",
        "ax = plt.subplot(4, 1, 1)\n",
        "ax.set_title('x1 (0.125:5)')\n",
        "ax.hist(truncated_rvs[:, 0], density = True)\n",
        "\n",
        "ax = plt.subplot(4, 1, 2)\n",
        "ax.set_title('x2 (0.125:5)')\n",
        "ax.hist(truncated_rvs[:, 1], density = True)\n",
        "\n",
        "ax = plt.subplot(4, 1, 3)\n",
        "ax.set_title('x3 (0.1:10)')\n",
        "ax.hist(truncated_rvs[:, 2], density = True)\n",
        "\n",
        "ax = plt.subplot(4, 1, 4)\n",
        "ax.set_title('x4 (0.1:10)')\n",
        "ax.hist(truncated_rvs[:, 3], density = True)\n",
        "plt.show()\n"
      ],
      "metadata": {
        "colab": {
          "base_uri": "https://localhost:8080/",
          "height": 879
        },
        "id": "bZJolL81fbCC",
        "outputId": "ccc0f8f7-a6b3-4cb9-ecf4-a9d1a638759c"
      },
      "execution_count": 375,
      "outputs": [
        {
          "output_type": "display_data",
          "data": {
            "text/plain": [
              "<Figure size 720x1080 with 4 Axes>"
            ],
            "image/png": "[encoded data removed]"
          },
          "metadata": {
            "needs_background": "light"
          }
        }
      ]
    },
    {
      "cell_type": "code",
      "source": [
        "def simulated_annealing(n_samples, lb, ub):\n",
        "  '''\n",
        "  no_samples : Number of samples\n",
        "  Description : Implementation of simulated annealing\n",
        "  '''\n",
        "  sigma = np.array([5, 5, 5, 5])\n",
        "\n",
        "  x_best = np.random.uniform(low = lb, high = ub)\n",
        "  # y_best = f(x_best)\n",
        "  y_best = pi_static(x_best, 30, 2)\n",
        "\n",
        "  x_c = x_best\n",
        "  y_c = y_best\n",
        "\n",
        "  t_i = 10000 # initial temperature\n",
        "  for k in range(n_samples):\n",
        "    t_k = t_i/(k + 1) # fast annealing model\n",
        "    x_prime = generate_truncate_rvs(lb, ub, x_c, sigma)\n",
        "    x_prime = np.transpose(x_prime[0])\n",
        "    y_prime = f(x_prime)\n",
        "    y_prime = pi_static(x_prime, 30, 2)\n",
        "    delta_y = y_prime - y_c\n",
        "\n",
        "    p = min(np.exp(-delta_y/t_k), 1)\n",
        "    p_accepted = np.random.uniform(0, 1, 1)\n",
        "    if(delta_y <= 0) or (p_accepted < p): # exploitation and exploration\n",
        "      x_c, y_c = x_prime, y_prime\n",
        "\n",
        "    if(y_prime < y_best):\n",
        "      x_best, y_best = x_prime, y_prime\n",
        "      \n",
        "\n",
        "  return x_best, y_best\n",
        "\n",
        "n_samples = 1000\n",
        "lb, ub = [0.125, 0.125, 0.1, 0.1], [5, 5, 10, 10]\n",
        "start = time.perf_counter()\n",
        "simulated_annealing(n_samples, lb, ub)\n",
        "[x_np_min, f_min] = simulated_annealing(n_samples, lb, ub)\n",
        "end = time.perf_counter()\n",
        "\n",
        "print(f'Optimal value : {x_np_min}')\n",
        "print(f'Execution Time : {end} - {start}')\n"
      ],
      "metadata": {
        "colab": {
          "base_uri": "https://localhost:8080/"
        },
        "id": "gGRO9UoKZHpY",
        "outputId": "45d32c2e-7a9c-4b91-e7e4-db9aa05ca08b"
      },
      "execution_count": 381,
      "outputs": [
        {
          "output_type": "stream",
          "name": "stderr",
          "text": [
            "/usr/local/lib/python3.7/dist-packages/ipykernel_launcher.py:24: RuntimeWarning: overflow encountered in exp\n"
          ]
        },
        {
          "output_type": "stream",
          "name": "stdout",
          "text": [
            "Optimal value : [0.54084243 2.52391854 7.71803536 0.81125872]\n",
            "Execution Time : 7714.612356721 - 7713.426788872\n"
          ]
        }
      ]
    },
    {
      "cell_type": "code",
      "source": [
        "n_repeat = 21\n",
        "n_samples = 1000\n",
        "lb, ub = np.array([0.125, 0.125, 0.1, 0.1]), np.array([5, 5, 10, 10])\n",
        "start = time.perf_counter()\n",
        "simulated_annealing_results = [simulated_annealing(n_samples, lb, ub)[-1] for i in range(n_repeat)]\n",
        "end = time.perf_counter()\n",
        "\n",
        "print(f'Execution Time : {round((end - start)*1000, 2)}ms')\n",
        "assert len(simulated_annealing_results) == 21\n",
        "# assert g1.execution < 10000, f'g1(x) has been executed more than allowed: {g1.execution}'"
      ],
      "metadata": {
        "colab": {
          "base_uri": "https://localhost:8080/"
        },
        "id": "O8rwsfc-Cz_2",
        "outputId": "39d635ad-67a4-4415-9c22-80c31cab1c7a"
      },
      "execution_count": 382,
      "outputs": [
        {
          "output_type": "stream",
          "name": "stderr",
          "text": [
            "/usr/local/lib/python3.7/dist-packages/ipykernel_launcher.py:24: RuntimeWarning: overflow encountered in exp\n"
          ]
        },
        {
          "output_type": "stream",
          "name": "stdout",
          "text": [
            "Execution Time : 12073.31ms\n"
          ]
        }
      ]
    },
    {
      "cell_type": "code",
      "source": [
        "plt.figure()\n",
        "plt.boxplot(simulated_annealing_results)\n",
        "plt.show()"
      ],
      "metadata": {
        "colab": {
          "base_uri": "https://localhost:8080/",
          "height": 265
        },
        "id": "AYk-XTkNC2x9",
        "outputId": "c1aa6ca1-74d1-4b5d-f533-bc5c05939045"
      },
      "execution_count": 383,
      "outputs": [
        {
          "output_type": "display_data",
          "data": {
            "text/plain": [
              "<Figure size 432x288 with 1 Axes>"
            ],
            "image/png": "[encoded data removed]"
          },
          "metadata": {
            "needs_background": "light"
          }
        }
      ]
    },
    {
      "cell_type": "markdown",
      "source": [
        "# 4. $\\color{Blue}{\n",
        "  \\text{Evaluation}\n",
        "}\n",
        "$"
      ],
      "metadata": {
        "id": "E9NS2FtbDXzF"
      }
    },
    {
      "cell_type": "code",
      "source": [
        "plt.figure()\n",
        "plt.boxplot([random_search_repeat_results, simulated_annealing_results])\n",
        "plt.xticks([1,2],['Random Search', 'Simulated Annealing'])\n",
        "plt.ylabel('Best Optimum Value')\n",
        "plt.show()"
      ],
      "metadata": {
        "colab": {
          "base_uri": "https://localhost:8080/",
          "height": 265
        },
        "id": "YhxQ1zwjDpkQ",
        "outputId": "03606640-0a29-4ee0-e861-a46afce188c6"
      },
      "execution_count": 385,
      "outputs": [
        {
          "output_type": "display_data",
          "data": {
            "text/plain": [
              "<Figure size 432x288 with 1 Axes>"
            ],
            "image/png": "[encoded data removed]"
          },
          "metadata": {
            "needs_background": "light"
          }
        }
      ]
    }
  ]
}