{
  "nbformat": 4,
  "nbformat_minor": 0,
  "metadata": {
    "colab": {
      "provenance": [],
      "collapsed_sections": [
        "5r7-PsNdSXxl",
        "JF1bTufBTbsS",
        "NFwooOyYjLUx",
        "DywWyjP5qIw2",
        "uB1w2d9-9yJ3",
        "TPDzzQPMIqTe"
      ],
      "authorship_tag": "ABX9TyNj+YytJAh6SYFMf9MoQVCh",
      "include_colab_link": true
    },
    "kernelspec": {
      "name": "python3",
      "display_name": "Python 3"
    },
    "language_info": {
      "name": "python"
    }
  },
  "cells": [
    {
      "cell_type": "markdown",
      "metadata": {
        "id": "view-in-github",
        "colab_type": "text"
      },
      "source": [
        "<a href=\"https://colab.research.google.com/github/deshanchathusanka/optimisation/blob/main/optimizer_development.ipynb\" target=\"_parent\"><img src=\"https://colab.research.google.com/assets/colab-badge.svg\" alt=\"Open In Colab\"/></a>"
      ]
    },
    {
      "cell_type": "markdown",
      "source": [
        "# 1. $\\color{Blue}{\\text{Installations}}$"
      ],
      "metadata": {
        "id": "jYt5UcD5QqSC"
      }
    },
    {
      "cell_type": "code",
      "source": [
        "import numpy as np\n",
        "import doctest\n",
        "import math\n",
        "import time\n",
        "import matplotlib.pyplot as plt\n",
        "\n",
        "from scipy.stats import truncnorm"
      ],
      "metadata": {
        "id": "dreNm6-yuGUu"
      },
      "execution_count": 2,
      "outputs": []
    },
    {
      "cell_type": "markdown",
      "source": [
        "# 2. $\\color{Blue}{\\text{Function Definitions}}$"
      ],
      "metadata": {
        "id": "5r7-PsNdSXxl"
      }
    },
    {
      "cell_type": "markdown",
      "source": [
        "## 2.1 $\\color{Blue}{\\text{Function Counter Decorator}}$"
      ],
      "metadata": {
        "id": "S-nlUF-WSsSj"
      }
    },
    {
      "cell_type": "code",
      "source": [
        "def count(fn):\n",
        "  '''\n",
        "  This is a decorator function to count number of function executions\n",
        "  fn : function\n",
        "  '''\n",
        "  def decorated_fn(*args, **kwargs):\n",
        "    decorated_fn.execution += 1\n",
        "    return fn(*args, **kwargs)\n",
        "  decorated_fn.execution = 0\n",
        "  return decorated_fn"
      ],
      "metadata": {
        "id": "w5IVWA1-4Xqt"
      },
      "execution_count": 3,
      "outputs": []
    },
    {
      "cell_type": "markdown",
      "source": [
        "## 2.2 $\\color{Blue}{\\text{Implementations of Equations}}$"
      ],
      "metadata": {
        "id": "SV_Vap2tTIQN"
      }
    },
    {
      "cell_type": "markdown",
      "source": [
        "### 2.2.1 $\n",
        "\\color{Red}{\n",
        "f(x) = 1.10471 x1^2 x2 + 0.04811x3x4(14.0 + x2)\n",
        "}\n",
        "$"
      ],
      "metadata": {
        "id": "ufCdQkBeUyYQ"
      }
    },
    {
      "cell_type": "code",
      "execution_count": 4,
      "metadata": {
        "colab": {
          "base_uri": "https://localhost:8080/"
        },
        "id": "7D5LatQ0e4ca",
        "outputId": "bbfbee6f-178c-4dfc-9a21-d54fa1eefdc4"
      },
      "outputs": [
        {
          "output_type": "stream",
          "name": "stdout",
          "text": [
            "\n",
            "########## Testing execution count ############\n",
            "\n",
            "Number of executions = 2\n"
          ]
        }
      ],
      "source": [
        "@count # f = count(f)\n",
        "def f(x_np):\n",
        "  '''\n",
        "  x_np = numpy array = [x1, x2, x3, x4]\n",
        "  '''\n",
        "  [x1, x2, x3, x4] = x_np\n",
        "  f_x = 1.10471*x1*x1*x2 + 0.04811*x3*x4*(14.0 + x2)\n",
        "  return f_x\n",
        "\n",
        "########### unit testing #############\n",
        "print('\\n########## Testing execution count ############\\n')\n",
        "x_np = np.array([1, 2, 3, 4])\n",
        "f(x_np)\n",
        "f(x_np)\n",
        "print(f'Number of executions = {f.execution}')"
      ]
    },
    {
      "cell_type": "markdown",
      "source": [
        "### 2.2.2 ${\\color{Blue}{\n",
        "\\tau' = \\frac{6000}{\\sqrt{2}x1x2}\n",
        "}}$"
      ],
      "metadata": {
        "id": "JF1bTufBTbsS"
      }
    },
    {
      "cell_type": "code",
      "source": [
        "@count # t1 = count(t1)\n",
        "def t1(x_np):\n",
        "  '''\n",
        "  x_np = numpy array = [x1, x2, x3, x4]\n",
        "  '''\n",
        "  [x1, x2, x3, x4] = x_np\n",
        "  _t1 = 6000/(math.sqrt(2)*x1*x2)\n",
        "  return _t1\n",
        "\n",
        "########### unit testing #############\n",
        "print('\\n########## Testing execution count ############\\n')\n",
        "x_np = np.array([1, 2, 3, 4])\n",
        "t1(x_np)\n",
        "t1(x_np)\n",
        "print(f'Number of executions = {t1.execution}')\n",
        "\n",
        "assert round(t1(x_np), 2) == 2121.32"
      ],
      "metadata": {
        "colab": {
          "base_uri": "https://localhost:8080/"
        },
        "id": "EdU-Q_g7KWPQ",
        "outputId": "be53e2bb-65d7-40c0-c1b0-8ee9a9c7ab33"
      },
      "execution_count": 5,
      "outputs": [
        {
          "output_type": "stream",
          "name": "stdout",
          "text": [
            "\n",
            "########## Testing execution count ############\n",
            "\n",
            "Number of executions = 2\n"
          ]
        }
      ]
    },
    {
      "cell_type": "markdown",
      "source": [
        "### 2.2.3 $\n",
        "\\color{Blue}{\n",
        "\\tau'' = \\frac{6000(14+0.5x_2)\\sqrt{0.25(x_2^2+(x_1+x_3)^2)}}{2(0.707x_1x_2(\\frac{x_2^2}{12}+0.25(x_1+x_3)^2))}\n",
        "}\n",
        "$"
      ],
      "metadata": {
        "id": "NFwooOyYjLUx"
      }
    },
    {
      "cell_type": "code",
      "source": [
        "@count # t2 = count(t2)\n",
        "def t2(x_np):\n",
        "  '''\n",
        "  x_np = numpy array = [x1, x2, x3, x4]\n",
        "  '''\n",
        "  [x1, x2, x3, x4] = x_np\n",
        "  numerator = 6000*(14+0.5*x2)*math.sqrt(0.25*(x2**2 + (x1+x3)**2))\n",
        "  denominator = 2*(0.707*x1*x2*((x2**2/12) + 0.25*((x1+x3)**2))) \n",
        "\n",
        "  if denominator == 0 :\n",
        "    raise RuntimeWarning(\"Error\")\n",
        "\n",
        "  _t2 = numerator/denominator\n",
        "  return _t2\n",
        "\n",
        "########### unit testing #############\n",
        "print('\\n########## Testing execution count ############\\n')\n",
        "x_np = np.array([1, 2, 3, 4])\n",
        "t2(x_np)\n",
        "t2(x_np)\n",
        "t2(x_np)\n",
        "print(f'Number of executions = {t2.execution}')\n",
        "\n",
        "assert round(t2(x_np)) == 16422.00"
      ],
      "metadata": {
        "colab": {
          "base_uri": "https://localhost:8080/"
        },
        "id": "K3HjZWg9VwZp",
        "outputId": "ad1917ec-66e3-4560-f7a4-3f1f06b394ec"
      },
      "execution_count": 6,
      "outputs": [
        {
          "output_type": "stream",
          "name": "stdout",
          "text": [
            "\n",
            "########## Testing execution count ############\n",
            "\n",
            "Number of executions = 3\n"
          ]
        }
      ]
    },
    {
      "cell_type": "markdown",
      "source": [
        "### 2.2.4 $\n",
        "\\color{Blue}{\n",
        "\\tau = \\sqrt{(\\tau'^2+\\tau''^2) + \\frac{x_2\\tau'\\tau''}{\\sqrt{0.25(x_2^2 + (x_1 + x_3)^2)}}}\n",
        "}$"
      ],
      "metadata": {
        "id": "DywWyjP5qIw2"
      }
    },
    {
      "cell_type": "code",
      "source": [
        "@count\n",
        "def t(x_np):\n",
        "  '''\n",
        "  x_np = numpy array = [x1, x2, x3, x4]\n",
        "  '''\n",
        "  [x1, x2, x3, x4] = x_np\n",
        "  _t1 = t1(x_np)\n",
        "  _t2 = t2(x_np)\n",
        "  _t = math.sqrt((_t1**2 + _t2**2) \n",
        "  + ((x2*_t1*_t2)/(0.25*(x2**2 + (x1 + x3)**2))))\n",
        "\n",
        "  return _t\n",
        "\n",
        "########### unit testing #############\n",
        "print('\\n########## Testing execution count ############\\n')\n",
        "x_np = np.array([1, 2, 3, 4])\n",
        "t(x_np)\n",
        "t(x_np)\n",
        "t(x_np)\n",
        "print(f'Number of executions = {t.execution}')\n",
        "\n",
        "_t = t(x_np)\n",
        "assert round(_t, 2) == 16974.00, 'functional issue'"
      ],
      "metadata": {
        "colab": {
          "base_uri": "https://localhost:8080/"
        },
        "id": "vuw-K2Cjru9S",
        "outputId": "a91f991f-abcb-4d25-e56d-2ed7de3c04a6"
      },
      "execution_count": 7,
      "outputs": [
        {
          "output_type": "stream",
          "name": "stdout",
          "text": [
            "\n",
            "########## Testing execution count ############\n",
            "\n",
            "Number of executions = 3\n"
          ]
        }
      ]
    },
    {
      "cell_type": "markdown",
      "source": [
        "### 2.2.5 $\\color{Blue}{\n",
        "  \\sigma = \\frac{504000}{x_3^2x_4}\n",
        "}$"
      ],
      "metadata": {
        "id": "uB1w2d9-9yJ3"
      }
    },
    {
      "cell_type": "code",
      "source": [
        "@count\n",
        "def sigma(x_np):\n",
        "  '''\n",
        "  x_np = numpy array = [x1, x2, x3, x4]\n",
        "  '''\n",
        "  [x1, x2, x3, x4] = x_np\n",
        "  _sigma = 504000/((x3**2)*x4)\n",
        "\n",
        "  return _sigma\n",
        "\n",
        "########### unit testing #############\n",
        "print('\\n########## Testing execution count ############\\n')\n",
        "x_np = np.array([1, 2, 3, 4])\n",
        "sigma(x_np)\n",
        "sigma(x_np)\n",
        "sigma(x_np)\n",
        "print(f'Number of executions = {sigma.execution}')\n",
        "\n",
        "assert round(sigma(x_np)) == 14000, 'functional issue'"
      ],
      "metadata": {
        "colab": {
          "base_uri": "https://localhost:8080/"
        },
        "id": "vsvs8JyI53lo",
        "outputId": "95f7bcee-b0f6-426e-8aeb-7e168defe270"
      },
      "execution_count": 8,
      "outputs": [
        {
          "output_type": "stream",
          "name": "stdout",
          "text": [
            "\n",
            "########## Testing execution count ############\n",
            "\n",
            "Number of executions = 3\n"
          ]
        }
      ]
    },
    {
      "cell_type": "markdown",
      "source": [
        "### 2.2.6 $\\color{Blue}{\n",
        "  p = 64746.022(1 - 0.0282346x_3)x_3x_4^3\n",
        "}$"
      ],
      "metadata": {
        "id": "hx1JaLB6-aeq"
      }
    },
    {
      "cell_type": "code",
      "source": [
        "@count\n",
        "def p(x_np):\n",
        "  '''\n",
        "  x_np = numpy array = [x1, x2, x3, x4]\n",
        "  '''\n",
        "  [x1, x2, x3, x4] = x_np\n",
        "  _p = 64746.022*(1 - 0.0282346*x3)*x3*(x4**3)\n",
        "\n",
        "  return _p\n",
        "\n",
        "########### unit testing #############\n",
        "print('\\n########## Testing execution count ############\\n')\n",
        "x_np = np.array([1, 2, 3, 4])\n",
        "p(x_np)\n",
        "p(x_np)\n",
        "p(x_np)\n",
        "print(f'Number of executions = {p.execution}')\n",
        "\n",
        "assert round(p(x_np), 2) == 11378263.28, 'functional issue'"
      ],
      "metadata": {
        "colab": {
          "base_uri": "https://localhost:8080/"
        },
        "id": "fL_1TPgb7Bpy",
        "outputId": "32497a83-cbc2-442e-acca-7fdf22381cda"
      },
      "execution_count": 9,
      "outputs": [
        {
          "output_type": "stream",
          "name": "stdout",
          "text": [
            "\n",
            "########## Testing execution count ############\n",
            "\n",
            "Number of executions = 3\n"
          ]
        }
      ]
    },
    {
      "cell_type": "markdown",
      "source": [
        "### 2.2.7 $\\color{Red}{\n",
        "  g_1(x) = 13600 - \\tau(x)\n",
        "}\n",
        "$"
      ],
      "metadata": {
        "id": "NiAK1YgQBCLK"
      }
    },
    {
      "cell_type": "code",
      "source": [
        "@count\n",
        "def g1(x_np):\n",
        "  '''\n",
        "  x_np = numpy array = [x1, x2, x3, x4]\n",
        "  '''\n",
        "  _t = t(x_np)\n",
        "  _g1 = 13600 - _t\n",
        "\n",
        "  return _g1\n",
        "\n",
        "########### unit testing #############\n",
        "print('\\n########## Testing execution count ############\\n')\n",
        "x_np = np.array([1, 2, 3, 4])\n",
        "g1(x_np)\n",
        "g1(x_np)\n",
        "g1(x_np)\n",
        "print(f'Number of executions = {g1.execution}')\n",
        "\n",
        "assert round(g1(x_np), 2) == -3374, 'functional issue'"
      ],
      "metadata": {
        "colab": {
          "base_uri": "https://localhost:8080/"
        },
        "id": "e5fpwjQB_ldN",
        "outputId": "66e92c26-d928-40c3-af01-3e64d87ce0be"
      },
      "execution_count": 10,
      "outputs": [
        {
          "output_type": "stream",
          "name": "stdout",
          "text": [
            "\n",
            "########## Testing execution count ############\n",
            "\n",
            "Number of executions = 3\n"
          ]
        }
      ]
    },
    {
      "cell_type": "code",
      "source": [
        "@count\n",
        "def g2(x_np):\n",
        "  _sigma = sigma(x_np)\n",
        "  _g2 = 30000 - _sigma\n",
        "\n",
        "  return _g2\n",
        "\n",
        "\n",
        "########### unit testing #############\n",
        "print('\\n########## Testing execution count ############\\n')\n",
        "x_np = np.array([1, 2, 3, 4])\n",
        "g2(x_np)\n",
        "g2(x_np)\n",
        "g2(x_np)\n",
        "print(f'Number of executions = {g2.execution}')\n",
        "\n",
        "assert round(g2(x_np), 2) == 16000, 'functional issue'"
      ],
      "metadata": {
        "colab": {
          "base_uri": "https://localhost:8080/"
        },
        "id": "f_0x7pZMBtm_",
        "outputId": "98b58c08-cc10-4b05-b8f1-54e255226185"
      },
      "execution_count": 11,
      "outputs": [
        {
          "output_type": "stream",
          "name": "stdout",
          "text": [
            "\n",
            "########## Testing execution count ############\n",
            "\n",
            "Number of executions = 3\n"
          ]
        }
      ]
    },
    {
      "cell_type": "code",
      "source": [
        "@count\n",
        "def g3(x_np):\n",
        "  [x1, x2, x3, x4] = x_np\n",
        "  _g3 = x4 - x1\n",
        "  return _g3\n",
        "\n",
        "########### unit testing #############\n",
        "print('\\n########## Testing execution count ############\\n')\n",
        "x_np = np.array([1, 2, 3, 4])\n",
        "g3(x_np)\n",
        "g3(x_np)\n",
        "g3(x_np)\n",
        "print(f'Number of executions = {g3.execution}')\n",
        "\n",
        "assert round(g3(x_np)) == 3, 'functional issue'"
      ],
      "metadata": {
        "colab": {
          "base_uri": "https://localhost:8080/"
        },
        "id": "XDVo_xmrGNXB",
        "outputId": "e09ad60e-72c9-4267-9ab3-548c74774409"
      },
      "execution_count": 12,
      "outputs": [
        {
          "output_type": "stream",
          "name": "stdout",
          "text": [
            "\n",
            "########## Testing execution count ############\n",
            "\n",
            "Number of executions = 3\n"
          ]
        }
      ]
    },
    {
      "cell_type": "code",
      "source": [
        "@count\n",
        "def g4(x_np):\n",
        "  _p = p(x_np)\n",
        "  _g4 = _p - 6000\n",
        "\n",
        "  return _g4\n",
        "\n",
        "########### unit testing #############\n",
        "print('\\n########## Testing execution count ############\\n')\n",
        "x_np = np.array([1, 2, 3, 4])\n",
        "g4(x_np)\n",
        "g4(x_np)\n",
        "g4(x_np)\n",
        "print(f'Number of executions = {g4.execution}')\n",
        "\n",
        "assert round(g4(x_np), 2) == 11372263.28, 'functional issue'"
      ],
      "metadata": {
        "colab": {
          "base_uri": "https://localhost:8080/"
        },
        "id": "PfIGxoDZG6BZ",
        "outputId": "e027b202-9b9d-4149-d697-89a34b3aa055"
      },
      "execution_count": 13,
      "outputs": [
        {
          "output_type": "stream",
          "name": "stdout",
          "text": [
            "\n",
            "########## Testing execution count ############\n",
            "\n",
            "Number of executions = 3\n"
          ]
        }
      ]
    },
    {
      "cell_type": "markdown",
      "source": [
        "# 3. $\\color{Blue}{\n",
        "  \\text{Random Search}\n",
        "}\n",
        "$"
      ],
      "metadata": {
        "id": "TPDzzQPMIqTe"
      }
    },
    {
      "cell_type": "markdown",
      "source": [
        "## 3.1 $\\color{Blue}{\\text{Constraints}}\n",
        "$"
      ],
      "metadata": {
        "id": "foN9nunhJXYL"
      }
    },
    {
      "cell_type": "markdown",
      "source": [
        "\n",
        "\n",
        "1. $\\color{Red}{g_1(x), g_2(x), g_3(x), g_4(x) \\ge 0}$\n",
        "2. $\\color{Red}{x_1,x_2 \\in [0.125, 5]}$\n",
        "3. $\\color{Red}{x_3, x_4 \\in [0.1, 10]}$\n",
        "\n"
      ],
      "metadata": {
        "id": "3V_guczoKju3"
      }
    },
    {
      "cell_type": "markdown",
      "source": [
        "## 3.2 $\\color{Blue}{\n",
        "\\text{Implementation}\n",
        "}$"
      ],
      "metadata": {
        "id": "0IXxSZI-NT4h"
      }
    },
    {
      "cell_type": "code",
      "source": [
        "def random_search(no_samples, lb, ub):\n",
        "  '''\n",
        "  no_samples = Number of samples\n",
        "  Description = Implementation of Random Search\n",
        "  '''\n",
        "  ############### generate samples ##############\n",
        "  x_np_candidates = np.random.uniform(low = lb, high = ub, size = (no_samples, 4))\n",
        "\n",
        "  ################ execute random search with selected candidates ###############\n",
        "  f_values = [f(x_np) for x_np in x_np_candidates]\n",
        "  f_min_index = np.argmin(f_values)\n",
        "  x_np_min = x_np_candidates[f_min_index]\n",
        "  f_min = f_values[f_min_index]\n",
        "  return x_np_min, f_min\n",
        "\n",
        "start = time.perf_counter()\n",
        "n_samples = 1000\n",
        "lb, ub = np.array([0.125, 0.125, 0.1, 0.1]), np.array([5, 5, 10, 10])\n",
        "[x_np_min, f_min] = random_search(n_samples, lb, ub) \n",
        "end = time.perf_counter()\n",
        "\n",
        "print(f'Optimal Value : {x_np_min}')\n",
        "print(f'Execution Time : {round((end - start)*1000, 2)}ms')\n",
        "# print(f'Number of executions (g1(x))= {g1.execution}')"
      ],
      "metadata": {
        "colab": {
          "base_uri": "https://localhost:8080/"
        },
        "id": "beJ2Yf127Axr",
        "outputId": "84bc6032-4beb-4ef2-f701-96df88fa1881"
      },
      "execution_count": 14,
      "outputs": [
        {
          "output_type": "stream",
          "name": "stdout",
          "text": [
            "Optimal Value : [0.66392077 0.17249307 1.98118381 0.20878456]\n",
            "Execution Time : 26.57ms\n"
          ]
        }
      ]
    },
    {
      "cell_type": "code",
      "source": [
        "n_repeat = 21\n",
        "n_samples = 1000\n",
        "lb, ub = np.array([0.125, 0.125, 0.1, 0.1]), np.array([5, 5, 10, 10])\n",
        "start = time.perf_counter()\n",
        "random_search_repeat_results = [random_search(n_samples, lb, ub)[-1] for i in range(n_repeat)]\n",
        "end = time.perf_counter()\n",
        "\n",
        "print(f'Execution Time : {round((end - start)*1000, 2)}ms')\n",
        "assert len(random_search_repeat_results) == 21\n",
        "# assert g1.execution < 10000, f'g1(x) has been executed more than allowed: {g1.execution}'"
      ],
      "metadata": {
        "colab": {
          "base_uri": "https://localhost:8080/"
        },
        "id": "DA8P2rDgvm1z",
        "outputId": "e661f273-c368-4206-aa15-7a323d04bc44"
      },
      "execution_count": 15,
      "outputs": [
        {
          "output_type": "stream",
          "name": "stdout",
          "text": [
            "Execution Time : 129.76ms\n"
          ]
        }
      ]
    },
    {
      "cell_type": "code",
      "source": [
        "plt.figure()\n",
        "plt.boxplot(random_search_repeat_results)\n",
        "plt.show()"
      ],
      "metadata": {
        "colab": {
          "base_uri": "https://localhost:8080/",
          "height": 265
        },
        "id": "CmJalfl7xo3F",
        "outputId": "c144a939-376e-4cef-85c8-5593b83b9e23"
      },
      "execution_count": 16,
      "outputs": [
        {
          "output_type": "display_data",
          "data": {
            "text/plain": [
              "<Figure size 432x288 with 1 Axes>"
            ],
            "image/png": "[encoded data removed]"
          },
          "metadata": {
            "needs_background": "light"
          }
        }
      ]
    },
    {
      "cell_type": "markdown",
      "source": [
        "# 4. $\\color{Blue}{\n",
        "  \\text{Simulated Annealing}\n",
        "}\n",
        "$"
      ],
      "metadata": {
        "id": "T83PzBUq0blk"
      }
    },
    {
      "cell_type": "code",
      "source": [
        "def generate_truncate_rvs(lb, ub, mu, sigma, n_samples = 1):\n",
        "  '''\n",
        "  lb : lower bound\n",
        "  up : upper bound\n",
        "  mu : mean\n",
        "  sigma : standard deviation\n",
        "  n_samples : number of samples\n",
        "  '''\n",
        "  a = (lb - mu)/sigma\n",
        "  b = (ub - mu)/sigma\n",
        "  d = len(a)\n",
        "\n",
        "  r_normalised = truncnorm.rvs(a, b, size = (n_samples, d))\n",
        "  r_scaled = (r_normalised * sigma) + mu\n",
        "  return r_scaled\n",
        "\n",
        "\n",
        "#################### unit testing #################\n",
        "lb, ub = np.array([0.125, 0.125, 0.1, 0.1]), np.array([5, 5, 10, 10])\n",
        "mu = np.array([1, 2, 5, 6])\n",
        "sigma = np.array([2, 2, 2, 2])\n",
        "n_samples = 20000\n",
        "truncated_rvs = generate_truncate_rvs(lb, ub, mu, sigma, n_samples)\n",
        "\n",
        "plt.figure(figsize = (10, 15))\n",
        "ax = plt.subplot(4, 1, 1)\n",
        "ax.set_title('x1 (0.125:5)')\n",
        "ax.hist(truncated_rvs[:, 0], density = True)\n",
        "\n",
        "ax = plt.subplot(4, 1, 2)\n",
        "ax.set_title('x2 (0.125:5)')\n",
        "ax.hist(truncated_rvs[:, 1], density = True)\n",
        "\n",
        "ax = plt.subplot(4, 1, 3)\n",
        "ax.set_title('x3 (0.1:10)')\n",
        "ax.hist(truncated_rvs[:, 2], density = True)\n",
        "\n",
        "ax = plt.subplot(4, 1, 4)\n",
        "ax.set_title('x4 (0.1:10)')\n",
        "ax.hist(truncated_rvs[:, 3], density = True)\n",
        "plt.show()\n"
      ],
      "metadata": {
        "colab": {
          "base_uri": "https://localhost:8080/",
          "height": 879
        },
        "id": "bZJolL81fbCC",
        "outputId": "a33919d5-88c0-4c94-f52b-50eef62cacdd"
      },
      "execution_count": 40,
      "outputs": [
        {
          "output_type": "display_data",
          "data": {
            "text/plain": [
              "<Figure size 720x1080 with 4 Axes>"
            ],
            "image/png": "[encoded data removed]"
          },
          "metadata": {
            "needs_background": "light"
          }
        }
      ]
    },
    {
      "cell_type": "code",
      "source": [
        "def simulated_annealing(n_samples, lb, ub):\n",
        "  '''\n",
        "  no_samples : Number of samples\n",
        "  Description : Implementation of simulated annealing\n",
        "  '''\n",
        "  sigma = np.array([2, 2, 2, 2])\n",
        "  p_accepted = 0.9\n",
        "\n",
        "  x_best = np.random.uniform(low = lb, high = ub)\n",
        "  y_best = f(x_best)\n",
        "\n",
        "  x_c = x_best\n",
        "  y_c = y_best\n",
        "\n",
        "  t_i = 10000 # initial temperature\n",
        "  for k in range(n_samples):\n",
        "    t_k = t_i/(k + 1) # fast annealing model\n",
        "    x_prime = generate_truncate_rvs(lb, ub, x_c, sigma)\n",
        "    x_prime = np.transpose(x_prime[0])\n",
        "    y_prime = f(x_prime)\n",
        "    delta_y = y_prime - y_c\n",
        "\n",
        "    p = min(np.exp(-delta_y/t_k), 1)\n",
        "    # if(p_accepted > p):\n",
        "    #   print(k)\n",
        "    if(delta_y <= 0) or (p_accepted < p): # exploitation and exploration\n",
        "      x_c, y_c = x_prime, y_prime\n",
        "\n",
        "    if(y_prime < y_best):\n",
        "      x_best, y_best = x_prime, y_prime\n",
        "      \n",
        "\n",
        "  return x_best, y_best\n",
        "\n",
        "n_samples = 1000\n",
        "lb, ub = [0.125, 0.125, 0.1, 0.1], [5, 5, 10, 10]\n",
        "start = time.perf_counter()\n",
        "simulated_annealing(n_samples, lb, ub)\n",
        "[x_np_min, f_min] = simulated_annealing(n_samples, lb, ub)\n",
        "end = time.perf_counter()\n",
        "\n",
        "print(f'Optimal value : {x_np_min}')\n",
        "print(f'Execution Time : {end} - {start}')\n"
      ],
      "metadata": {
        "colab": {
          "base_uri": "https://localhost:8080/"
        },
        "id": "gGRO9UoKZHpY",
        "outputId": "dd753ea2-ec97-4ed2-91ff-334dda7677c7"
      },
      "execution_count": 81,
      "outputs": [
        {
          "output_type": "stream",
          "name": "stdout",
          "text": [
            "Optimal value : [0.23906567 1.06536635 0.14085279 0.44439652]\n",
            "Execution Time : 3612.750248766 - 3611.621454602\n"
          ]
        }
      ]
    },
    {
      "cell_type": "code",
      "source": [
        "n_repeat = 21\n",
        "n_samples = 1000\n",
        "lb, ub = np.array([0.125, 0.125, 0.1, 0.1]), np.array([5, 5, 10, 10])\n",
        "start = time.perf_counter()\n",
        "simulated_annealing_results = [simulated_annealing(n_samples, lb, ub)[-1] for i in range(n_repeat)]\n",
        "end = time.perf_counter()\n",
        "\n",
        "print(f'Execution Time : {round((end - start)*1000, 2)}ms')\n",
        "assert len(simulated_annealing_results) == 21\n",
        "# assert g1.execution < 10000, f'g1(x) has been executed more than allowed: {g1.execution}'"
      ],
      "metadata": {
        "colab": {
          "base_uri": "https://localhost:8080/"
        },
        "id": "O8rwsfc-Cz_2",
        "outputId": "6ef2425e-3362-413e-fe21-3e20a279250b"
      },
      "execution_count": 82,
      "outputs": [
        {
          "output_type": "stream",
          "name": "stdout",
          "text": [
            "Execution Time : 11033.49ms\n"
          ]
        }
      ]
    },
    {
      "cell_type": "code",
      "source": [
        "plt.figure()\n",
        "plt.boxplot(simulated_annealing_results)\n",
        "plt.show()"
      ],
      "metadata": {
        "colab": {
          "base_uri": "https://localhost:8080/",
          "height": 265
        },
        "id": "AYk-XTkNC2x9",
        "outputId": "2ac77ec5-6705-439d-c63b-065d7d7a3612"
      },
      "execution_count": 83,
      "outputs": [
        {
          "output_type": "display_data",
          "data": {
            "text/plain": [
              "<Figure size 432x288 with 1 Axes>"
            ],
            "image/png": "[encoded data removed]"
          },
          "metadata": {
            "needs_background": "light"
          }
        }
      ]
    },
    {
      "cell_type": "markdown",
      "source": [
        "# 4. $\\color{Blue}{\n",
        "  \\text{Evaluation}\n",
        "}\n",
        "$"
      ],
      "metadata": {
        "id": "E9NS2FtbDXzF"
      }
    },
    {
      "cell_type": "code",
      "source": [
        "plt.figure()\n",
        "plt.boxplot([random_search_repeat_results, simulated_annealing_results])\n",
        "plt.xticks([1,2],['Random Search', 'Simulated Annealing'])\n",
        "plt.ylabel('Best Optimum Value')\n",
        "plt.show()"
      ],
      "metadata": {
        "colab": {
          "base_uri": "https://localhost:8080/",
          "height": 265
        },
        "id": "YhxQ1zwjDpkQ",
        "outputId": "9b9f9396-3b8e-45b5-fb27-c15b3fa9bde7"
      },
      "execution_count": 84,
      "outputs": [
        {
          "output_type": "display_data",
          "data": {
            "text/plain": [
              "<Figure size 432x288 with 1 Axes>"
            ],
            "image/png": "[encoded data removed]"
          },
          "metadata": {
            "needs_background": "light"
          }
        }
      ]
    }
  ]
}