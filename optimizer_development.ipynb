{
  "nbformat": 4,
  "nbformat_minor": 0,
  "metadata": {
    "colab": {
      "provenance": [],
      "collapsed_sections": [
        "S-nlUF-WSsSj",
        "ufCdQkBeUyYQ",
        "JF1bTufBTbsS",
        "NFwooOyYjLUx",
        "DywWyjP5qIw2"
      ]
    },
    "kernelspec": {
      "name": "python3",
      "display_name": "Python 3"
    },
    "language_info": {
      "name": "python"
    }
  },
  "cells": [
    {
      "cell_type": "markdown",
      "source": [
        "# 1. $\\color{Blue}{\\text{Installations}}$"
      ],
      "metadata": {
        "id": "jYt5UcD5QqSC"
      }
    },
    {
      "cell_type": "code",
      "source": [
        "import numpy as np\n",
        "import doctest\n",
        "import math"
      ],
      "metadata": {
        "id": "dreNm6-yuGUu"
      },
      "execution_count": 2,
      "outputs": []
    },
    {
      "cell_type": "markdown",
      "source": [
        "# 2. $\\color{Blue}{\\text{Function Definitions}}$"
      ],
      "metadata": {
        "id": "5r7-PsNdSXxl"
      }
    },
    {
      "cell_type": "markdown",
      "source": [
        "## 2.1 $\\color{Blue}{\\text{Function Counter Decorator}}$"
      ],
      "metadata": {
        "id": "S-nlUF-WSsSj"
      }
    },
    {
      "cell_type": "code",
      "source": [
        "def count(fn):\n",
        "  '''\n",
        "  This is a decorator function to count number of function executions\n",
        "  fn : function\n",
        "  '''\n",
        "  def decorated_fn(*args, **kwargs):\n",
        "    decorated_fn.execution += 1\n",
        "    return fn(*args, **kwargs)\n",
        "  decorated_fn.execution = 0\n",
        "  return decorated_fn"
      ],
      "metadata": {
        "id": "w5IVWA1-4Xqt"
      },
      "execution_count": 3,
      "outputs": []
    },
    {
      "cell_type": "markdown",
      "source": [
        "## 2.2 $\\color{Blue}{\\text{Implementations of Equations}}$"
      ],
      "metadata": {
        "id": "SV_Vap2tTIQN"
      }
    },
    {
      "cell_type": "markdown",
      "source": [
        "### 2.2.1 $\n",
        "\\color{Red}{\n",
        "f(x) = 1.10471 x1^2 x2 + 0.04811x3x4(14.0 + x2)\n",
        "}\n",
        "$"
      ],
      "metadata": {
        "id": "ufCdQkBeUyYQ"
      }
    },
    {
      "cell_type": "code",
      "execution_count": 4,
      "metadata": {
        "colab": {
          "base_uri": "https://localhost:8080/"
        },
        "id": "7D5LatQ0e4ca",
        "outputId": "24f2a823-c69c-4dd0-f927-3ed0ce52ce95"
      },
      "outputs": [
        {
          "output_type": "stream",
          "name": "stdout",
          "text": [
            "\n",
            "########## Testing execution count ############\n",
            "\n",
            "Number of executions = 2\n"
          ]
        }
      ],
      "source": [
        "@count # f = count(f)\n",
        "def f(x_np):\n",
        "  '''\n",
        "  x_np = numpy array = [x1, x2, x3, x4]\n",
        "  '''\n",
        "  [x1, x2, x3, x4] = x_np\n",
        "  f_x = 1.10471*x1*x1*x2 + 0.04811*x3*x4*(14.0 + x2)\n",
        "  return f_x\n",
        "\n",
        "########### unit testing #############\n",
        "print('\\n########## Testing execution count ############\\n')\n",
        "x_np = np.array([1, 2, 3, 4])\n",
        "f(x_np)\n",
        "f(x_np)\n",
        "print(f'Number of executions = {f.execution}')"
      ]
    },
    {
      "cell_type": "markdown",
      "source": [
        "### 2.2.2 ${\\color{Blue}{\n",
        "\\tau' = \\frac{6000}{\\sqrt{2}x1x2}\n",
        "}}$"
      ],
      "metadata": {
        "id": "JF1bTufBTbsS"
      }
    },
    {
      "cell_type": "code",
      "source": [
        "@count # t1 = count(t1)\n",
        "def t1(x_np):\n",
        "  '''\n",
        "  x_np = numpy array = [x1, x2, x3, x4]\n",
        "  '''\n",
        "  [x1, x2, x3, x4] = x_np\n",
        "  _t1 = 6000/(math.sqrt(2)*x1*x2)\n",
        "  return _t1\n",
        "\n",
        "########### unit testing #############\n",
        "print('\\n########## Testing execution count ############\\n')\n",
        "x_np = np.array([1, 2, 3, 4])\n",
        "t1(x_np)\n",
        "t1(x_np)\n",
        "print(f'Number of executions = {t1.execution}')\n",
        "\n",
        "assert round(t1(x_np), 2) == 2121.32"
      ],
      "metadata": {
        "colab": {
          "base_uri": "https://localhost:8080/"
        },
        "id": "EdU-Q_g7KWPQ",
        "outputId": "2cb39dfa-97dc-4142-e714-dac731828eda"
      },
      "execution_count": 13,
      "outputs": [
        {
          "output_type": "stream",
          "name": "stdout",
          "text": [
            "\n",
            "########## Testing execution count ############\n",
            "\n",
            "Number of executions = 2\n"
          ]
        }
      ]
    },
    {
      "cell_type": "markdown",
      "source": [
        "### 2.2.3 $\n",
        "\\color{Blue}{\n",
        "\\tau'' = \\frac{6000(14+0.5x_2)\\sqrt{0.25(x_2^2+(x_1+x_3)^2)}}{2(0.707x_1x_2(\\frac{x_2^2}{12}+0.25(x_1+x_3)^2))}\n",
        "}\n",
        "$"
      ],
      "metadata": {
        "id": "NFwooOyYjLUx"
      }
    },
    {
      "cell_type": "code",
      "source": [
        "@count # t2 = count(t2)\n",
        "def t2(x_np):\n",
        "  '''\n",
        "  x_np = numpy array = [x1, x2, x3, x4]\n",
        "  '''\n",
        "  [x1, x2, x3, x4] = x_np\n",
        "  numerator = 6000*(14+0.5*x2)*math.sqrt(0.25*(x2**2 + (x1+x3)**2))\n",
        "  denominator = 2*(0.707*x1*x2*((x2**2/12) + 0.25*((x1+x3)**2))) \n",
        "\n",
        "  if denominator == 0 :\n",
        "    raise RuntimeWarning(\"Error\")\n",
        "\n",
        "  _t2 = numerator/denominator\n",
        "  return _t2\n",
        "\n",
        "########### unit testing #############\n",
        "print('\\n########## Testing execution count ############\\n')\n",
        "x_np = np.array([1, 2, 3, 4])\n",
        "t2(x_np)\n",
        "t2(x_np)\n",
        "t2(x_np)\n",
        "print(f'Number of executions = {t2.execution}')\n",
        "\n",
        "assert round(t2(x_np)) == 16422.00"
      ],
      "metadata": {
        "colab": {
          "base_uri": "https://localhost:8080/"
        },
        "id": "K3HjZWg9VwZp",
        "outputId": "1a5ee792-c838-4fa1-ba97-85ea2b1317cc"
      },
      "execution_count": 16,
      "outputs": [
        {
          "output_type": "stream",
          "name": "stdout",
          "text": [
            "\n",
            "########## Testing execution count ############\n",
            "\n",
            "Number of executions = 3\n"
          ]
        }
      ]
    },
    {
      "cell_type": "markdown",
      "source": [
        "### 2.2.4 $\n",
        "\\color{Blue}{\n",
        "\\tau = \\sqrt{(\\tau'^2+\\tau''^2) + \\frac{x_2\\tau'\\tau''}{\\sqrt{0.25(x_2^2 + (x_1 + x_3)^2)}}}\n",
        "}$"
      ],
      "metadata": {
        "id": "DywWyjP5qIw2"
      }
    },
    {
      "cell_type": "code",
      "source": [
        "@count\n",
        "def t(x_np):\n",
        "  '''\n",
        "  x_np = numpy array = [x1, x2, x3, x4]\n",
        "  '''\n",
        "  [x1, x2, x3, x4] = x_np\n",
        "  _t1 = t1(x_np)\n",
        "  _t2 = t2(x_np)\n",
        "  _t = math.sqrt((_t1**2 + _t2**2) \n",
        "  + ((x2*_t1*_t2)/(0.25*(x2**2 + (x1 + x3)**2))))\n",
        "\n",
        "  return _t\n",
        "\n",
        "########### unit testing #############\n",
        "print('\\n########## Testing execution count ############\\n')\n",
        "x_np = np.array([1, 2, 3, 4])\n",
        "t(x_np)\n",
        "t(x_np)\n",
        "t(x_np)\n",
        "print(f'Number of executions = {t.execution}')\n",
        "\n",
        "_t = t(x_np)\n",
        "assert round(_t, 2) == 16974.00, 'functional issue'"
      ],
      "metadata": {
        "colab": {
          "base_uri": "https://localhost:8080/"
        },
        "id": "vuw-K2Cjru9S",
        "outputId": "af10202e-5bd8-4015-bc4f-4137b1a539c7"
      },
      "execution_count": 17,
      "outputs": [
        {
          "output_type": "stream",
          "name": "stdout",
          "text": [
            "\n",
            "########## Testing execution count ############\n",
            "\n",
            "Number of executions = 3\n"
          ]
        }
      ]
    },
    {
      "cell_type": "markdown",
      "source": [
        "### 2.2.5 $\\color{Blue}{\n",
        "  \\sigma = \\frac{504000}{x_3^2x_4}\n",
        "}$"
      ],
      "metadata": {
        "id": "uB1w2d9-9yJ3"
      }
    },
    {
      "cell_type": "code",
      "source": [
        "@count\n",
        "def sigma(x_np):\n",
        "  '''\n",
        "  x_np = numpy array = [x1, x2, x3, x4]\n",
        "  '''\n",
        "  [x1, x2, x3, x4] = x_np\n",
        "  _sigma = 504000/((x3**2)*x4)\n",
        "\n",
        "  return _sigma\n",
        "\n",
        "########### unit testing #############\n",
        "print('\\n########## Testing execution count ############\\n')\n",
        "x_np = np.array([1, 2, 3, 4])\n",
        "sigma(x_np)\n",
        "sigma(x_np)\n",
        "sigma(x_np)\n",
        "print(f'Number of executions = {sigma.execution}')\n",
        "\n",
        "assert round(sigma(x_np)) == 14000, 'functional issue'"
      ],
      "metadata": {
        "colab": {
          "base_uri": "https://localhost:8080/"
        },
        "id": "vsvs8JyI53lo",
        "outputId": "0f97e503-65ca-42d2-89e9-9e12e666d93e"
      },
      "execution_count": 20,
      "outputs": [
        {
          "output_type": "stream",
          "name": "stdout",
          "text": [
            "\n",
            "########## Testing execution count ############\n",
            "\n",
            "Number of executions = 3\n"
          ]
        }
      ]
    },
    {
      "cell_type": "markdown",
      "source": [
        "### 2.2.6 $\\color{Blue}{\n",
        "  p = 64746.022(1 - 0.0282346x_3)x_3x_4^3\n",
        "}$"
      ],
      "metadata": {
        "id": "hx1JaLB6-aeq"
      }
    },
    {
      "cell_type": "code",
      "source": [
        "@count\n",
        "def p(x_np):\n",
        "  '''\n",
        "  x_np = numpy array = [x1, x2, x3, x4]\n",
        "  '''\n",
        "  [x1, x2, x3, x4] = x_np\n",
        "  _p = 64746.022*(1 - 0.0282346*x3)*x3*(x4**3)\n",
        "\n",
        "  return _p\n",
        "\n",
        "########### unit testing #############\n",
        "print('\\n########## Testing execution count ############\\n')\n",
        "x_np = np.array([1, 2, 3, 4])\n",
        "p(x_np)\n",
        "p(x_np)\n",
        "p(x_np)\n",
        "print(f'Number of executions = {p.execution}')\n",
        "\n",
        "assert round(p(x_np), 2) == 11378263.28, 'functional issue'"
      ],
      "metadata": {
        "colab": {
          "base_uri": "https://localhost:8080/"
        },
        "id": "fL_1TPgb7Bpy",
        "outputId": "7bace772-1f5e-4d51-c4cb-54269d2b6381"
      },
      "execution_count": 26,
      "outputs": [
        {
          "output_type": "stream",
          "name": "stdout",
          "text": [
            "\n",
            "########## Testing execution count ############\n",
            "\n",
            "Number of executions = 3\n"
          ]
        }
      ]
    },
    {
      "cell_type": "markdown",
      "source": [
        "### 2.2.7 $\\color{Red}{\n",
        "  g_1(x) = 13600 - \\tau(x)\n",
        "}\n",
        "$"
      ],
      "metadata": {
        "id": "NiAK1YgQBCLK"
      }
    },
    {
      "cell_type": "code",
      "source": [
        "@count\n",
        "def g1(x_np):\n",
        "  '''\n",
        "  x_np = numpy array = [x1, x2, x3, x4]\n",
        "  '''\n",
        "  _t = t(x_np)\n",
        "  _g1 = 13600 - _t\n",
        "\n",
        "  return _g1\n",
        "\n",
        "########### unit testing #############\n",
        "print('\\n########## Testing execution count ############\\n')\n",
        "x_np = np.array([1, 2, 3, 4])\n",
        "g1(x_np)\n",
        "g1(x_np)\n",
        "g1(x_np)\n",
        "print(f'Number of executions = {g1.execution}')\n",
        "\n",
        "assert round(g1(x_np), 2) == -3374, 'functional issue'"
      ],
      "metadata": {
        "colab": {
          "base_uri": "https://localhost:8080/"
        },
        "id": "e5fpwjQB_ldN",
        "outputId": "395ce2d2-b297-4d7b-aa03-3f262586b500"
      },
      "execution_count": 28,
      "outputs": [
        {
          "output_type": "stream",
          "name": "stdout",
          "text": [
            "\n",
            "########## Testing execution count ############\n",
            "\n",
            "Number of executions = 3\n"
          ]
        }
      ]
    },
    {
      "cell_type": "code",
      "source": [
        "@count\n",
        "def g2(x_np):\n",
        "  _sigma = sigma(x_np)\n",
        "  _g2 = 30000 - _sigma\n",
        "\n",
        "  return _g2\n",
        "\n",
        "\n",
        "########### unit testing #############\n",
        "print('\\n########## Testing execution count ############\\n')\n",
        "x_np = np.array([1, 2, 3, 4])\n",
        "g2(x_np)\n",
        "g2(x_np)\n",
        "g2(x_np)\n",
        "print(f'Number of executions = {g2.execution}')\n",
        "\n",
        "assert round(g2(x_np), 2) == 16000, 'functional issue'"
      ],
      "metadata": {
        "colab": {
          "base_uri": "https://localhost:8080/"
        },
        "id": "f_0x7pZMBtm_",
        "outputId": "fb7a9360-3bd4-483d-8b54-1569ecdcf98b"
      },
      "execution_count": 34,
      "outputs": [
        {
          "output_type": "stream",
          "name": "stdout",
          "text": [
            "\n",
            "########## Testing execution count ############\n",
            "\n",
            "Number of executions = 3\n"
          ]
        }
      ]
    },
    {
      "cell_type": "code",
      "source": [
        "@count\n",
        "def g3(x_np):\n",
        "  [x1, x2, x3, x4] = x_np\n",
        "  _g3 = x4 - x1\n",
        "  return _g3\n",
        "\n",
        "########### unit testing #############\n",
        "print('\\n########## Testing execution count ############\\n')\n",
        "x_np = np.array([1, 2, 3, 4])\n",
        "g3(x_np)\n",
        "g3(x_np)\n",
        "g3(x_np)\n",
        "print(f'Number of executions = {g3.execution}')\n",
        "\n",
        "assert round(g3(x_np)) == 3, 'functional issue'"
      ],
      "metadata": {
        "colab": {
          "base_uri": "https://localhost:8080/"
        },
        "id": "XDVo_xmrGNXB",
        "outputId": "4f5df71c-57e9-493e-a600-f8342ec912e9"
      },
      "execution_count": 36,
      "outputs": [
        {
          "output_type": "stream",
          "name": "stdout",
          "text": [
            "\n",
            "########## Testing execution count ############\n",
            "\n",
            "Number of executions = 3\n"
          ]
        }
      ]
    },
    {
      "cell_type": "code",
      "source": [
        "@count\n",
        "def g4(x_np):\n",
        "  _p = p(x_np)\n",
        "  _g4 = _p - 6000\n",
        "\n",
        "  return _g4\n",
        "\n",
        "########### unit testing #############\n",
        "print('\\n########## Testing execution count ############\\n')\n",
        "x_np = np.array([1, 2, 3, 4])\n",
        "g4(x_np)\n",
        "g4(x_np)\n",
        "g4(x_np)\n",
        "print(f'Number of executions = {g4.execution}')\n",
        "\n",
        "assert round(g4(x_np), 2) == 11372263.28, 'functional issue'"
      ],
      "metadata": {
        "colab": {
          "base_uri": "https://localhost:8080/"
        },
        "id": "PfIGxoDZG6BZ",
        "outputId": "7089771a-d6c5-4953-a1e5-cb901cf68621"
      },
      "execution_count": 41,
      "outputs": [
        {
          "output_type": "stream",
          "name": "stdout",
          "text": [
            "\n",
            "########## Testing execution count ############\n",
            "\n",
            "Number of executions = 3\n"
          ]
        }
      ]
    },
    {
      "cell_type": "markdown",
      "source": [
        "# 3. $\\color{Blue}{\n",
        "  \\text{Random Search}\n",
        "}\n",
        "$"
      ],
      "metadata": {
        "id": "TPDzzQPMIqTe"
      }
    },
    {
      "cell_type": "markdown",
      "source": [
        "## 3.1 $\\color{Blue}{\\text{Constraints}}\n",
        "$"
      ],
      "metadata": {
        "id": "foN9nunhJXYL"
      }
    },
    {
      "cell_type": "markdown",
      "source": [
        "\n",
        "\n",
        "1. $\\color{Red}{g_1(x), g_2(x), g_3(x), g_4(x) \\ge 0}$\n",
        "2. $\\color{Red}{x_1,x_2 \\in [0.125, 5]}$\n",
        "3. $\\color{Red}{x_3, x_4 \\in [0.1, 10]}$\n",
        "\n"
      ],
      "metadata": {
        "id": "3V_guczoKju3"
      }
    },
    {
      "cell_type": "markdown",
      "source": [
        "## 3.2 $\\color{Blue}{\n",
        "\\text{Implementation}\n",
        "}$"
      ],
      "metadata": {
        "id": "0IXxSZI-NT4h"
      }
    }
  ]
}