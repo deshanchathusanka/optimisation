{
  "nbformat": 4,
  "nbformat_minor": 0,
  "metadata": {
    "colab": {
      "provenance": [],
      "collapsed_sections": []
    },
    "kernelspec": {
      "name": "python3",
      "display_name": "Python 3"
    },
    "language_info": {
      "name": "python"
    }
  },
  "cells": [
    {
      "cell_type": "markdown",
      "source": [
        "# 1. Manual Selection"
      ],
      "metadata": {
        "id": "4yexuX-j6jiz"
      }
    },
    {
      "cell_type": "markdown",
      "source": [
        " Y = MX + C ( X = Predictor, Y = Predictand)"
      ],
      "metadata": {
        "id": "r4JuEeBfxPgc"
      }
    },
    {
      "cell_type": "code",
      "execution_count": 1,
      "metadata": {
        "id": "QTF1pvsJwpHK"
      },
      "outputs": [],
      "source": [
        "from google.colab import drive\n",
        "import numpy as np\n",
        "import sys\n",
        "import time\n",
        "import matplotlib.pyplot as plt"
      ]
    },
    {
      "cell_type": "code",
      "source": [
        "drive.mount('/content/drive')\n",
        "!ln -s \"/content/drive/My Drive/Academic/CSCM 72 - Optimisation/Assignment/data\""
      ],
      "metadata": {
        "id": "wf9XEZup446l",
        "colab": {
          "base_uri": "https://localhost:8080/"
        },
        "outputId": "efee4732-e4a9-445a-ae19-41b794a6200d"
      },
      "execution_count": 2,
      "outputs": [
        {
          "output_type": "stream",
          "name": "stdout",
          "text": [
            "Mounted at /content/drive\n"
          ]
        }
      ]
    },
    {
      "cell_type": "code",
      "source": [
        "def mean_square_error(x, y, theta):\n",
        "  m = theta[0]\n",
        "  c = theta[1]\n",
        "\n",
        "  y_hat = m*x + c\n",
        "  error = y - y_hat\n",
        "  mse = np.dot(error, error)\n",
        "\n",
        "  return mse"
      ],
      "metadata": {
        "id": "-m0ZzhAQ27uI"
      },
      "execution_count": 3,
      "outputs": []
    },
    {
      "cell_type": "code",
      "source": [
        "theta = np.array([0.7, 1.9])\n",
        "x = np.array([1, 2, 3, 4, 5])\n",
        "y = np.array([2, 4, 5, 4, 5])\n",
        "\n",
        "mse = mean_square_error(x, y, theta)\n",
        "print(mse)"
      ],
      "metadata": {
        "colab": {
          "base_uri": "https://localhost:8080/"
        },
        "id": "UqZuqOwo5Jq0",
        "outputId": "72e66c47-8c14-4339-f291-9d1f92f590ef"
      },
      "execution_count": 4,
      "outputs": [
        {
          "output_type": "stream",
          "name": "stdout",
          "text": [
            "2.5\n"
          ]
        }
      ]
    },
    {
      "cell_type": "markdown",
      "source": [
        "# 2. Grid Search Implementation"
      ],
      "metadata": {
        "id": "Z788tY936apg"
      }
    },
    {
      "cell_type": "code",
      "source": [
        "def grid_search(k, search_range, x, y):\n",
        "  \"\"\"\n",
        "  k = (n, 1) = number of regular intervals\n",
        "  range = (n, 2) = minimum and maximum of each dimension\n",
        "  x = predictor\n",
        "  y = predictand\n",
        "  \"\"\"\n",
        "  n = len(k)\n",
        "  theta_cmb = [None]*n\n",
        "\n",
        "  for i in range(0, n):\n",
        "    k_i = k[i]\n",
        "    search_range_i = search_range[i]\n",
        "    theta_i = np.linspace(*search_range_i, k_i)\n",
        "    theta_cmb[i] = theta_i\n",
        "  \n",
        "  theta_cmb = np.array(np.meshgrid(*theta_cmb)).T.reshape(-1,n)\n",
        "  no_cmb = len(theta_cmb)\n",
        "  mse_cmb = [sys.maxsize]*no_cmb\n",
        "  \n",
        "  i = 0\n",
        "  for theta in theta_cmb:\n",
        "    mse = mean_square_error(x, y, theta)\n",
        "    mse_cmb[i] = mse\n",
        "    i = i + 1\n",
        "  \n",
        "  min_index = np.argmin(mse_cmb)\n",
        "  optimal_selection = theta_cmb[min_index]\n",
        "  min_mse = mse_cmb[min_index]\n",
        "  \n",
        "  return optimal_selection, min_mse"
      ],
      "metadata": {
        "id": "tbd1vG66kZ7P"
      },
      "execution_count": 5,
      "outputs": []
    },
    {
      "cell_type": "code",
      "source": [
        "k = np.array([20, 20])\n",
        "search_range = np.array([\n",
        "    [0, 2],\n",
        "    [0, 2]\n",
        "])\n",
        "x = np.array([1, 2, 3, 4, 5])\n",
        "y = np.array([2, 4, 5, 4, 5])\n",
        "\n",
        "optimal_selection, min_mse = grid_search(k, search_range, x, y)\n",
        "print(optimal_selection)\n",
        "print(min_mse)"
      ],
      "metadata": {
        "colab": {
          "base_uri": "https://localhost:8080/"
        },
        "id": "RmbZuHDWjpfP",
        "outputId": "32f2773f-2b43-41b7-c203-ca8ed9f7b1bb"
      },
      "execution_count": 6,
      "outputs": [
        {
          "output_type": "stream",
          "name": "stdout",
          "text": [
            "[0.63157895 2.        ]\n",
            "2.465373961218838\n"
          ]
        }
      ]
    },
    {
      "cell_type": "markdown",
      "source": [
        "# 3. Random Search Implementation"
      ],
      "metadata": {
        "id": "npNuoOHD8zzC"
      }
    },
    {
      "cell_type": "code",
      "source": [
        "def random_search(search_range, x, y, N):\n",
        "  \"\"\"\n",
        "  search_range = (dimension, 2) = minimum and maximum of each dimension\n",
        "  x = predictor\n",
        "  y = predictand\n",
        "  N = Number of iterations\n",
        "  \"\"\"\n",
        "  dimension = len(search_range) # len(ndarray) = first dimension of the array\n",
        "  theta_cmb = theta_i = np.random.uniform(low = search_range[:, 0], high = search_range[:, 1], size = (N, dimension))\n",
        "\n",
        "  no_cmb = len(theta_cmb)\n",
        "  mse_cmb = [sys.maxsize]*no_cmb\n",
        "  \n",
        "  i = 0\n",
        "  for theta in theta_cmb:\n",
        "    mse = mean_square_error(x, y, theta)\n",
        "    mse_cmb[i] = mse\n",
        "    i = i + 1\n",
        "  \n",
        "  min_index = np.argmin(mse_cmb)\n",
        "  optimal_selection = theta_cmb[min_index]\n",
        "  min_mse = mse_cmb[min_index]\n",
        "  \n",
        "  return optimal_selection, min_mse"
      ],
      "metadata": {
        "id": "juDErxh4EvMl"
      },
      "execution_count": 9,
      "outputs": []
    },
    {
      "cell_type": "markdown",
      "source": [
        "# 4. Performance Analysis"
      ],
      "metadata": {
        "id": "x_rjiEEnJ71N"
      }
    },
    {
      "cell_type": "code",
      "source": [
        "min_mse_values_grid = np.zeros(100)\n",
        "for i in range(0, 100):\n",
        "  optimal_selection, min_mse = grid_search(k, search_range, x, y)\n",
        "  min_mse_values_grid[i] = min_mse\n",
        "\n",
        "min_mse_values_random = np.zeros(100)\n",
        "for i in range(0, 100):\n",
        "  optimal_selection, min_mse = random_search(search_range, x, y, 20)\n",
        "  min_mse_values_random[i] = min_mse\n",
        "\n",
        "\n",
        "# Box plot represents minimum, first quartile, median, third quartile, maximum values.\n",
        "fig = plt.figure(figsize=(10, 10))\n",
        "plt.boxplot([min_mse_values_grid, min_mse_values_random])\n",
        "plt.show()"
      ],
      "metadata": {
        "colab": {
          "base_uri": "https://localhost:8080/",
          "height": 592
        },
        "id": "NnemcDQIHm6g",
        "outputId": "be52f066-0276-45cc-abfb-bd1b81ea1a93"
      },
      "execution_count": 10,
      "outputs": [
        {
          "output_type": "display_data",
          "data": {
            "text/plain": [
              "<Figure size 720x720 with 1 Axes>"
            ],
            "image/png": "[encoded data removed]"
          },
          "metadata": {
            "needs_background": "light"
          }
        }
      ]
    },
    {
      "cell_type": "markdown",
      "source": [
        "# 4. References\n",
        "\n",
        "[1] https://builtin.com/data-science/boxplot"
      ],
      "metadata": {
        "id": "rz9JUm1Ms4V1"
      }
    }
  ]
}