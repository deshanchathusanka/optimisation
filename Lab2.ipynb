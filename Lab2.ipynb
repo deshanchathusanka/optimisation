{
  "nbformat": 4,
  "nbformat_minor": 0,
  "metadata": {
    "colab": {
      "provenance": [],
      "collapsed_sections": [],
      "authorship_tag": "ABX9TyOFiyRyEo6FBhdGsB2PZwXl",
      "include_colab_link": true
    },
    "kernelspec": {
      "name": "python3",
      "display_name": "Python 3"
    },
    "language_info": {
      "name": "python"
    }
  },
  "cells": [
    {
      "cell_type": "markdown",
      "metadata": {
        "id": "view-in-github",
        "colab_type": "text"
      },
      "source": [
        "<a href=\"https://colab.research.google.com/github/deshanchathusanka/optimisation/blob/main/Lab2.ipynb\" target=\"_parent\"><img src=\"https://colab.research.google.com/assets/colab-badge.svg\" alt=\"Open In Colab\"/></a>"
      ]
    },
    {
      "cell_type": "markdown",
      "source": [
        "# 1. Manual Selection"
      ],
      "metadata": {
        "id": "4yexuX-j6jiz"
      }
    },
    {
      "cell_type": "markdown",
      "source": [
        " Y = MX + C ( X = Predictor, Y = Predictand)"
      ],
      "metadata": {
        "id": "r4JuEeBfxPgc"
      }
    },
    {
      "cell_type": "code",
      "execution_count": 69,
      "metadata": {
        "id": "QTF1pvsJwpHK"
      },
      "outputs": [],
      "source": [
        "from google.colab import drive\n",
        "import numpy as np\n",
        "import sys\n",
        "import time\n",
        "import matplotlib.pyplot as plt"
      ]
    },
    {
      "cell_type": "code",
      "source": [
        "drive.mount('/content/drive')\n",
        "!ln -s \"/content/drive/My Drive/Academic/CSCM 72 - Optimisation/Assignment/data\""
      ],
      "metadata": {
        "id": "wf9XEZup446l",
        "colab": {
          "base_uri": "https://localhost:8080/"
        },
        "outputId": "52bbc4ca-8a81-4297-ffce-e68b08c39a05"
      },
      "execution_count": 2,
      "outputs": [
        {
          "output_type": "stream",
          "name": "stdout",
          "text": [
            "Mounted at /content/drive\n"
          ]
        }
      ]
    },
    {
      "cell_type": "code",
      "source": [
        "def mean_square_error(x, y, theta):\n",
        "  m = theta[0]\n",
        "  c = theta[1]\n",
        "\n",
        "  y_hat = m*x + c\n",
        "  error = y - y_hat\n",
        "  mse = np.dot(error, error)\n",
        "\n",
        "  return mse"
      ],
      "metadata": {
        "id": "-m0ZzhAQ27uI"
      },
      "execution_count": 3,
      "outputs": []
    },
    {
      "cell_type": "code",
      "source": [
        "theta = np.array([0.7, 1.9])\n",
        "x = np.array([1, 2, 3, 4, 5])\n",
        "y = np.array([2, 4, 5, 4, 5])\n",
        "\n",
        "mse = mean_square_error(x, y, theta)\n",
        "print(mse)"
      ],
      "metadata": {
        "colab": {
          "base_uri": "https://localhost:8080/"
        },
        "id": "UqZuqOwo5Jq0",
        "outputId": "db0ba03d-ae6e-4fa7-94eb-7494f163c742"
      },
      "execution_count": 4,
      "outputs": [
        {
          "output_type": "stream",
          "name": "stdout",
          "text": [
            "2.5\n"
          ]
        }
      ]
    },
    {
      "cell_type": "markdown",
      "source": [
        "# 2. Grid Search Implementation"
      ],
      "metadata": {
        "id": "Z788tY936apg"
      }
    },
    {
      "cell_type": "code",
      "source": [
        "def grid_search(k, search_range, x, y):\n",
        "  \"\"\"\n",
        "  k = (n, 1) = number of regular intervals\n",
        "  range = (n, 2) = minimum and maximum of each dimension\n",
        "  x = predictor\n",
        "  y = predictand\n",
        "  \"\"\"\n",
        "  n = len(k)\n",
        "  theta_cmb = [None]*n\n",
        "\n",
        "  for i in range(0, n):\n",
        "    k_i = k[i]\n",
        "    search_range_i = search_range[i]\n",
        "    theta_i = np.linspace(*search_range_i, k_i)\n",
        "    theta_cmb[i] = theta_i\n",
        "  \n",
        "  theta_cmb = np.array(np.meshgrid(*theta_cmb)).T.reshape(-1,n)\n",
        "  no_cmb = len(theta_cmb)\n",
        "  mse_cmb = [sys.maxsize]*no_cmb\n",
        "  \n",
        "  i = 0\n",
        "  for theta in theta_cmb:\n",
        "    mse = mean_square_error(x, y, theta)\n",
        "    mse_cmb[i] = mse\n",
        "    i = i + 1\n",
        "  \n",
        "  min_index = np.argmin(mse_cmb)\n",
        "  optimal_selection = theta_cmb[min_index]\n",
        "  min_mse = mse_cmb[min_index]\n",
        "  \n",
        "  return optimal_selection, min_mse"
      ],
      "metadata": {
        "id": "tbd1vG66kZ7P"
      },
      "execution_count": 64,
      "outputs": []
    },
    {
      "cell_type": "code",
      "source": [
        "k = np.array([20, 20])\n",
        "search_range = np.array([\n",
        "    [0, 2],\n",
        "    [0, 2]\n",
        "])\n",
        "x = np.array([1, 2, 3, 4, 5])\n",
        "y = np.array([2, 4, 5, 4, 5])\n",
        "\n",
        "optimal_selection, min_mse = grid_search(k, search_range, x, y)\n",
        "print(optimal_selection)\n",
        "print(min_mse)"
      ],
      "metadata": {
        "colab": {
          "base_uri": "https://localhost:8080/"
        },
        "id": "RmbZuHDWjpfP",
        "outputId": "6c35cedd-204b-4020-edce-730c473310fe"
      },
      "execution_count": 65,
      "outputs": [
        {
          "output_type": "stream",
          "name": "stdout",
          "text": [
            "[0.63157895 2.        ]\n",
            "2.465373961218838\n"
          ]
        }
      ]
    },
    {
      "cell_type": "code",
      "source": [
        "exe_time_np = np.zeros(100)\n",
        "for i in range(0, 100):\n",
        "  start = time.perf_counter()\n",
        "  optimal_selection, min_mse = grid_search(k, search_range, x, y)\n",
        "  end = time.perf_counter()\n",
        "\n",
        "  exe_time = end - start\n",
        "  exe_time_np[i] = exe_time\n",
        "\n",
        "\n",
        "print(exe_time_np)\n",
        "\n",
        "# Box plot represents minimum, first quartile, median, third quartile, maximum values.\n",
        "fig = plt.figure(figsize=(10, 10))\n",
        "plt.boxplot(exe_time_np)\n",
        "plt.show()\n"
      ],
      "metadata": {
        "colab": {
          "base_uri": "https://localhost:8080/",
          "height": 887
        },
        "id": "wwmW44xskxcx",
        "outputId": "1c06c821-3149-45b5-aebc-650fee2e51a7"
      },
      "execution_count": 72,
      "outputs": [
        {
          "output_type": "stream",
          "name": "stdout",
          "text": [
            "[0.00429559 0.00320658 0.00309444 0.00311082 0.00308396 0.00307126\n",
            " 0.00304551 0.00306229 0.00306361 0.00360299 0.00308519 0.00297784\n",
            " 0.00298425 0.00300062 0.00297985 0.00296971 0.00327809 0.00315159\n",
            " 0.00302769 0.00305515 0.00307508 0.00307877 0.00308902 0.00307358\n",
            " 0.0030589  0.00309704 0.00307876 0.00310772 0.00312665 0.00377117\n",
            " 0.00322737 0.00303135 0.00300312 0.00300034 0.00304534 0.00303219\n",
            " 0.00327644 0.00306886 0.00298715 0.00341311 0.0032698  0.00319937\n",
            " 0.00308885 0.00298522 0.00296947 0.00296426 0.00300112 0.0033485\n",
            " 0.00307116 0.00336811 0.00326849 0.00327433 0.00327778 0.00306968\n",
            " 0.00310675 0.00335196 0.00306078 0.00304834 0.00311526 0.00319356\n",
            " 0.00315008 0.00325083 0.00310034 0.00305444 0.0030819  0.00309049\n",
            " 0.0030893  0.00305261 0.00304298 0.00322704 0.00314248 0.00306535\n",
            " 0.00329591 0.00335001 0.00316098 0.00316184 0.00305987 0.00306211\n",
            " 0.00303389 0.00303603 0.00308136 0.0030917  0.00352572 0.00322558\n",
            " 0.00317913 0.00308326 0.00311726 0.0031012  0.0031534  0.00311047\n",
            " 0.00313769 0.00328942 0.0035522  0.00316648 0.00303097 0.0030212\n",
            " 0.00307136 0.00299376 0.00300412 0.00300694]\n"
          ]
        },
        {
          "output_type": "display_data",
          "data": {
            "text/plain": [
              "<Figure size 720x720 with 1 Axes>"
            ],
            "image/png": "[encoded data removed]"
          },
          "metadata": {
            "needs_background": "light"
          }
        }
      ]
    },
    {
      "cell_type": "markdown",
      "source": [
        "# 3. Random Search Implementation"
      ],
      "metadata": {
        "id": "npNuoOHD8zzC"
      }
    },
    {
      "cell_type": "markdown",
      "source": [
        "# 4. References\n",
        "\n",
        "[1] https://builtin.com/data-science/boxplot"
      ],
      "metadata": {
        "id": "rz9JUm1Ms4V1"
      }
    }
  ]
}