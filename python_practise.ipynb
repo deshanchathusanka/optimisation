{
  "nbformat": 4,
  "nbformat_minor": 0,
  "metadata": {
    "colab": {
      "provenance": [],
      "collapsed_sections": []
    },
    "kernelspec": {
      "name": "python3",
      "display_name": "Python 3"
    },
    "language_info": {
      "name": "python"
    }
  },
  "cells": [
    {
      "cell_type": "markdown",
      "source": [
        "Imports"
      ],
      "metadata": {
        "id": "r4aS-M6DEok8"
      }
    },
    {
      "cell_type": "code",
      "source": [
        "import numpy as np\n",
        "import sys\n",
        "import time\n",
        "\n",
        "import matplotlib.pyplot as plt"
      ],
      "metadata": {
        "id": "ou8HCPnXkBhl"
      },
      "execution_count": null,
      "outputs": []
    },
    {
      "cell_type": "markdown",
      "source": [
        "Task 1"
      ],
      "metadata": {
        "id": "jZPJwieXfOnD"
      }
    },
    {
      "cell_type": "code",
      "execution_count": null,
      "metadata": {
        "colab": {
          "base_uri": "https://localhost:8080/"
        },
        "id": "DcpmsQcAfAMi",
        "outputId": "c03bc312-10ed-4134-d1ba-94dbb89179d0"
      },
      "outputs": [
        {
          "output_type": "stream",
          "name": "stdout",
          "text": [
            "5 : False\n",
            "122 : True\n"
          ]
        }
      ],
      "source": [
        "def is_even(x):\n",
        "  return x%2==0;\n",
        "\n",
        "############### Test ###################\n",
        "print(f'5 : {is_even(5)}')\n",
        "print(f'122 : {is_even(122)}')"
      ]
    },
    {
      "cell_type": "code",
      "source": [
        "def calculate_mark(p, m):\n",
        "  norm_p = p/100\n",
        "  mark = np.dot(norm_p, m)\n",
        "  return mark\n",
        "\n",
        "############### Test ###################\n",
        "p = np.asarray([40, 60])\n",
        "m = np.asarray([80, 70])\n",
        "print(calculate_mark(p, m))"
      ],
      "metadata": {
        "colab": {
          "base_uri": "https://localhost:8080/"
        },
        "id": "EChLSYqShJ6V",
        "outputId": "f48054f6-b7c8-449d-ccf0-0d4f085b3f31"
      },
      "execution_count": null,
      "outputs": [
        {
          "output_type": "stream",
          "name": "stdout",
          "text": [
            "74.0\n"
          ]
        }
      ]
    },
    {
      "cell_type": "code",
      "source": [
        "def max(data_np):\n",
        "  max_value = -sys.maxsize\n",
        "  for item in data_np:\n",
        "    if(item > max_value):\n",
        "      max_value = item\n",
        "  return max_value\n",
        "\n",
        "def recursive_max(data_np):\n",
        "  max_value = -sys.maxsize\n",
        "\n",
        "  if(data_np.size == 1):\n",
        "    return data_np[0]\n",
        "  \n",
        "  first_item = data_np[0]\n",
        "  max_other_items = recursive_max(data_np[1:])\n",
        "\n",
        "  if(first_item > max_other_items):\n",
        "    max_value = first_item\n",
        "  else:\n",
        "    max_value = max_other_items\n",
        "  \n",
        "  return max_value\n",
        "\n",
        "############### Test ###################\n",
        "data_np = np.asarray([1, 19, 2, 3, 4, 100])\n",
        "start = time.time()\n",
        "max_value = recursive_max(data_np)\n",
        "end = time.time()\n",
        "print(f'Maximum value of [1, 19, 2, 3, 4, 100] : {max_value}')\n",
        "print(f'Time complexity : {end-start}')\n",
        "\n",
        "start = time.time()\n",
        "max_value = max(data_np)\n",
        "end = time.time()\n",
        "print(f'Maximum value of [1, 19, 2, 3, 4, 100] : {max_value}')\n",
        "print(f'Time complexity : {end-start}')"
      ],
      "metadata": {
        "colab": {
          "base_uri": "https://localhost:8080/"
        },
        "id": "INe-2TiQc08p",
        "outputId": "75963a83-a570-4d94-e2a0-85627248dff4"
      },
      "execution_count": null,
      "outputs": [
        {
          "output_type": "stream",
          "name": "stdout",
          "text": [
            "Maximum value of [1, 19, 2, 3, 4, 100] : 100\n",
            "Time complexity : 9.393692016601562e-05\n",
            "Maximum value of [1, 19, 2, 3, 4, 100] : 100\n",
            "Time complexity : 0.0001647472381591797\n"
          ]
        }
      ]
    },
    {
      "cell_type": "code",
      "source": [
        "def make_uniform_grid(m, n):\n",
        "  uniform_grid = np.zeros((m, n))\n",
        "\n",
        "  for index_m in range(0, m):\n",
        "    for index_n in range(0, n):\n",
        "      uniform_grid[index_m][index_n] = np.random.uniform(20, 50)\n",
        "\n",
        "  return uniform_grid\n",
        "\n",
        "uniform_grid = make_uniform_grid(10, 2)\n",
        "print(uniform_grid)"
      ],
      "metadata": {
        "colab": {
          "base_uri": "https://localhost:8080/"
        },
        "id": "_iGiIt9lC9UC",
        "outputId": "66f868eb-0615-4f37-c50a-877210978247"
      },
      "execution_count": null,
      "outputs": [
        {
          "output_type": "stream",
          "name": "stdout",
          "text": [
            "[[38.65549843 35.09546298]\n",
            " [44.47337364 44.62651175]\n",
            " [29.41784294 20.08962093]\n",
            " [26.21059885 21.08869374]\n",
            " [47.41411744 49.85513593]\n",
            " [24.30084263 24.45081317]\n",
            " [44.31090201 40.44879771]\n",
            " [44.57837328 20.17651853]\n",
            " [36.56970012 26.90439347]\n",
            " [31.09961938 31.61076486]]\n"
          ]
        }
      ]
    },
    {
      "cell_type": "code",
      "source": [
        "def get_fibonacci(n):\n",
        "  if(n == 0):\n",
        "    return 0\n",
        "  elif(n == 1):\n",
        "    return 1\n",
        "  else:\n",
        "    return get_fibonacci(n-2) + get_fibonacci(n-1)\n",
        "  \n",
        "############### Test ###################\n",
        "print(f'Fibonacci Number(n=10) : {get_fibonacci(10)}')\n"
      ],
      "metadata": {
        "colab": {
          "base_uri": "https://localhost:8080/"
        },
        "id": "JcESHXsn-Jm7",
        "outputId": "b517aa11-3818-45f3-e73c-e7b80d2637aa"
      },
      "execution_count": null,
      "outputs": [
        {
          "output_type": "stream",
          "name": "stdout",
          "text": [
            "Fibonacci Number(n=10) : 55\n"
          ]
        }
      ]
    },
    {
      "cell_type": "markdown",
      "source": [
        "Task 2"
      ],
      "metadata": {
        "id": "Jk--0W4afRa0"
      }
    },
    {
      "cell_type": "code",
      "source": [
        "x = [i for i in range(0, 10)]\n",
        "y = [get_fibonacci(n) for n in x]\n",
        "\n",
        "plt.figure()\n",
        "plt.plot(x,y)\n",
        "plt.show()"
      ],
      "metadata": {
        "colab": {
          "base_uri": "https://localhost:8080/",
          "height": 265
        },
        "id": "0lw_8C-nfS5U",
        "outputId": "e856f291-9be7-416f-f670-f4e769f7fcce"
      },
      "execution_count": null,
      "outputs": [
        {
          "output_type": "display_data",
          "data": {
            "text/plain": [
              "<Figure size 432x288 with 1 Axes>"
            ],
            "image/png": "[encoded data removed]"
          },
          "metadata": {
            "needs_background": "light"
          }
        }
      ]
    }
  ]
}